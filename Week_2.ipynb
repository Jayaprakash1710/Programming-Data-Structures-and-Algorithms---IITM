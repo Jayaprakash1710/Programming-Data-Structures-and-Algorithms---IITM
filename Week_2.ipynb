{
  "nbformat": 4,
  "nbformat_minor": 0,
  "metadata": {
    "colab": {
      "provenance": [],
      "collapsed_sections": [
        "M7B3-zKwycLn",
        "Iv7HRxs87NVi"
      ],
      "toc_visible": true,
      "authorship_tag": "ABX9TyNEbaoCaebR9Qx+X6g8m2zr",
      "include_colab_link": true
    },
    "kernelspec": {
      "name": "python3",
      "display_name": "Python 3"
    },
    "language_info": {
      "name": "python"
    }
  },
  "cells": [
    {
      "cell_type": "markdown",
      "metadata": {
        "id": "view-in-github",
        "colab_type": "text"
      },
      "source": [
        "<a href=\"https://colab.research.google.com/github/Jayaprakash1710/Programming-Data-Structures-and-Algorithms---IITM/blob/main/Week_2.ipynb\" target=\"_parent\"><img src=\"https://colab.research.google.com/assets/colab-badge.svg\" alt=\"Open In Colab\"/></a>"
      ]
    },
    {
      "cell_type": "markdown",
      "source": [
        "# Lecture-1: Analysis of Algorithms"
      ],
      "metadata": {
        "id": "m2-xK7QGbHwQ"
      }
    },
    {
      "cell_type": "code",
      "execution_count": null,
      "metadata": {
        "id": "sbef2qenaWgf"
      },
      "outputs": [],
      "source": []
    },
    {
      "cell_type": "markdown",
      "source": [
        "# Lecture-3: Calculating complexity"
      ],
      "metadata": {
        "id": "zbTj2YPEtAD_"
      }
    },
    {
      "cell_type": "markdown",
      "source": [
        "## **Maximum of a list: O(n)**\n",
        "\n",
        "Worst case: O(n)\n",
        "\n",
        "Every case: O(n)"
      ],
      "metadata": {
        "id": "HJF411VMtPH_"
      }
    },
    {
      "cell_type": "code",
      "source": [
        "def maxelement(L):\n",
        "  max_val=0\n",
        "  for i in L:\n",
        "    if i>max_val:\n",
        "      max_val=i\n",
        "  return max_val"
      ],
      "metadata": {
        "id": "Th8dAAs4tMD-"
      },
      "execution_count": null,
      "outputs": []
    },
    {
      "cell_type": "code",
      "source": [
        "print(maxelement([9,6,5,5,2,8,6,9,3,3]))"
      ],
      "metadata": {
        "colab": {
          "base_uri": "https://localhost:8080/"
        },
        "id": "FV-w3AFptubP",
        "outputId": "6d9c95bc-b483-4a07-d500-31e5671d9055"
      },
      "execution_count": null,
      "outputs": [
        {
          "output_type": "stream",
          "name": "stdout",
          "text": [
            "9\n"
          ]
        }
      ]
    },
    {
      "cell_type": "markdown",
      "source": [
        "## **Duplicates:O(n^2)**"
      ],
      "metadata": {
        "id": "wtpjF9Y9ujRY"
      }
    },
    {
      "cell_type": "code",
      "source": [
        "def no_duplicates(L):\n",
        "  for i in range(len(L)-1):\n",
        "    for j in range(i+1,len(L)):\n",
        "      if L[i]==L[j]:\n",
        "        return False\n",
        "  return True"
      ],
      "metadata": {
        "id": "lzG8DUFPt88-"
      },
      "execution_count": null,
      "outputs": []
    },
    {
      "cell_type": "code",
      "source": [
        "print(no_duplicates([1,2,3,4,5,6,7,8,9,0]))\n",
        "print(no_duplicates([9,6,5,5,2,8,6,9,3,3]))"
      ],
      "metadata": {
        "colab": {
          "base_uri": "https://localhost:8080/"
        },
        "id": "9VgdlVfyvUED",
        "outputId": "acb09f92-40c5-4aeb-9b9e-9df38bc7dda8"
      },
      "execution_count": null,
      "outputs": [
        {
          "output_type": "stream",
          "name": "stdout",
          "text": [
            "True\n",
            "False\n"
          ]
        }
      ]
    },
    {
      "cell_type": "markdown",
      "source": [
        "## **Matrix Multiplication: O(mnp), O(n^3) in case of square matrix**"
      ],
      "metadata": {
        "id": "rw8LB-EDwuYp"
      }
    },
    {
      "cell_type": "code",
      "source": [
        "A=[\n",
        "    [1,2,3],\n",
        "    [4,5,6]\n",
        "]\n",
        "\n",
        "B=[\n",
        "    [1,4],\n",
        "    [2,5],\n",
        "    [3,6]\n",
        "]"
      ],
      "metadata": {
        "id": "jWLHFLc8vfFP"
      },
      "execution_count": null,
      "outputs": []
    },
    {
      "cell_type": "code",
      "source": [
        "m=len(A)\n",
        "n=len(B)\n",
        "p=len(B[0])\n",
        "c=[[],[]]\n",
        "for i in range(len(A)):\n",
        "  for j in range(len(A)):\n"
      ],
      "metadata": {
        "id": "yKzDD1rCxShx"
      },
      "execution_count": null,
      "outputs": []
    },
    {
      "cell_type": "markdown",
      "source": [
        "## **Bits in binary representation: O(log(n))**"
      ],
      "metadata": {
        "id": "_faJA5cSLJoJ"
      }
    },
    {
      "cell_type": "code",
      "source": [
        "def numberofbits(n):\n",
        "  count=1\n",
        "  while n>1:\n",
        "    n=n//2\n",
        "    count+=1\n",
        "  return count"
      ],
      "metadata": {
        "id": "4QC1pLP-LXiI"
      },
      "execution_count": 1,
      "outputs": []
    },
    {
      "cell_type": "code",
      "source": [
        "print(numberofbits(30))\n",
        "print(numberofbits(343))\n",
        "print(numberofbits(2))\n",
        "print(numberofbits(1024))"
      ],
      "metadata": {
        "colab": {
          "base_uri": "https://localhost:8080/"
        },
        "id": "KjOg2wccoKkf",
        "outputId": "ce7e6896-fd40-4c49-d61c-d681b08dc50d"
      },
      "execution_count": 3,
      "outputs": [
        {
          "output_type": "stream",
          "name": "stdout",
          "text": [
            "5\n",
            "9\n",
            "2\n",
            "11\n"
          ]
        }
      ]
    },
    {
      "cell_type": "markdown",
      "source": [
        "## **Towers of Hanoi:**"
      ],
      "metadata": {
        "id": "RBG1Iad6pvL_"
      }
    },
    {
      "cell_type": "code",
      "source": [],
      "metadata": {
        "id": "IxblTrg9oPCt"
      },
      "execution_count": null,
      "outputs": []
    },
    {
      "cell_type": "markdown",
      "source": [
        "# Activity:2.1"
      ],
      "metadata": {
        "id": "mSsJ5V9WM2Gj"
      }
    },
    {
      "cell_type": "code",
      "source": [],
      "metadata": {
        "id": "ewkghJYJM5uN"
      },
      "execution_count": null,
      "outputs": []
    },
    {
      "cell_type": "markdown",
      "source": [
        "# Lecture-2.4: Searching in a List"
      ],
      "metadata": {
        "id": "P2M4xbNgM-tF"
      }
    },
    {
      "cell_type": "markdown",
      "source": [
        "## **Naive Search: O(n)**"
      ],
      "metadata": {
        "id": "aBbE9ytlNYUm"
      }
    },
    {
      "cell_type": "code",
      "source": [
        "def naivesearch(L,N):\n",
        "  for i in L:\n",
        "    if i==N:\n",
        "      return True\n",
        "  return False"
      ],
      "metadata": {
        "id": "tCOGRo26NGkO"
      },
      "execution_count": 3,
      "outputs": []
    },
    {
      "cell_type": "code",
      "source": [
        "print(naivesearch([1,2,3,4,5,6,7,8,9],11))\n",
        "print(naivesearch([9,6,5,5,2,8,6,9,3,3],8))"
      ],
      "metadata": {
        "colab": {
          "base_uri": "https://localhost:8080/"
        },
        "id": "gOkvUpIhNnZf",
        "outputId": "46ecd1b0-4aea-487e-a4d6-915a0f58f3fe"
      },
      "execution_count": 4,
      "outputs": [
        {
          "output_type": "stream",
          "name": "stdout",
          "text": [
            "False\n",
            "True\n"
          ]
        }
      ]
    },
    {
      "cell_type": "markdown",
      "source": [
        "## **Binary Search:**"
      ],
      "metadata": {
        "id": "FekKUE17OjxU"
      }
    },
    {
      "cell_type": "markdown",
      "source": [
        "**Non recursive**"
      ],
      "metadata": {
        "id": "p3ufwDkVnb6R"
      }
    },
    {
      "cell_type": "code",
      "source": [
        "def binarysearch(L,N):\n",
        "  while len(L)>0:\n",
        "    m=len(L)//2\n",
        "    if L[m]==N:\n",
        "      return True\n",
        "    else:\n",
        "      if N<L[m]:\n",
        "        L=L[:m]\n",
        "      else:\n",
        "        L=L[m+1:]\n",
        "  return False"
      ],
      "metadata": {
        "id": "fMWhFMdvN1G9"
      },
      "execution_count": 16,
      "outputs": []
    },
    {
      "cell_type": "code",
      "source": [
        "print(binarysearch([1,2,3,4,5,6,7,8,9],11))\n",
        "print(binarysearch([9,6,5,5,2,8,6,9,3,3],8))"
      ],
      "metadata": {
        "colab": {
          "base_uri": "https://localhost:8080/"
        },
        "id": "qCduUZYimHVW",
        "outputId": "18f715b2-e938-49f0-95e3-92e3c0bfce79"
      },
      "execution_count": 17,
      "outputs": [
        {
          "output_type": "stream",
          "name": "stdout",
          "text": [
            "False\n",
            "True\n"
          ]
        }
      ]
    },
    {
      "cell_type": "markdown",
      "source": [
        "**Recursive**"
      ],
      "metadata": {
        "id": "PmcnilkenfeI"
      }
    },
    {
      "cell_type": "code",
      "source": [
        "def rec_binaryseach(L,N):\n",
        "  if L==[]:\n",
        "    return False\n",
        "  m=len(L)//2\n",
        "  if N==L[m]:\n",
        "    return True\n",
        "  elif N<L[m]:\n",
        "    return rec_binaryseach(L[:m],N)\n",
        "  else:\n",
        "    return rec_binaryseach(L[m+1:],N)"
      ],
      "metadata": {
        "id": "sKmejtjKm8Vm"
      },
      "execution_count": 10,
      "outputs": []
    },
    {
      "cell_type": "code",
      "source": [
        "print(rec_binaryseach([1,2,3,4,5,6,7,8,9],11))\n",
        "print(rec_binaryseach([9,6,5,5,2,8,6,9,3,3],8))"
      ],
      "metadata": {
        "colab": {
          "base_uri": "https://localhost:8080/"
        },
        "id": "AAf0PIroo423",
        "outputId": "4bc58443-a669-443b-eb04-8db966e0bdce"
      },
      "execution_count": 11,
      "outputs": [
        {
          "output_type": "stream",
          "name": "stdout",
          "text": [
            "False\n",
            "True\n"
          ]
        }
      ]
    },
    {
      "cell_type": "markdown",
      "source": [
        "# Activity: 2.2"
      ],
      "metadata": {
        "id": "M7B3-zKwycLn"
      }
    },
    {
      "cell_type": "markdown",
      "source": [
        "## Question-2\n",
        "\n",
        "How many iterations will Binary Search take to find an element in a sorted array of size n=32 in the worst case?"
      ],
      "metadata": {
        "id": "aWcPSn6RzBOY"
      }
    },
    {
      "cell_type": "code",
      "source": [
        "def binary_q2(count,L,N):\n",
        "  count=count\n",
        "  if L==[]:\n",
        "    print(count)\n",
        "    return False\n",
        "  m=len(L)//2\n",
        "  if N==L[m]:\n",
        "    print(count)\n",
        "    return True\n",
        "  elif N<L[m]:\n",
        "    count+=1\n",
        "    return binary_q2(count,L[:m],N)\n",
        "  else:\n",
        "    count+=1\n",
        "    return binary_q2(count,L[m+1:],N)"
      ],
      "metadata": {
        "id": "AdqV70xLo9mX"
      },
      "execution_count": 29,
      "outputs": []
    },
    {
      "cell_type": "code",
      "source": [
        "print(binary_q2(1,[i for i in range(1,33)],32))"
      ],
      "metadata": {
        "colab": {
          "base_uri": "https://localhost:8080/"
        },
        "id": "9rddURaD0esQ",
        "outputId": "4b7892fc-f011-4bda-e4fc-ea07beaacc5c"
      },
      "execution_count": 31,
      "outputs": [
        {
          "output_type": "stream",
          "name": "stdout",
          "text": [
            "5\n",
            "True\n"
          ]
        }
      ]
    },
    {
      "cell_type": "markdown",
      "source": [
        "## Question-3\n",
        "\n",
        "If L=[2,5,8,12,16,23,38] and v=16 , what index value of mid is returned in the first iteration of Binary Search?"
      ],
      "metadata": {
        "id": "gSGtB9nQ4hDQ"
      }
    },
    {
      "cell_type": "code",
      "source": [
        "def binary_q3(L,N):\n",
        "  if L==[]:\n",
        "    return False\n",
        "  m=len(L)//2\n",
        "  return m"
      ],
      "metadata": {
        "id": "xa3QaP0o0q9_"
      },
      "execution_count": 33,
      "outputs": []
    },
    {
      "cell_type": "code",
      "source": [
        "print(binary_q3([2,5,8,12,16,23,38],16))"
      ],
      "metadata": {
        "colab": {
          "base_uri": "https://localhost:8080/"
        },
        "id": "Tm_CuLoL5KVd",
        "outputId": "50a05f19-8f99-4416-9769-3e44a84b07d6"
      },
      "execution_count": 34,
      "outputs": [
        {
          "output_type": "stream",
          "name": "stdout",
          "text": [
            "3\n"
          ]
        }
      ]
    },
    {
      "cell_type": "code",
      "source": [],
      "metadata": {
        "id": "QOsoz2645XEN"
      },
      "execution_count": null,
      "outputs": []
    },
    {
      "cell_type": "markdown",
      "source": [
        "# Lecture-2.5: Selection sort"
      ],
      "metadata": {
        "id": "Iv7HRxs87NVi"
      }
    },
    {
      "cell_type": "code",
      "source": [],
      "metadata": {
        "id": "p4oYLcNhna_s"
      },
      "execution_count": null,
      "outputs": []
    },
    {
      "cell_type": "markdown",
      "source": [
        "# Activity: 2.3"
      ],
      "metadata": {
        "id": "frf6MFMIoCGe"
      }
    },
    {
      "cell_type": "code",
      "source": [],
      "metadata": {
        "id": "au0mf7l9oH7d"
      },
      "execution_count": null,
      "outputs": []
    },
    {
      "cell_type": "markdown",
      "source": [
        "# Lecture-2.6: Insertion sort"
      ],
      "metadata": {
        "id": "9BOcI6tcnUeW"
      }
    },
    {
      "cell_type": "markdown",
      "source": [
        "## Non-recursive"
      ],
      "metadata": {
        "id": "M3_7PiiL7wXE"
      }
    },
    {
      "cell_type": "code",
      "source": [
        "def insertion_sort(L):\n",
        "  for i in range(1,len(L)):\n",
        "    key=L[i]\n",
        "    j=i\n",
        "    while j>0 and key<L[j-1]:\n",
        "      L[j],L[j-1]=L[j-1],key\n",
        "      j-=1\n",
        "  return L"
      ],
      "metadata": {
        "id": "xQjFYf2k7UdW"
      },
      "execution_count": 3,
      "outputs": []
    },
    {
      "cell_type": "code",
      "source": [
        "print(insertion_sort([1,2,3,4,5,6,7,8,9]))\n",
        "print(insertion_sort([9,6,5,5,2,8,6,9,3,3]))\n",
        "print(insertion_sort([4,3,2,10,12,1,5,6]))\n",
        "print(insertion_sort([74,32,89,55,21,64]))\n",
        "print(insertion_sort([9,7,8,7,9,0,5,2,5,5]))\n",
        "print(insertion_sort([9,8,7,6,5,4,3,2,1,0]))"
      ],
      "metadata": {
        "colab": {
          "base_uri": "https://localhost:8080/"
        },
        "id": "2F1qMFP1T2UI",
        "outputId": "a14ef561-1302-4f49-faa7-f1dc1a6036a2"
      },
      "execution_count": 5,
      "outputs": [
        {
          "output_type": "stream",
          "name": "stdout",
          "text": [
            "[1, 2, 3, 4, 5, 6, 7, 8, 9]\n",
            "[2, 3, 3, 5, 5, 6, 6, 8, 9, 9]\n",
            "[1, 2, 3, 4, 5, 6, 10, 12]\n",
            "[21, 32, 55, 64, 74, 89]\n",
            "[0, 2, 5, 5, 5, 7, 7, 8, 9, 9]\n",
            "[0, 1, 2, 3, 4, 5, 6, 7, 8, 9]\n"
          ]
        }
      ]
    },
    {
      "cell_type": "markdown",
      "source": [
        "## Recursive"
      ],
      "metadata": {
        "id": "uiyjrgSG7quW"
      }
    },
    {
      "cell_type": "code",
      "source": [],
      "metadata": {
        "id": "rvPDs-yW8lr_"
      },
      "execution_count": null,
      "outputs": []
    },
    {
      "cell_type": "markdown",
      "source": [
        "# Activity:2.4"
      ],
      "metadata": {
        "id": "NIl4zl0l73LZ"
      }
    },
    {
      "cell_type": "code",
      "source": [],
      "metadata": {
        "id": "chc77Z-EUS0I"
      },
      "execution_count": null,
      "outputs": []
    },
    {
      "cell_type": "markdown",
      "source": [
        "# Lecture-2.7: Merge sort"
      ],
      "metadata": {
        "id": "fwAJ7bub9RaY"
      }
    },
    {
      "cell_type": "code",
      "source": [],
      "metadata": {
        "id": "08qEb4s69ZSL"
      },
      "execution_count": null,
      "outputs": []
    }
  ]
}
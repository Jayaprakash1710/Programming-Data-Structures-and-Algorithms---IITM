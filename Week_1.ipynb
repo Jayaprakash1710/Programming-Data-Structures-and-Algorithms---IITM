{
  "cells": [
    {
      "cell_type": "markdown",
      "metadata": {
        "id": "view-in-github",
        "colab_type": "text"
      },
      "source": [
        "<a href=\"https://colab.research.google.com/github/Jayaprakash1710/Programming-Data-Structures-and-Algorithms---IITM/blob/main/Week_1.ipynb\" target=\"_parent\"><img src=\"https://colab.research.google.com/assets/colab-badge.svg\" alt=\"Open In Colab\"/></a>"
      ]
    },
    {
      "cell_type": "markdown",
      "metadata": {
        "id": "-J7DjwDFO_6m"
      },
      "source": [
        "# Lecture-1: Intro to jupyter noteboook and colab"
      ]
    },
    {
      "cell_type": "markdown",
      "metadata": {
        "id": "xqySJ_FUQ1MP"
      },
      "source": [
        "www.kaggle.org - Kaggle link\n",
        "\n",
        "www.markdownguide.org - Jupyter notebook guide"
      ]
    },
    {
      "cell_type": "markdown",
      "metadata": {
        "id": "dohlEiwBR9lp"
      },
      "source": [
        "# Lecture-2: Implementation of Python code"
      ]
    },
    {
      "cell_type": "markdown",
      "source": [
        "## Compute primes from 1 to 100"
      ],
      "metadata": {
        "id": "iO0tbxbqW2in"
      }
    },
    {
      "cell_type": "code",
      "execution_count": 1,
      "metadata": {
        "id": "NNZGGwX5K8De"
      },
      "outputs": [],
      "source": [
        "def factors(n):\n",
        "  factorslist=[]\n",
        "  for i in range(1,n+1):\n",
        "    if n%i==0:\n",
        "      factorslist.append(i)\n",
        "  return factorslist"
      ]
    },
    {
      "cell_type": "code",
      "source": [
        "def prime(n):\n",
        "  return factors(n)==[1,n]"
      ],
      "metadata": {
        "id": "AIfPcMVGXnBI"
      },
      "execution_count": 14,
      "outputs": []
    },
    {
      "cell_type": "code",
      "source": [
        "primelist=[]\n",
        "for i in range(1,100):\n",
        "  if prime(i):\n",
        "    primelist.append(i)"
      ],
      "metadata": {
        "id": "d3942Ej5Xmp2"
      },
      "execution_count": 16,
      "outputs": []
    },
    {
      "cell_type": "code",
      "source": [
        "print(primelist)"
      ],
      "metadata": {
        "colab": {
          "base_uri": "https://localhost:8080/"
        },
        "id": "Z-Jbf9yIY0rP",
        "outputId": "fe1a95da-4bd3-4a6c-8082-2197193354ed"
      },
      "execution_count": 17,
      "outputs": [
        {
          "output_type": "stream",
          "name": "stdout",
          "text": [
            "[2, 3, 5, 7, 11, 13, 17, 19, 23, 29, 31, 37, 41, 43, 47, 53, 59, 61, 67, 71, 73, 79, 83, 89, 97]\n"
          ]
        }
      ]
    },
    {
      "cell_type": "markdown",
      "metadata": {
        "id": "xiCFNFKATmIr"
      },
      "source": [
        "# Lecture-3: Python Recap - 1"
      ]
    },
    {
      "cell_type": "markdown",
      "metadata": {
        "id": "2zyDAr7DUzBf"
      },
      "source": [
        "GCD of 2 numbers"
      ]
    },
    {
      "cell_type": "code",
      "execution_count": null,
      "metadata": {
        "id": "0oicImTRT2uf"
      },
      "outputs": [],
      "source": [
        "#my code\n",
        "def gcd(m,n):\n",
        "  m_factors=[]\n",
        "  n_factors=[]\n",
        "  for i in range(1,m+1):\n",
        "    if m%i==0:\n",
        "      m_factors.append(i)\n",
        "\n",
        "  for i in range(1,n+1):\n",
        "    if n%i==0:\n",
        "     n_factors.append(i)\n",
        "\n",
        "  common_factors=[]\n",
        "  for i in m_factors:\n",
        "    if i in n_factors:\n",
        "      common_factors.append(i)\n",
        "  return(max(common_factors))"
      ]
    },
    {
      "cell_type": "code",
      "execution_count": null,
      "metadata": {
        "colab": {
          "base_uri": "https://localhost:8080/"
        },
        "id": "62RfnV_6WoCf",
        "outputId": "7d21ad16-3fb0-47c1-daf9-d8c94e9e8ec3"
      },
      "outputs": [
        {
          "name": "stdout",
          "output_type": "stream",
          "text": [
            "4\n",
            "1\n"
          ]
        }
      ],
      "source": [
        "print(gcd(8,12))\n",
        "print(gcd(18,25))"
      ]
    },
    {
      "cell_type": "code",
      "execution_count": null,
      "metadata": {
        "id": "qB5u_k40XLbA"
      },
      "outputs": [],
      "source": [
        "#instructor's code\n",
        "def gcd_i(m,n):\n",
        "  cf=[]\n",
        "  for i in range(1,min(m,n)+1):\n",
        "    if m%i==0 and n%i==0:\n",
        "      cf.append(i)\n",
        "  return max(cf)"
      ]
    },
    {
      "cell_type": "code",
      "execution_count": null,
      "metadata": {
        "colab": {
          "background_save": true
        },
        "id": "2yNmJcftXn__",
        "outputId": "ae4d757a-e871-4936-b666-4ae3b4690510"
      },
      "outputs": [
        {
          "name": "stdout",
          "output_type": "stream",
          "text": [
            "4\n",
            "1\n"
          ]
        }
      ],
      "source": [
        "print(gcd_i(8,12))\n",
        "print(gcd_i(18,25))"
      ]
    },
    {
      "cell_type": "markdown",
      "metadata": {
        "id": "fE9cyuBITwh-"
      },
      "source": [
        "#Lecture-4: Python Recap - 2"
      ]
    },
    {
      "cell_type": "code",
      "execution_count": null,
      "metadata": {
        "id": "04ebkFiGT4Sw"
      },
      "outputs": [],
      "source": []
    },
    {
      "cell_type": "code",
      "source": [],
      "metadata": {
        "id": "4aeMONpsfDfQ"
      },
      "execution_count": null,
      "outputs": []
    },
    {
      "cell_type": "markdown",
      "source": [
        "# Lecture-7: Classes and Objects"
      ],
      "metadata": {
        "id": "q6Wj_zpZfjVf"
      }
    },
    {
      "cell_type": "code",
      "source": [],
      "metadata": {
        "id": "IVTRzCtNfn0v"
      },
      "execution_count": null,
      "outputs": []
    },
    {
      "cell_type": "code",
      "source": [],
      "metadata": {
        "id": "jBgpMQi5fRRI"
      },
      "execution_count": null,
      "outputs": []
    },
    {
      "cell_type": "code",
      "source": [],
      "metadata": {
        "id": "g1wB5oF8fbGH"
      },
      "execution_count": null,
      "outputs": []
    }
  ],
  "metadata": {
    "colab": {
      "toc_visible": true,
      "provenance": [],
      "authorship_tag": "ABX9TyPKB/XijjuKjouuMFyBbEBo",
      "include_colab_link": true
    },
    "kernelspec": {
      "display_name": "Python 3",
      "name": "python3"
    },
    "language_info": {
      "name": "python"
    }
  },
  "nbformat": 4,
  "nbformat_minor": 0
}
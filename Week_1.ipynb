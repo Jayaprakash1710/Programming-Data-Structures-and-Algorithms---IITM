{
  "cells": [
    {
      "cell_type": "markdown",
      "metadata": {
        "id": "view-in-github",
        "colab_type": "text"
      },
      "source": [
        "<a href=\"https://colab.research.google.com/github/Jayaprakash1710/Programming-Data-Structures-and-Algorithms---IITM/blob/main/Week_1.ipynb\" target=\"_parent\"><img src=\"https://colab.research.google.com/assets/colab-badge.svg\" alt=\"Open In Colab\"/></a>"
      ]
    },
    {
      "cell_type": "markdown",
      "metadata": {
        "id": "-J7DjwDFO_6m"
      },
      "source": [
        "# Lecture-1: Intro to jupyter noteboook and colab"
      ]
    },
    {
      "cell_type": "markdown",
      "metadata": {
        "id": "xqySJ_FUQ1MP"
      },
      "source": [
        "www.kaggle.org - Kaggle link\n",
        "\n",
        "www.markdownguide.org - Jupyter notebook guide"
      ]
    },
    {
      "cell_type": "markdown",
      "metadata": {
        "id": "dohlEiwBR9lp"
      },
      "source": [
        "# Lecture-2: Implementation of Python codes -1"
      ]
    },
    {
      "cell_type": "markdown",
      "metadata": {
        "id": "iO0tbxbqW2in"
      },
      "source": [
        "## Compute primes from 1 to 100"
      ]
    },
    {
      "cell_type": "code",
      "execution_count": null,
      "metadata": {
        "id": "NNZGGwX5K8De"
      },
      "outputs": [],
      "source": [
        "def factors(n):\n",
        "  factorslist=[]\n",
        "  for i in range(1,n+1):\n",
        "    if n%i==0:\n",
        "      factorslist.append(i)\n",
        "  return factorslist"
      ]
    },
    {
      "cell_type": "code",
      "execution_count": null,
      "metadata": {
        "id": "AIfPcMVGXnBI"
      },
      "outputs": [],
      "source": [
        "def prime(n):\n",
        "  return factors(n)==[1,n]"
      ]
    },
    {
      "cell_type": "code",
      "execution_count": null,
      "metadata": {
        "id": "d3942Ej5Xmp2"
      },
      "outputs": [],
      "source": [
        "primelist=[]\n",
        "for i in range(1,100):\n",
        "  if prime(i):\n",
        "    primelist.append(i)"
      ]
    },
    {
      "cell_type": "code",
      "execution_count": null,
      "metadata": {
        "id": "Z-Jbf9yIY0rP"
      },
      "outputs": [],
      "source": [
        "print(primelist)"
      ]
    },
    {
      "cell_type": "markdown",
      "metadata": {
        "id": "xJM2l4VCcjbQ"
      },
      "source": [
        "## Visualization:"
      ]
    },
    {
      "cell_type": "code",
      "execution_count": null,
      "metadata": {
        "id": "7VGGFL6qci_3"
      },
      "outputs": [],
      "source": [
        "import matplotlib.pyplot as plt\n",
        "import numpy as np\n",
        "\n",
        "t=np.arange(0.0,2.0,0.01)\n",
        "s=1+np.cos(2*np.pi*t)\n",
        "\n",
        "plt.plot(t,s)\n",
        "plt.show()"
      ]
    },
    {
      "cell_type": "markdown",
      "metadata": {
        "id": "xiCFNFKATmIr"
      },
      "source": [
        "# Lecture-3: Python Recap - 1"
      ]
    },
    {
      "cell_type": "markdown",
      "metadata": {
        "id": "2zyDAr7DUzBf"
      },
      "source": [
        "## GCD of 2 numbers"
      ]
    },
    {
      "cell_type": "code",
      "execution_count": null,
      "metadata": {
        "id": "FQkG9RvFhgH2"
      },
      "outputs": [],
      "source": [
        "def gcd(m,n):\n",
        "  common_factors=[]\n",
        "  for i in range(1,min(m,n)+1):\n",
        "    if m%i==0 and n%i==0:\n",
        "      common_factors.append(i)\n",
        "  return common_factors[-1]"
      ]
    },
    {
      "cell_type": "code",
      "execution_count": null,
      "metadata": {
        "id": "l1niCd6qibvW"
      },
      "outputs": [],
      "source": [
        "print(gcd(18,25))\n",
        "print(gcd(12,24))"
      ]
    },
    {
      "cell_type": "markdown",
      "metadata": {
        "id": "U8ix-dMrjsBL"
      },
      "source": [
        "**Eliminating the need of list:**"
      ]
    },
    {
      "cell_type": "code",
      "execution_count": null,
      "metadata": {
        "id": "Sr5eE5uyjvgT"
      },
      "outputs": [],
      "source": [
        "def gcd(m,n):\n",
        "  for i in range(1,min(m,n)+1):\n",
        "    if m%i==0 and n%i==0:\n",
        "      most_recent_common_factor=i\n",
        "  return most_recent_common_factor"
      ]
    },
    {
      "cell_type": "code",
      "execution_count": null,
      "metadata": {
        "id": "6rAb9Sk9jvSG"
      },
      "outputs": [],
      "source": [
        "print(gcd(18,25))\n",
        "print(gcd(12,24))"
      ]
    },
    {
      "cell_type": "markdown",
      "metadata": {
        "id": "fE9cyuBITwh-"
      },
      "source": [
        "#Lecture-4: Python Recap - 2"
      ]
    },
    {
      "cell_type": "markdown",
      "metadata": {
        "id": "hToRHXKBmTj-"
      },
      "source": [
        "Refer lecture-2 codes for prime number"
      ]
    },
    {
      "cell_type": "markdown",
      "metadata": {
        "id": "2dLri0Mfm8ul"
      },
      "source": [
        "## firstprimes:"
      ]
    },
    {
      "cell_type": "code",
      "execution_count": null,
      "metadata": {
        "id": "04ebkFiGT4Sw"
      },
      "outputs": [],
      "source": [
        "def firstprimes(m):\n",
        "  count=0\n",
        "  pl=[]\n",
        "  i=1\n",
        "  while count<m:\n",
        "    if prime(i):\n",
        "      pl.append(i)\n",
        "      count+=1\n",
        "    i+=1\n",
        "  return pl"
      ]
    },
    {
      "cell_type": "code",
      "execution_count": null,
      "metadata": {
        "id": "4aeMONpsfDfQ"
      },
      "outputs": [],
      "source": [
        "firstprimes(10)"
      ]
    },
    {
      "cell_type": "markdown",
      "metadata": {
        "id": "fHO8B8-toeFE"
      },
      "source": [
        "**Note:** In for loop we know advance the number of iterations we are going to run. We use while loop when we do not know the number of iterations."
      ]
    },
    {
      "cell_type": "markdown",
      "metadata": {
        "id": "OgzO-lr7plh0"
      },
      "source": [
        "**Direct check without finding factors:**"
      ]
    },
    {
      "cell_type": "code",
      "execution_count": null,
      "metadata": {
        "id": "mrMLg_FCpvc-"
      },
      "outputs": [],
      "source": [
        "def direct_prime_check(n):\n",
        "  result=True\n",
        "  for i in range(2,n):\n",
        "    if n%i==0:\n",
        "      result=False\n",
        "  return result"
      ]
    },
    {
      "cell_type": "code",
      "execution_count": null,
      "metadata": {
        "colab": {
          "base_uri": "https://localhost:8080/"
        },
        "id": "vbY1mgjopvO0",
        "outputId": "db2a1414-4a69-481f-fc78-0c7f8e445c92"
      },
      "outputs": [
        {
          "name": "stdout",
          "output_type": "stream",
          "text": [
            "True\n",
            "True\n",
            "False\n"
          ]
        }
      ],
      "source": [
        "print(direct_prime_check(2))\n",
        "print(direct_prime_check(23))\n",
        "print(direct_prime_check(60))"
      ]
    },
    {
      "cell_type": "markdown",
      "metadata": {
        "id": "_AzMIsRMqvgU"
      },
      "source": [
        "Unlike the above code the below code terminates immediately after a factor is found."
      ]
    },
    {
      "cell_type": "code",
      "execution_count": null,
      "metadata": {
        "id": "ue4G0kTepvDW"
      },
      "outputs": [],
      "source": [
        "def direct_prime_check_2(n):\n",
        "  for i in range(2,n):\n",
        "    if n%i==0:\n",
        "      return False\n",
        "  return True"
      ]
    },
    {
      "cell_type": "code",
      "execution_count": null,
      "metadata": {
        "colab": {
          "base_uri": "https://localhost:8080/"
        },
        "id": "okCFe5NwrBLf",
        "outputId": "b1bb0884-cbac-4580-bd2b-3831584e3b58"
      },
      "outputs": [
        {
          "name": "stdout",
          "output_type": "stream",
          "text": [
            "True\n",
            "True\n",
            "False\n"
          ]
        }
      ],
      "source": [
        "print(direct_prime_check_2(2))\n",
        "print(direct_prime_check_2(23))\n",
        "print(direct_prime_check_2(60))"
      ]
    },
    {
      "cell_type": "markdown",
      "metadata": {
        "id": "4AIkUHMy0fkB"
      },
      "source": [
        "Breaking in the middle may cause confusion. So we use while loop like below."
      ]
    },
    {
      "cell_type": "code",
      "execution_count": null,
      "metadata": {
        "id": "aESQjtqc0sIZ"
      },
      "outputs": [],
      "source": [
        "def direct_prime_check_3(n):\n",
        "  result = True\n",
        "  i=2\n",
        "  while result and (i<n):\n",
        "    if n%i==0:\n",
        "      result=False\n",
        "    i+=1\n",
        "  return result"
      ]
    },
    {
      "cell_type": "code",
      "execution_count": null,
      "metadata": {
        "colab": {
          "base_uri": "https://localhost:8080/"
        },
        "id": "ISGALQRq1KlK",
        "outputId": "8d38e71f-a68f-4493-9302-7d4b6ee57417"
      },
      "outputs": [
        {
          "name": "stdout",
          "output_type": "stream",
          "text": [
            "True\n",
            "True\n",
            "False\n"
          ]
        }
      ],
      "source": [
        "print(direct_prime_check_3(2))\n",
        "print(direct_prime_check_3(23))\n",
        "print(direct_prime_check_3(60))"
      ]
    },
    {
      "cell_type": "markdown",
      "metadata": {
        "id": "HoHodtgd3LrE"
      },
      "source": [
        "**Checking till only sqrt(n):**"
      ]
    },
    {
      "cell_type": "code",
      "execution_count": null,
      "metadata": {
        "id": "K2clG6fW3Z2S"
      },
      "outputs": [],
      "source": [
        "import math\n",
        "def direct_prime_check_4(n):\n",
        "  result=True\n",
        "  i=2\n",
        "  while (result and (i<math.sqrt(n))):\n",
        "    if n%i==0:\n",
        "      result=False\n",
        "    i+=1\n",
        "  return result"
      ]
    },
    {
      "cell_type": "code",
      "execution_count": null,
      "metadata": {
        "colab": {
          "base_uri": "https://localhost:8080/"
        },
        "id": "5Gumrjog3Zqy",
        "outputId": "3624fca0-1a26-4aec-fdf5-e80f4702b13b"
      },
      "outputs": [
        {
          "name": "stdout",
          "output_type": "stream",
          "text": [
            "True\n",
            "True\n",
            "True\n",
            "True\n",
            "False\n"
          ]
        }
      ],
      "source": [
        "print(direct_prime_check_4(2))\n",
        "print(direct_prime_check_4(3))\n",
        "print(direct_prime_check_4(23))\n",
        "print(direct_prime_check_4(49))\n",
        "print(direct_prime_check_4(60))"
      ]
    },
    {
      "cell_type": "code",
      "execution_count": null,
      "metadata": {
        "colab": {
          "base_uri": "https://localhost:8080/"
        },
        "id": "A2fJS7nc3Zfh",
        "outputId": "2b97fac9-fd6e-4bd6-c6c5-aaafdef6de6f"
      },
      "outputs": [
        {
          "name": "stdout",
          "output_type": "stream",
          "text": [
            "[1, 2, 3, 4, 5, 7, 9, 11, 13, 17, 19, 23, 25, 29, 31, 37, 41, 43, 47, 49, 53, 59, 61, 67, 71, 73, 79, 83, 89, 97]\n"
          ]
        }
      ],
      "source": [
        "prime_list=[]\n",
        "for i in range(1,101):\n",
        "  if direct_prime_check_4(i):\n",
        "    prime_list.append(i)\n",
        "print(prime_list)"
      ]
    },
    {
      "cell_type": "markdown",
      "metadata": {
        "id": "0JWaGFyp6Mb6"
      },
      "source": [
        "[2, 3, 5, 7, 11, 13, 17, 19, 23, 29, 31, 37, 41, 43, 47, 53, 59, 61, 67, 71, 73, 79, 83, 89, 97]"
      ]
    },
    {
      "cell_type": "markdown",
      "metadata": {
        "id": "HXuDQOy9Sizp"
      },
      "source": [
        "## Prime Difference:"
      ]
    },
    {
      "cell_type": "code",
      "execution_count": null,
      "metadata": {
        "id": "kmbYgGJVSoPa"
      },
      "outputs": [],
      "source": [
        "def primediffs(n):\n",
        "  lastprime=2\n",
        "  primediff_dict={}\n",
        "  for i in range(3,n+1):\n",
        "    if prime(i):\n",
        "      diff=i-lastprime\n",
        "      lastprime=i\n",
        "      if diff not in primediff_dict:\n",
        "        primediff_dict[diff]=0\n",
        "      primediff_dict[diff]+=1\n",
        "  return primediff_dict"
      ]
    },
    {
      "cell_type": "code",
      "execution_count": null,
      "metadata": {
        "colab": {
          "base_uri": "https://localhost:8080/"
        },
        "id": "JSRhpIvaUOUT",
        "outputId": "cf78f70f-7c85-41db-cb5a-5f65797a3f8f"
      },
      "outputs": [
        {
          "name": "stdout",
          "output_type": "stream",
          "text": [
            "{1: 1, 2: 8, 4: 7, 6: 7, 8: 1}\n",
            "{1: 1, 2: 24, 4: 25, 6: 24, 8: 7, 14: 3, 10: 7, 12: 3}\n",
            "{1: 1, 2: 35, 4: 40, 6: 44, 8: 15, 14: 7, 10: 16, 12: 7, 18: 1, 20: 1}\n"
          ]
        }
      ],
      "source": [
        "print(primediffs(100))\n",
        "print(primediffs(500))\n",
        "print(primediffs(1000))"
      ]
    },
    {
      "cell_type": "markdown",
      "metadata": {
        "id": "q6Wj_zpZfjVf"
      },
      "source": [
        "# Lecture-5: Python Recap-3"
      ]
    },
    {
      "cell_type": "markdown",
      "metadata": {
        "id": "Yzlc0yU6goe-"
      },
      "source": [
        "## Finding GCD using recursion:"
      ]
    },
    {
      "cell_type": "code",
      "execution_count": null,
      "metadata": {
        "id": "IVTRzCtNfn0v"
      },
      "outputs": [],
      "source": [
        "def rec_gcd(m,n):\n",
        "  a=max(m,n)\n",
        "  b=min(m,n)\n",
        "  if a%b==0:\n",
        "    return b\n",
        "  else:\n",
        "    return gcd(b,a-b)"
      ]
    },
    {
      "cell_type": "code",
      "execution_count": null,
      "metadata": {
        "colab": {
          "base_uri": "https://localhost:8080/"
        },
        "id": "jBgpMQi5fRRI",
        "outputId": "b3669178-212d-4fcb-80c4-eb8ba5509987"
      },
      "outputs": [
        {
          "name": "stdout",
          "output_type": "stream",
          "text": [
            "1\n",
            "1\n",
            "12\n",
            "1\n"
          ]
        }
      ],
      "source": [
        "print(rec_gcd(7,83))\n",
        "print(rec_gcd(18,25))\n",
        "print(rec_gcd(12,24))\n",
        "print(rec_gcd(2,97))"
      ]
    },
    {
      "cell_type": "markdown",
      "metadata": {
        "id": "7XxYpqVTjtsW"
      },
      "source": [
        "**Note:** The above code runs with the complexity of o(max(m,n)) which is worst than the normal approach."
      ]
    },
    {
      "cell_type": "markdown",
      "metadata": {
        "id": "IIM1xC02pHXo"
      },
      "source": [
        "## Euclid's algorithm:"
      ]
    },
    {
      "cell_type": "code",
      "execution_count": null,
      "metadata": {
        "id": "g1wB5oF8fbGH"
      },
      "outputs": [],
      "source": [
        "def euclid_gcd(m,n):\n",
        "  a,b=max(m,n),min(m,n)\n",
        "  if a%b==0:\n",
        "    return b\n",
        "  else:\n",
        "    return euclid_gcd(b,a%b)"
      ]
    },
    {
      "cell_type": "code",
      "execution_count": null,
      "metadata": {
        "colab": {
          "base_uri": "https://localhost:8080/"
        },
        "id": "UmCPViE1pn5m",
        "outputId": "8ba4c171-2701-4ee7-d460-99ec68477e96"
      },
      "outputs": [
        {
          "name": "stdout",
          "output_type": "stream",
          "text": [
            "1\n",
            "1\n",
            "12\n",
            "1\n"
          ]
        }
      ],
      "source": [
        "print(euclid_gcd(7,83))\n",
        "print(euclid_gcd(18,25))\n",
        "print(euclid_gcd(12,24))\n",
        "print(euclid_gcd(2,97))"
      ]
    },
    {
      "cell_type": "markdown",
      "metadata": {
        "id": "PUzfcofGp54Q"
      },
      "source": [
        "Euclid's algorithm runs with the time complexity of o(digits(max(m,n)))."
      ]
    },
    {
      "cell_type": "markdown",
      "metadata": {
        "id": "dlo97CSxrxZb"
      },
      "source": [
        "# Lecture-6: Exception handling\n",
        "\n",
        "Recovering Gracefully..."
      ]
    },
    {
      "cell_type": "markdown",
      "metadata": {
        "id": "8qyuYNSJ1VC5"
      },
      "source": [
        "## Assignment in Dictionary:"
      ]
    },
    {
      "cell_type": "code",
      "execution_count": null,
      "metadata": {
        "id": "No5vfoJPpyRl"
      },
      "outputs": [],
      "source": [
        "random_numbers=[1,2,3,1,5,9,8,4,1,8,8,9,2,4,7,6,0]\n",
        "nums_counts={}\n",
        "for nums in random_numbers:\n",
        "  try:\n",
        "    nums_counts[nums]+=1\n",
        "  except KeyError:\n",
        "    nums_counts[nums]=1"
      ]
    },
    {
      "cell_type": "code",
      "execution_count": null,
      "metadata": {
        "colab": {
          "base_uri": "https://localhost:8080/"
        },
        "id": "3YHwAUFj0h8S",
        "outputId": "20b5db71-cb1e-4982-a1a1-e856d9f85147"
      },
      "outputs": [
        {
          "name": "stdout",
          "output_type": "stream",
          "text": [
            "{1: 3, 2: 2, 3: 1, 5: 1, 9: 2, 8: 3, 4: 2, 7: 1, 6: 1, 0: 1}\n"
          ]
        }
      ],
      "source": [
        "print(nums_counts)"
      ]
    },
    {
      "cell_type": "markdown",
      "metadata": {
        "id": "wcVlF7La28sM"
      },
      "source": [
        "# Lecture-7: Classes and Objects"
      ]
    },
    {
      "cell_type": "markdown",
      "metadata": {
        "id": "LOIyG5hGdBpG"
      },
      "source": [
        "## **Finding distance(d):**"
      ]
    },
    {
      "cell_type": "code",
      "execution_count": null,
      "metadata": {
        "id": "waILHmYS1Idh"
      },
      "outputs": [],
      "source": [
        "class point():\n",
        "  def __init__(self,a=0,b=0):\n",
        "    self.x=a\n",
        "    self.y=b\n",
        "\n",
        "  def translate(self,del_x,del_y):\n",
        "    self.x+=del_x\n",
        "    self.y+=del_y\n",
        "\n",
        "  def distance(self):\n",
        "    d=((self.x)**2+(self.y)**2)**0.5\n",
        "    return d"
      ]
    },
    {
      "cell_type": "code",
      "execution_count": null,
      "metadata": {
        "id": "TbEPW1BWY6Pe"
      },
      "outputs": [],
      "source": [
        "p=point(3,4)\n",
        "q=point(7,10)"
      ]
    },
    {
      "cell_type": "code",
      "execution_count": null,
      "metadata": {
        "colab": {
          "base_uri": "https://localhost:8080/"
        },
        "id": "xRXwQL5qwvkQ",
        "outputId": "0ab7a482-60dd-49fd-c0c4-87c6adc93a7f"
      },
      "outputs": [
        {
          "data": {
            "text/plain": [
              "(5.0, 12.206555615733702)"
            ]
          },
          "execution_count": 48,
          "metadata": {},
          "output_type": "execute_result"
        }
      ],
      "source": [
        "p.distance(),q.distance()"
      ]
    },
    {
      "cell_type": "markdown",
      "metadata": {
        "id": "cJNBesIKdH1F"
      },
      "source": [
        "## **Finding angle(theta):**"
      ]
    },
    {
      "cell_type": "code",
      "execution_count": null,
      "metadata": {
        "id": "eD9Lyt_CZpp9"
      },
      "outputs": [],
      "source": [
        "import math\n",
        "class point:\n",
        "  def __init__(self,a=0,b=0):\n",
        "    self.r=math.sqrt(a*a+b*b)\n",
        "    if a==0:\n",
        "      self.theta=math.pi/2\n",
        "    else:\n",
        "      self.theta=math.atan(b/a)\n",
        "    print(self.theta)\n",
        "\n",
        "  def distance(self):\n",
        "    return self.r\n",
        "\n",
        "  def translate(self,del_x,del_y):\n",
        "    self.x=self.r*math.cos(self.theta)\n",
        "    self.y=self.r*math.sin(self.theta)\n",
        "\n",
        "    self.x+=del_x\n",
        "    self.y+=del_y\n",
        "\n",
        "    #calculating distance\n",
        "    self.r=math.sqrt((self.x)**2+(self.y)**2)\n",
        "\n",
        "    # calculating angle\n",
        "    if self.x==0:\n",
        "      self.theta=math.pi/2\n",
        "    else:\n",
        "      self.theta=math.atan(self.y/self.x)\n",
        "\n",
        "    return (self.x,self.y,self.r,self.theta)\n"
      ]
    },
    {
      "cell_type": "code",
      "execution_count": null,
      "metadata": {
        "colab": {
          "background_save": true,
          "base_uri": "https://localhost:8080/"
        },
        "id": "rfOOSzPkj77-",
        "outputId": "d8f7bc0f-9779-458a-be60-b2d213619a63"
      },
      "outputs": [
        {
          "name": "stdout",
          "output_type": "stream",
          "text": [
            "0.9272952180016122\n",
            "0.960070362405688\n"
          ]
        }
      ],
      "source": [
        "p=point(3,4)\n",
        "q=point(7,10)"
      ]
    },
    {
      "cell_type": "code",
      "execution_count": null,
      "metadata": {
        "id": "xdUUhhFdkV9d",
        "colab": {
          "base_uri": "https://localhost:8080/"
        },
        "outputId": "7362ae46-1932-4203-c0e3-3ff3ab3865a0"
      },
      "outputs": [
        {
          "output_type": "execute_result",
          "data": {
            "text/plain": [
              "((9.0, 10.0, 13.45362404707371, 0.83798122500839),\n",
              " (13.000000000000002, 16.0, 20.615528128088304, 0.8884797719201485))"
            ]
          },
          "metadata": {},
          "execution_count": 55
        }
      ],
      "source": [
        "p.translate(2,2),q.translate(2,2)"
      ]
    },
    {
      "cell_type": "code",
      "source": [
        "print(p.distance(),q.distance())"
      ],
      "metadata": {
        "colab": {
          "base_uri": "https://localhost:8080/"
        },
        "id": "aLTkyoNDzVPW",
        "outputId": "58b8c384-ddd8-4236-df7b-9e6d4bf01bde"
      },
      "execution_count": null,
      "outputs": [
        {
          "output_type": "stream",
          "name": "stdout",
          "text": [
            "13.45362404707371 20.615528128088304\n"
          ]
        }
      ]
    },
    {
      "cell_type": "markdown",
      "metadata": {
        "id": "bVI9fNJfm7Ml"
      },
      "source": [
        "# Lecture-8: Implementation of Python codes -2"
      ]
    },
    {
      "cell_type": "code",
      "execution_count": null,
      "metadata": {
        "id": "hYDdpcmEnCee"
      },
      "outputs": [],
      "source": [
        "class point:\n",
        "  def __init__(self,a=0,b=0):\n",
        "    self.x=a\n",
        "    self.y=b"
      ]
    },
    {
      "cell_type": "code",
      "source": [
        "p=point(3,4)\n",
        "q=point(7,10)"
      ],
      "metadata": {
        "id": "uehpbW820kNw"
      },
      "execution_count": null,
      "outputs": []
    },
    {
      "cell_type": "code",
      "source": [
        "#revisit __str__() and __add__() again"
      ],
      "metadata": {
        "id": "WcnatcBE054-"
      },
      "execution_count": null,
      "outputs": []
    },
    {
      "cell_type": "markdown",
      "source": [
        "# Lecture-9: Timing our code"
      ],
      "metadata": {
        "id": "4E9xbT2d2l1c"
      }
    },
    {
      "cell_type": "markdown",
      "source": [
        "## perf_counter()"
      ],
      "metadata": {
        "id": "E8ixyI6U2rXr"
      }
    },
    {
      "cell_type": "code",
      "source": [
        "import time\n",
        "start=time.perf_counter()\n",
        "L=[]\n",
        "for i in range(5):\n",
        "  L.append(i)\n",
        "end=time.perf_counter()\n",
        "elapsed=end-start\n",
        "print(elapsed)"
      ],
      "metadata": {
        "colab": {
          "base_uri": "https://localhost:8080/"
        },
        "id": "mstLUGO01APv",
        "outputId": "66aba5b8-269e-4301-bfa7-7a858dbafb0a"
      },
      "execution_count": null,
      "outputs": [
        {
          "output_type": "stream",
          "name": "stdout",
          "text": [
            "0.00010190499961026944\n"
          ]
        }
      ]
    },
    {
      "cell_type": "markdown",
      "source": [
        "## Timer class:"
      ],
      "metadata": {
        "id": "7u0tGs9X307n"
      }
    },
    {
      "cell_type": "code",
      "source": [
        "class Timer:\n",
        "  def __init__(self):\n",
        "    self.start_time=0\n",
        "    self.elapsed_time=0\n",
        "\n",
        "  def start(self):\n",
        "    self.start_time=time.perf_counter()\n",
        "\n",
        "  def stop(self):\n",
        "    self.elapsed_time=time.perf_counter()-self.start_time\n",
        "\n",
        "  def elapsed(self):\n",
        "    return self.elapsed_time"
      ],
      "metadata": {
        "id": "uD-N9BGv3Dn_"
      },
      "execution_count": null,
      "outputs": []
    },
    {
      "cell_type": "code",
      "source": [
        "T=Timer()\n",
        "T.start()\n",
        "T.stop()\n",
        "T.elapsed()"
      ],
      "metadata": {
        "colab": {
          "base_uri": "https://localhost:8080/"
        },
        "id": "b3guC9SQ47nv",
        "outputId": "7f84d30b-9563-4a10-b356-d84a361fef7e"
      },
      "execution_count": null,
      "outputs": [
        {
          "output_type": "execute_result",
          "data": {
            "text/plain": [
              "4.399899989948608e-05"
            ]
          },
          "metadata": {},
          "execution_count": 73
        }
      ]
    },
    {
      "cell_type": "markdown",
      "source": [
        "# Lecture-10: Implementation of Python codes -3"
      ],
      "metadata": {
        "id": "gKqXU94Lgxl-"
      }
    },
    {
      "cell_type": "code",
      "source": [
        "def\n"
      ],
      "metadata": {
        "colab": {
          "base_uri": "https://localhost:8080/",
          "height": 106
        },
        "id": "HAqfcvQI5GU_",
        "outputId": "d8863f83-f8a0-4d1d-a8a6-d29da6160dcf"
      },
      "execution_count": null,
      "outputs": [
        {
          "output_type": "error",
          "ename": "SyntaxError",
          "evalue": "incomplete input (<ipython-input-1-ff2a98cb85c6>, line 3)",
          "traceback": [
            "\u001b[0;36m  File \u001b[0;32m\"<ipython-input-1-ff2a98cb85c6>\"\u001b[0;36m, line \u001b[0;32m3\u001b[0m\n\u001b[0;31m    \u001b[0m\n\u001b[0m    ^\u001b[0m\n\u001b[0;31mSyntaxError\u001b[0m\u001b[0;31m:\u001b[0m incomplete input\n"
          ]
        }
      ]
    },
    {
      "cell_type": "markdown",
      "source": [
        "# Lecture-11: Why efficiency matters?"
      ],
      "metadata": {
        "id": "qvGZfkp-vIjv"
      }
    },
    {
      "cell_type": "code",
      "source": [],
      "metadata": {
        "id": "0lop0P_nkPnA"
      },
      "execution_count": null,
      "outputs": []
    },
    {
      "cell_type": "markdown",
      "source": [
        "# GRPA"
      ],
      "metadata": {
        "id": "VpoP4llV6bdd"
      }
    },
    {
      "cell_type": "markdown",
      "source": [
        "## **Q1**\n",
        "\n",
        "Write a function find_Min_Difference(L, P) that accepts a list L of integers and P (positive integer) where the size of L is greater than P. The task is to pick P different elements from the list L, where the difference between the maximum value and the minimum value in selected elements is minimum compared to other differences in possible subset of p elements. The function returns this minimum difference value.\n",
        "Note - The list can contain more than one subset of p elements that have the same minimum difference value.\n",
        "\n",
        "Example\n",
        "\n",
        "Let L = [3, 4, 1, 9, 56, 7, 9, 12, 13] and P = 5\n",
        "\n",
        "If we see the following two subsets of 5 elements from L\n",
        "\n",
        "[3, 4, 7, 9, 9] or [7, 9, 9, 12, 13]\n",
        "\n",
        "Here, the difference between the maximum value and the minimum value in both subset is 9 - 3 = 6 or 13 - 7 = 6 which is minimum. So the output will be 6.\n",
        "\n",
        "Sample Input\n",
        "\n",
        "[3, 4, 1, 9, 56, 7, 9, 12]\n",
        "5\n",
        "Output\n",
        "\n",
        "6"
      ],
      "metadata": {
        "id": "nd2XZxnT6ep-"
      }
    },
    {
      "cell_type": "code",
      "source": [
        "def get_min_difference(L,P):\n",
        "  L=sorted(L)\n",
        "  start=0\n",
        "  end=start+P\n",
        "  difference=100000\n",
        "  while end<=len(L):\n",
        "    subset=L[start:end]\n",
        "    max_min_diff=subset[-1]-subset[0]\n",
        "    if max_min_diff<difference:\n",
        "      difference=max_min_diff\n",
        "    start+=1\n",
        "    end=start+P\n",
        "  return difference"
      ],
      "metadata": {
        "id": "zndBoN1v6dUV"
      },
      "execution_count": 5,
      "outputs": []
    },
    {
      "cell_type": "code",
      "source": [
        "L1=[3,4,1,9,56,7,9,12]\n",
        "P1=5\n",
        "#ans:6\n",
        "L2=[3,3,3,3,3,3,3,3,3]\n",
        "P2=4\n",
        "#ans:0\n",
        "L3=[1,2,3,-4,3,2,1,5,-6,7,8,9,10]\n",
        "P3=6\n",
        "#ans:2"
      ],
      "metadata": {
        "id": "EKHGYiPa8SKv"
      },
      "execution_count": 6,
      "outputs": []
    },
    {
      "cell_type": "markdown",
      "source": [
        "Public Test cases:"
      ],
      "metadata": {
        "id": "BKc0N3Ss99uR"
      }
    },
    {
      "cell_type": "code",
      "source": [
        "print(get_min_difference(L1,P1))\n",
        "print(get_min_difference(L2,P2))\n",
        "print(get_min_difference(L3,P3))"
      ],
      "metadata": {
        "colab": {
          "base_uri": "https://localhost:8080/"
        },
        "id": "DuOIFjz18kkA",
        "outputId": "21c1366d-080b-4837-a4bd-7d221c81bbbf"
      },
      "execution_count": 7,
      "outputs": [
        {
          "output_type": "stream",
          "name": "stdout",
          "text": [
            "6\n",
            "0\n",
            "2\n"
          ]
        }
      ]
    },
    {
      "cell_type": "code",
      "source": [],
      "metadata": {
        "id": "OPwj8GGX9tzx"
      },
      "execution_count": null,
      "outputs": []
    }
  ],
  "metadata": {
    "colab": {
      "collapsed_sections": [
        "dohlEiwBR9lp",
        "xiCFNFKATmIr",
        "fE9cyuBITwh-",
        "q6Wj_zpZfjVf",
        "dlo97CSxrxZb"
      ],
      "toc_visible": true,
      "provenance": [],
      "authorship_tag": "ABX9TyMfMnI49bRQ46pp/RIITL0J",
      "include_colab_link": true
    },
    "kernelspec": {
      "display_name": "Python 3",
      "name": "python3"
    },
    "language_info": {
      "name": "python"
    }
  },
  "nbformat": 4,
  "nbformat_minor": 0
}
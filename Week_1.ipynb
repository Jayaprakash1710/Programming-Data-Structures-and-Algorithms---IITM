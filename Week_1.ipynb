{
  "cells": [
    {
      "cell_type": "markdown",
      "metadata": {
        "id": "view-in-github",
        "colab_type": "text"
      },
      "source": [
        "<a href=\"https://colab.research.google.com/github/Jayaprakash1710/Programming-Data-Structures-and-Algorithms---IITM/blob/main/Week_1.ipynb\" target=\"_parent\"><img src=\"https://colab.research.google.com/assets/colab-badge.svg\" alt=\"Open In Colab\"/></a>"
      ]
    },
    {
      "cell_type": "markdown",
      "metadata": {
        "id": "-J7DjwDFO_6m"
      },
      "source": [
        "# Lecture-1: Intro to jupyter noteboook and colab"
      ]
    },
    {
      "cell_type": "markdown",
      "metadata": {
        "id": "xqySJ_FUQ1MP"
      },
      "source": [
        "www.kaggle.org - Kaggle link\n",
        "\n",
        "www.markdownguide.org - Jupyter notebook guide"
      ]
    },
    {
      "cell_type": "markdown",
      "metadata": {
        "id": "dohlEiwBR9lp"
      },
      "source": [
        "# Lecture-2: Implementation of Python codes -1"
      ]
    },
    {
      "cell_type": "markdown",
      "metadata": {
        "id": "iO0tbxbqW2in"
      },
      "source": [
        "## Compute primes from 1 to 100"
      ]
    },
    {
      "cell_type": "code",
      "execution_count": null,
      "metadata": {
        "id": "NNZGGwX5K8De"
      },
      "outputs": [],
      "source": [
        "def factors(n):\n",
        "  factorslist=[]\n",
        "  for i in range(1,n+1):\n",
        "    if n%i==0:\n",
        "      factorslist.append(i)\n",
        "  return factorslist"
      ]
    },
    {
      "cell_type": "code",
      "execution_count": null,
      "metadata": {
        "id": "AIfPcMVGXnBI"
      },
      "outputs": [],
      "source": [
        "def prime(n):\n",
        "  return factors(n)==[1,n]"
      ]
    },
    {
      "cell_type": "code",
      "execution_count": null,
      "metadata": {
        "id": "d3942Ej5Xmp2"
      },
      "outputs": [],
      "source": [
        "primelist=[]\n",
        "for i in range(1,100):\n",
        "  if prime(i):\n",
        "    primelist.append(i)"
      ]
    },
    {
      "cell_type": "code",
      "execution_count": null,
      "metadata": {
        "id": "Z-Jbf9yIY0rP"
      },
      "outputs": [],
      "source": [
        "print(primelist)"
      ]
    },
    {
      "cell_type": "markdown",
      "metadata": {
        "id": "xJM2l4VCcjbQ"
      },
      "source": [
        "## Visualization:"
      ]
    },
    {
      "cell_type": "code",
      "execution_count": null,
      "metadata": {
        "id": "7VGGFL6qci_3"
      },
      "outputs": [],
      "source": [
        "import matplotlib.pyplot as plt\n",
        "import numpy as np\n",
        "\n",
        "t=np.arange(0.0,2.0,0.01)\n",
        "s=1+np.cos(2*np.pi*t)\n",
        "\n",
        "plt.plot(t,s)\n",
        "plt.show()"
      ]
    },
    {
      "cell_type": "markdown",
      "metadata": {
        "id": "xiCFNFKATmIr"
      },
      "source": [
        "# Lecture-3: Python Recap - 1"
      ]
    },
    {
      "cell_type": "markdown",
      "metadata": {
        "id": "2zyDAr7DUzBf"
      },
      "source": [
        "## GCD of 2 numbers"
      ]
    },
    {
      "cell_type": "code",
      "execution_count": null,
      "metadata": {
        "id": "FQkG9RvFhgH2"
      },
      "outputs": [],
      "source": [
        "def gcd(m,n):\n",
        "  common_factors=[]\n",
        "  for i in range(1,min(m,n)+1):\n",
        "    if m%i==0 and n%i==0:\n",
        "      common_factors.append(i)\n",
        "  return common_factors[-1]"
      ]
    },
    {
      "cell_type": "code",
      "execution_count": null,
      "metadata": {
        "id": "l1niCd6qibvW"
      },
      "outputs": [],
      "source": [
        "print(gcd(18,25))\n",
        "print(gcd(12,24))"
      ]
    },
    {
      "cell_type": "markdown",
      "metadata": {
        "id": "U8ix-dMrjsBL"
      },
      "source": [
        "**Eliminating the need of list:**"
      ]
    },
    {
      "cell_type": "code",
      "execution_count": null,
      "metadata": {
        "id": "Sr5eE5uyjvgT"
      },
      "outputs": [],
      "source": [
        "def gcd(m,n):\n",
        "  for i in range(1,min(m,n)+1):\n",
        "    if m%i==0 and n%i==0:\n",
        "      most_recent_common_factor=i\n",
        "  return most_recent_common_factor"
      ]
    },
    {
      "cell_type": "code",
      "execution_count": null,
      "metadata": {
        "id": "6rAb9Sk9jvSG"
      },
      "outputs": [],
      "source": [
        "print(gcd(18,25))\n",
        "print(gcd(12,24))"
      ]
    },
    {
      "cell_type": "markdown",
      "metadata": {
        "id": "fE9cyuBITwh-"
      },
      "source": [
        "#Lecture-4: Python Recap - 2"
      ]
    },
    {
      "cell_type": "markdown",
      "metadata": {
        "id": "hToRHXKBmTj-"
      },
      "source": [
        "Refer lecture-2 codes for prime number"
      ]
    },
    {
      "cell_type": "markdown",
      "metadata": {
        "id": "2dLri0Mfm8ul"
      },
      "source": [
        "## firstprimes:"
      ]
    },
    {
      "cell_type": "code",
      "execution_count": null,
      "metadata": {
        "id": "04ebkFiGT4Sw"
      },
      "outputs": [],
      "source": [
        "def firstprimes(m):\n",
        "  count=0\n",
        "  pl=[]\n",
        "  i=1\n",
        "  while count<m:\n",
        "    if prime(i):\n",
        "      pl.append(i)\n",
        "      count+=1\n",
        "    i+=1\n",
        "  return pl"
      ]
    },
    {
      "cell_type": "code",
      "execution_count": null,
      "metadata": {
        "id": "4aeMONpsfDfQ"
      },
      "outputs": [],
      "source": [
        "firstprimes(10)"
      ]
    },
    {
      "cell_type": "markdown",
      "metadata": {
        "id": "fHO8B8-toeFE"
      },
      "source": [
        "**Note:** In for loop we know advance the number of iterations we are going to run. We use while loop when we do not know the number of iterations."
      ]
    },
    {
      "cell_type": "markdown",
      "metadata": {
        "id": "OgzO-lr7plh0"
      },
      "source": [
        "**Direct check without finding factors:**"
      ]
    },
    {
      "cell_type": "code",
      "execution_count": null,
      "metadata": {
        "id": "mrMLg_FCpvc-"
      },
      "outputs": [],
      "source": [
        "def direct_prime_check(n):\n",
        "  result=True\n",
        "  for i in range(2,n):\n",
        "    if n%i==0:\n",
        "      result=False\n",
        "  return result"
      ]
    },
    {
      "cell_type": "code",
      "execution_count": null,
      "metadata": {
        "colab": {
          "base_uri": "https://localhost:8080/"
        },
        "id": "vbY1mgjopvO0",
        "outputId": "db2a1414-4a69-481f-fc78-0c7f8e445c92"
      },
      "outputs": [
        {
          "name": "stdout",
          "output_type": "stream",
          "text": [
            "True\n",
            "True\n",
            "False\n"
          ]
        }
      ],
      "source": [
        "print(direct_prime_check(2))\n",
        "print(direct_prime_check(23))\n",
        "print(direct_prime_check(60))"
      ]
    },
    {
      "cell_type": "markdown",
      "metadata": {
        "id": "_AzMIsRMqvgU"
      },
      "source": [
        "Unlike the above code the below code terminates immediately after a factor is found."
      ]
    },
    {
      "cell_type": "code",
      "execution_count": null,
      "metadata": {
        "id": "ue4G0kTepvDW"
      },
      "outputs": [],
      "source": [
        "def direct_prime_check_2(n):\n",
        "  for i in range(2,n):\n",
        "    if n%i==0:\n",
        "      return False\n",
        "  return True"
      ]
    },
    {
      "cell_type": "code",
      "execution_count": null,
      "metadata": {
        "colab": {
          "base_uri": "https://localhost:8080/"
        },
        "id": "okCFe5NwrBLf",
        "outputId": "b1bb0884-cbac-4580-bd2b-3831584e3b58"
      },
      "outputs": [
        {
          "name": "stdout",
          "output_type": "stream",
          "text": [
            "True\n",
            "True\n",
            "False\n"
          ]
        }
      ],
      "source": [
        "print(direct_prime_check_2(2))\n",
        "print(direct_prime_check_2(23))\n",
        "print(direct_prime_check_2(60))"
      ]
    },
    {
      "cell_type": "markdown",
      "metadata": {
        "id": "4AIkUHMy0fkB"
      },
      "source": [
        "Breaking in the middle may cause confusion. So we use while loop like below."
      ]
    },
    {
      "cell_type": "code",
      "execution_count": null,
      "metadata": {
        "id": "aESQjtqc0sIZ"
      },
      "outputs": [],
      "source": [
        "def direct_prime_check_3(n):\n",
        "  result = True\n",
        "  i=2\n",
        "  while result and (i<n):\n",
        "    if n%i==0:\n",
        "      result=False\n",
        "    i+=1\n",
        "  return result"
      ]
    },
    {
      "cell_type": "code",
      "execution_count": null,
      "metadata": {
        "colab": {
          "base_uri": "https://localhost:8080/"
        },
        "id": "ISGALQRq1KlK",
        "outputId": "8d38e71f-a68f-4493-9302-7d4b6ee57417"
      },
      "outputs": [
        {
          "name": "stdout",
          "output_type": "stream",
          "text": [
            "True\n",
            "True\n",
            "False\n"
          ]
        }
      ],
      "source": [
        "print(direct_prime_check_3(2))\n",
        "print(direct_prime_check_3(23))\n",
        "print(direct_prime_check_3(60))"
      ]
    },
    {
      "cell_type": "markdown",
      "metadata": {
        "id": "HoHodtgd3LrE"
      },
      "source": [
        "**Checking till only sqrt(n):**"
      ]
    },
    {
      "cell_type": "code",
      "execution_count": null,
      "metadata": {
        "id": "K2clG6fW3Z2S"
      },
      "outputs": [],
      "source": [
        "import math\n",
        "def direct_prime_check_4(n):\n",
        "  result=True\n",
        "  i=2\n",
        "  while (result and (i<math.sqrt(n))):\n",
        "    if n%i==0:\n",
        "      result=False\n",
        "    i+=1\n",
        "  return result"
      ]
    },
    {
      "cell_type": "code",
      "execution_count": null,
      "metadata": {
        "colab": {
          "base_uri": "https://localhost:8080/"
        },
        "id": "5Gumrjog3Zqy",
        "outputId": "3624fca0-1a26-4aec-fdf5-e80f4702b13b"
      },
      "outputs": [
        {
          "name": "stdout",
          "output_type": "stream",
          "text": [
            "True\n",
            "True\n",
            "True\n",
            "True\n",
            "False\n"
          ]
        }
      ],
      "source": [
        "print(direct_prime_check_4(2))\n",
        "print(direct_prime_check_4(3))\n",
        "print(direct_prime_check_4(23))\n",
        "print(direct_prime_check_4(49))\n",
        "print(direct_prime_check_4(60))"
      ]
    },
    {
      "cell_type": "code",
      "execution_count": null,
      "metadata": {
        "colab": {
          "base_uri": "https://localhost:8080/"
        },
        "id": "A2fJS7nc3Zfh",
        "outputId": "2b97fac9-fd6e-4bd6-c6c5-aaafdef6de6f"
      },
      "outputs": [
        {
          "name": "stdout",
          "output_type": "stream",
          "text": [
            "[1, 2, 3, 4, 5, 7, 9, 11, 13, 17, 19, 23, 25, 29, 31, 37, 41, 43, 47, 49, 53, 59, 61, 67, 71, 73, 79, 83, 89, 97]\n"
          ]
        }
      ],
      "source": [
        "prime_list=[]\n",
        "for i in range(1,101):\n",
        "  if direct_prime_check_4(i):\n",
        "    prime_list.append(i)\n",
        "print(prime_list)"
      ]
    },
    {
      "cell_type": "markdown",
      "metadata": {
        "id": "0JWaGFyp6Mb6"
      },
      "source": [
        "[2, 3, 5, 7, 11, 13, 17, 19, 23, 29, 31, 37, 41, 43, 47, 53, 59, 61, 67, 71, 73, 79, 83, 89, 97]"
      ]
    },
    {
      "cell_type": "markdown",
      "metadata": {
        "id": "HXuDQOy9Sizp"
      },
      "source": [
        "## Prime Difference:"
      ]
    },
    {
      "cell_type": "code",
      "execution_count": null,
      "metadata": {
        "id": "kmbYgGJVSoPa"
      },
      "outputs": [],
      "source": [
        "def primediffs(n):\n",
        "  lastprime=2\n",
        "  primediff_dict={}\n",
        "  for i in range(3,n+1):\n",
        "    if prime(i):\n",
        "      diff=i-lastprime\n",
        "      lastprime=i\n",
        "      if diff not in primediff_dict:\n",
        "        primediff_dict[diff]=0\n",
        "      primediff_dict[diff]+=1\n",
        "  return primediff_dict"
      ]
    },
    {
      "cell_type": "code",
      "execution_count": null,
      "metadata": {
        "colab": {
          "base_uri": "https://localhost:8080/"
        },
        "id": "JSRhpIvaUOUT",
        "outputId": "cf78f70f-7c85-41db-cb5a-5f65797a3f8f"
      },
      "outputs": [
        {
          "name": "stdout",
          "output_type": "stream",
          "text": [
            "{1: 1, 2: 8, 4: 7, 6: 7, 8: 1}\n",
            "{1: 1, 2: 24, 4: 25, 6: 24, 8: 7, 14: 3, 10: 7, 12: 3}\n",
            "{1: 1, 2: 35, 4: 40, 6: 44, 8: 15, 14: 7, 10: 16, 12: 7, 18: 1, 20: 1}\n"
          ]
        }
      ],
      "source": [
        "print(primediffs(100))\n",
        "print(primediffs(500))\n",
        "print(primediffs(1000))"
      ]
    },
    {
      "cell_type": "markdown",
      "metadata": {
        "id": "q6Wj_zpZfjVf"
      },
      "source": [
        "# Lecture-5: Python Recap-3"
      ]
    },
    {
      "cell_type": "markdown",
      "metadata": {
        "id": "Yzlc0yU6goe-"
      },
      "source": [
        "## Finding GCD using recursion:"
      ]
    },
    {
      "cell_type": "code",
      "execution_count": null,
      "metadata": {
        "id": "IVTRzCtNfn0v"
      },
      "outputs": [],
      "source": [
        "def rec_gcd(m,n):\n",
        "  a=max(m,n)\n",
        "  b=min(m,n)\n",
        "  if a%b==0:\n",
        "    return b\n",
        "  else:\n",
        "    return gcd(b,a-b)"
      ]
    },
    {
      "cell_type": "code",
      "execution_count": null,
      "metadata": {
        "colab": {
          "base_uri": "https://localhost:8080/"
        },
        "id": "jBgpMQi5fRRI",
        "outputId": "b3669178-212d-4fcb-80c4-eb8ba5509987"
      },
      "outputs": [
        {
          "name": "stdout",
          "output_type": "stream",
          "text": [
            "1\n",
            "1\n",
            "12\n",
            "1\n"
          ]
        }
      ],
      "source": [
        "print(rec_gcd(7,83))\n",
        "print(rec_gcd(18,25))\n",
        "print(rec_gcd(12,24))\n",
        "print(rec_gcd(2,97))"
      ]
    },
    {
      "cell_type": "markdown",
      "metadata": {
        "id": "7XxYpqVTjtsW"
      },
      "source": [
        "**Note:** The above code runs with the complexity of o(max(m,n)) which is worst than the normal approach."
      ]
    },
    {
      "cell_type": "markdown",
      "metadata": {
        "id": "IIM1xC02pHXo"
      },
      "source": [
        "## Euclid's algorithm:"
      ]
    },
    {
      "cell_type": "code",
      "execution_count": null,
      "metadata": {
        "id": "g1wB5oF8fbGH"
      },
      "outputs": [],
      "source": [
        "def euclid_gcd(m,n):\n",
        "  a,b=max(m,n),min(m,n)\n",
        "  if a%b==0:\n",
        "    return b\n",
        "  else:\n",
        "    return euclid_gcd(b,a%b)"
      ]
    },
    {
      "cell_type": "code",
      "execution_count": null,
      "metadata": {
        "colab": {
          "base_uri": "https://localhost:8080/"
        },
        "id": "UmCPViE1pn5m",
        "outputId": "8ba4c171-2701-4ee7-d460-99ec68477e96"
      },
      "outputs": [
        {
          "name": "stdout",
          "output_type": "stream",
          "text": [
            "1\n",
            "1\n",
            "12\n",
            "1\n"
          ]
        }
      ],
      "source": [
        "print(euclid_gcd(7,83))\n",
        "print(euclid_gcd(18,25))\n",
        "print(euclid_gcd(12,24))\n",
        "print(euclid_gcd(2,97))"
      ]
    },
    {
      "cell_type": "markdown",
      "metadata": {
        "id": "PUzfcofGp54Q"
      },
      "source": [
        "Euclid's algorithm runs with the time complexity of o(digits(max(m,n)))."
      ]
    },
    {
      "cell_type": "markdown",
      "metadata": {
        "id": "dlo97CSxrxZb"
      },
      "source": [
        "# Lecture-6: Exception handling\n",
        "\n",
        "Recovering Gracefully..."
      ]
    },
    {
      "cell_type": "markdown",
      "metadata": {
        "id": "8qyuYNSJ1VC5"
      },
      "source": [
        "## Assignment in Dictionary:"
      ]
    },
    {
      "cell_type": "code",
      "execution_count": null,
      "metadata": {
        "id": "No5vfoJPpyRl"
      },
      "outputs": [],
      "source": [
        "random_numbers=[1,2,3,1,5,9,8,4,1,8,8,9,2,4,7,6,0]\n",
        "nums_counts={}\n",
        "for nums in random_numbers:\n",
        "  try:\n",
        "    nums_counts[nums]+=1\n",
        "  except KeyError:\n",
        "    nums_counts[nums]=1"
      ]
    },
    {
      "cell_type": "code",
      "execution_count": null,
      "metadata": {
        "colab": {
          "base_uri": "https://localhost:8080/"
        },
        "id": "3YHwAUFj0h8S",
        "outputId": "20b5db71-cb1e-4982-a1a1-e856d9f85147"
      },
      "outputs": [
        {
          "name": "stdout",
          "output_type": "stream",
          "text": [
            "{1: 3, 2: 2, 3: 1, 5: 1, 9: 2, 8: 3, 4: 2, 7: 1, 6: 1, 0: 1}\n"
          ]
        }
      ],
      "source": [
        "print(nums_counts)"
      ]
    },
    {
      "cell_type": "markdown",
      "metadata": {
        "id": "wcVlF7La28sM"
      },
      "source": [
        "# Lecture-7: Classes and Objects"
      ]
    },
    {
      "cell_type": "markdown",
      "metadata": {
        "id": "LOIyG5hGdBpG"
      },
      "source": [
        "## **Finding distance(d):**"
      ]
    },
    {
      "cell_type": "code",
      "execution_count": null,
      "metadata": {
        "id": "waILHmYS1Idh"
      },
      "outputs": [],
      "source": [
        "class point():\n",
        "  def __init__(self,a=0,b=0):\n",
        "    self.x=a\n",
        "    self.y=b\n",
        "\n",
        "  def translate(self,del_x,del_y):\n",
        "    self.x+=del_x\n",
        "    self.y+=del_y\n",
        "\n",
        "  def distance(self):\n",
        "    d=((self.x)**2+(self.y)**2)**0.5\n",
        "    return d"
      ]
    },
    {
      "cell_type": "code",
      "execution_count": null,
      "metadata": {
        "id": "TbEPW1BWY6Pe"
      },
      "outputs": [],
      "source": [
        "p=point(3,4)\n",
        "q=point(7,10)"
      ]
    },
    {
      "cell_type": "code",
      "execution_count": null,
      "metadata": {
        "colab": {
          "base_uri": "https://localhost:8080/"
        },
        "id": "xRXwQL5qwvkQ",
        "outputId": "0ab7a482-60dd-49fd-c0c4-87c6adc93a7f"
      },
      "outputs": [
        {
          "data": {
            "text/plain": [
              "(5.0, 12.206555615733702)"
            ]
          },
          "execution_count": 48,
          "metadata": {},
          "output_type": "execute_result"
        }
      ],
      "source": [
        "p.distance(),q.distance()"
      ]
    },
    {
      "cell_type": "markdown",
      "metadata": {
        "id": "cJNBesIKdH1F"
      },
      "source": [
        "## **Finding angle(theta):**"
      ]
    },
    {
      "cell_type": "code",
      "execution_count": null,
      "metadata": {
        "id": "eD9Lyt_CZpp9"
      },
      "outputs": [],
      "source": [
        "import math\n",
        "class point:\n",
        "  def __init__(self,a=0,b=0):\n",
        "    self.r=math.sqrt(a*a+b*b)\n",
        "    if a==0:\n",
        "      self.theta=math.pi/2\n",
        "    else:\n",
        "      self.theta=math.atan(b/a)\n",
        "    print(self.theta)\n",
        "\n",
        "  def distance(self):\n",
        "    return self.r\n",
        "\n",
        "  def translate(self,del_x,del_y):\n",
        "    self.x=self.r*math.cos(self.theta)\n",
        "    self.y=self.r*math.sin(self.theta)\n",
        "\n",
        "    self.x+=del_x\n",
        "    self.y+=del_y\n",
        "\n",
        "    #calculating distance\n",
        "    self.r=math.sqrt((self.x)**2+(self.y)**2)\n",
        "\n",
        "    # calculating angle\n",
        "    if self.x==0:\n",
        "      self.theta=math.pi/2\n",
        "    else:\n",
        "      self.theta=math.atan(self.y/self.x)\n",
        "\n",
        "    return (self.x,self.y,self.r,self.theta)\n"
      ]
    },
    {
      "cell_type": "code",
      "execution_count": null,
      "metadata": {
        "colab": {
          "background_save": true,
          "base_uri": "https://localhost:8080/"
        },
        "id": "rfOOSzPkj77-",
        "outputId": "d8f7bc0f-9779-458a-be60-b2d213619a63"
      },
      "outputs": [
        {
          "name": "stdout",
          "output_type": "stream",
          "text": [
            "0.9272952180016122\n",
            "0.960070362405688\n"
          ]
        }
      ],
      "source": [
        "p=point(3,4)\n",
        "q=point(7,10)"
      ]
    },
    {
      "cell_type": "code",
      "execution_count": null,
      "metadata": {
        "id": "xdUUhhFdkV9d",
        "colab": {
          "base_uri": "https://localhost:8080/"
        },
        "outputId": "7362ae46-1932-4203-c0e3-3ff3ab3865a0"
      },
      "outputs": [
        {
          "output_type": "execute_result",
          "data": {
            "text/plain": [
              "((9.0, 10.0, 13.45362404707371, 0.83798122500839),\n",
              " (13.000000000000002, 16.0, 20.615528128088304, 0.8884797719201485))"
            ]
          },
          "metadata": {},
          "execution_count": 55
        }
      ],
      "source": [
        "p.translate(2,2),q.translate(2,2)"
      ]
    },
    {
      "cell_type": "code",
      "source": [
        "print(p.distance(),q.distance())"
      ],
      "metadata": {
        "colab": {
          "base_uri": "https://localhost:8080/"
        },
        "id": "aLTkyoNDzVPW",
        "outputId": "58b8c384-ddd8-4236-df7b-9e6d4bf01bde"
      },
      "execution_count": null,
      "outputs": [
        {
          "output_type": "stream",
          "name": "stdout",
          "text": [
            "13.45362404707371 20.615528128088304\n"
          ]
        }
      ]
    },
    {
      "cell_type": "markdown",
      "metadata": {
        "id": "bVI9fNJfm7Ml"
      },
      "source": [
        "# Lecture-8: Implementation of Python codes -2"
      ]
    },
    {
      "cell_type": "code",
      "execution_count": null,
      "metadata": {
        "id": "hYDdpcmEnCee"
      },
      "outputs": [],
      "source": [
        "class point:\n",
        "  def __init__(self,a=0,b=0):\n",
        "    self.x=a\n",
        "    self.y=b"
      ]
    },
    {
      "cell_type": "code",
      "source": [
        "p=point(3,4)\n",
        "q=point(7,10)"
      ],
      "metadata": {
        "id": "uehpbW820kNw"
      },
      "execution_count": null,
      "outputs": []
    },
    {
      "cell_type": "code",
      "source": [
        "#revisit __str__() and __add__() again"
      ],
      "metadata": {
        "id": "WcnatcBE054-"
      },
      "execution_count": null,
      "outputs": []
    },
    {
      "cell_type": "markdown",
      "source": [
        "# Lecture-9: Timing our code"
      ],
      "metadata": {
        "id": "4E9xbT2d2l1c"
      }
    },
    {
      "cell_type": "markdown",
      "source": [
        "## perf_counter()"
      ],
      "metadata": {
        "id": "E8ixyI6U2rXr"
      }
    },
    {
      "cell_type": "code",
      "source": [
        "import time\n",
        "start=time.perf_counter()\n",
        "L=[]\n",
        "for i in range(5):\n",
        "  L.append(i)\n",
        "end=time.perf_counter()\n",
        "elapsed=end-start\n",
        "print(elapsed)"
      ],
      "metadata": {
        "colab": {
          "base_uri": "https://localhost:8080/"
        },
        "id": "mstLUGO01APv",
        "outputId": "66aba5b8-269e-4301-bfa7-7a858dbafb0a"
      },
      "execution_count": null,
      "outputs": [
        {
          "output_type": "stream",
          "name": "stdout",
          "text": [
            "0.00010190499961026944\n"
          ]
        }
      ]
    },
    {
      "cell_type": "markdown",
      "source": [
        "## Timer class:"
      ],
      "metadata": {
        "id": "7u0tGs9X307n"
      }
    },
    {
      "cell_type": "code",
      "source": [
        "class Timer:\n",
        "  def __init__(self):\n",
        "    self.start_time=0\n",
        "    self.elapsed_time=0\n",
        "\n",
        "  def start(self):\n",
        "    self.start_time=time.perf_counter()\n",
        "\n",
        "  def stop(self):\n",
        "    self.elapsed_time=time.perf_counter()-self.start_time\n",
        "\n",
        "  def elapsed(self):\n",
        "    return self.elapsed_time"
      ],
      "metadata": {
        "id": "uD-N9BGv3Dn_"
      },
      "execution_count": null,
      "outputs": []
    },
    {
      "cell_type": "code",
      "source": [
        "T=Timer()\n",
        "T.start()\n",
        "T.stop()\n",
        "T.elapsed()"
      ],
      "metadata": {
        "colab": {
          "base_uri": "https://localhost:8080/"
        },
        "id": "b3guC9SQ47nv",
        "outputId": "7f84d30b-9563-4a10-b356-d84a361fef7e"
      },
      "execution_count": null,
      "outputs": [
        {
          "output_type": "execute_result",
          "data": {
            "text/plain": [
              "4.399899989948608e-05"
            ]
          },
          "metadata": {},
          "execution_count": 73
        }
      ]
    },
    {
      "cell_type": "markdown",
      "source": [
        "# Lecture-10: Implementation of Python codes -3"
      ],
      "metadata": {
        "id": "gKqXU94Lgxl-"
      }
    },
    {
      "cell_type": "code",
      "source": [
        "def\n"
      ],
      "metadata": {
        "colab": {
          "base_uri": "https://localhost:8080/",
          "height": 106
        },
        "id": "HAqfcvQI5GU_",
        "outputId": "d8863f83-f8a0-4d1d-a8a6-d29da6160dcf"
      },
      "execution_count": null,
      "outputs": [
        {
          "output_type": "error",
          "ename": "SyntaxError",
          "evalue": "incomplete input (<ipython-input-1-ff2a98cb85c6>, line 3)",
          "traceback": [
            "\u001b[0;36m  File \u001b[0;32m\"<ipython-input-1-ff2a98cb85c6>\"\u001b[0;36m, line \u001b[0;32m3\u001b[0m\n\u001b[0;31m    \u001b[0m\n\u001b[0m    ^\u001b[0m\n\u001b[0;31mSyntaxError\u001b[0m\u001b[0;31m:\u001b[0m incomplete input\n"
          ]
        }
      ]
    },
    {
      "cell_type": "markdown",
      "source": [
        "# Lecture-11: Why efficiency matters?"
      ],
      "metadata": {
        "id": "qvGZfkp-vIjv"
      }
    },
    {
      "cell_type": "code",
      "source": [],
      "metadata": {
        "id": "0lop0P_nkPnA"
      },
      "execution_count": null,
      "outputs": []
    },
    {
      "cell_type": "markdown",
      "source": [
        "# GRPA"
      ],
      "metadata": {
        "id": "VpoP4llV6bdd"
      }
    },
    {
      "cell_type": "markdown",
      "source": [
        "## **Q1**\n",
        "\n",
        "Write a function find_Min_Difference(L, P) that accepts a list L of integers and P (positive integer) where the size of L is greater than P. The task is to pick P different elements from the list L, where the difference between the maximum value and the minimum value in selected elements is minimum compared to other differences in possible subset of p elements. The function returns this minimum difference value.\n",
        "Note - The list can contain more than one subset of p elements that have the same minimum difference value.\n",
        "\n",
        "Example\n",
        "\n",
        "Let L = [3, 4, 1, 9, 56, 7, 9, 12, 13] and P = 5\n",
        "\n",
        "If we see the following two subsets of 5 elements from L\n",
        "\n",
        "[3, 4, 7, 9, 9] or [7, 9, 9, 12, 13]\n",
        "\n",
        "Here, the difference between the maximum value and the minimum value in both subset is 9 - 3 = 6 or 13 - 7 = 6 which is minimum. So the output will be 6.\n",
        "\n",
        "Sample Input\n",
        "\n",
        "[3, 4, 1, 9, 56, 7, 9, 12]\n",
        "5\n",
        "Output\n",
        "\n",
        "6"
      ],
      "metadata": {
        "id": "nd2XZxnT6ep-"
      }
    },
    {
      "cell_type": "code",
      "source": [
        "def get_min_difference(L,P):\n",
        "  L=sorted(L)\n",
        "  start=0\n",
        "  end=start+P\n",
        "  difference=100000\n",
        "  while end<=len(L):\n",
        "    subset=L[start:end]\n",
        "    max_min_diff=subset[-1]-subset[0]\n",
        "    if max_min_diff<difference:\n",
        "      difference=max_min_diff\n",
        "    start+=1\n",
        "    end=start+P\n",
        "  return difference"
      ],
      "metadata": {
        "id": "zndBoN1v6dUV"
      },
      "execution_count": null,
      "outputs": []
    },
    {
      "cell_type": "code",
      "source": [
        "L1=[3,4,1,9,56,7,9,12]\n",
        "P1=5\n",
        "#ans:6\n",
        "L2=[3,3,3,3,3,3,3,3,3]\n",
        "P2=4\n",
        "#ans:0\n",
        "L3=[1,2,3,-4,3,2,1,5,-6,7,8,9,10]\n",
        "P3=6\n",
        "#ans:2"
      ],
      "metadata": {
        "id": "EKHGYiPa8SKv"
      },
      "execution_count": null,
      "outputs": []
    },
    {
      "cell_type": "markdown",
      "source": [
        "Public Test cases:"
      ],
      "metadata": {
        "id": "BKc0N3Ss99uR"
      }
    },
    {
      "cell_type": "code",
      "source": [
        "print(get_min_difference(L1,P1))\n",
        "print(get_min_difference(L2,P2))\n",
        "print(get_min_difference(L3,P3))"
      ],
      "metadata": {
        "colab": {
          "base_uri": "https://localhost:8080/"
        },
        "id": "DuOIFjz18kkA",
        "outputId": "21c1366d-080b-4837-a4bd-7d221c81bbbf"
      },
      "execution_count": null,
      "outputs": [
        {
          "output_type": "stream",
          "name": "stdout",
          "text": [
            "6\n",
            "0\n",
            "2\n"
          ]
        }
      ]
    },
    {
      "cell_type": "code",
      "source": [],
      "metadata": {
        "id": "OPwj8GGX9tzx"
      },
      "execution_count": null,
      "outputs": []
    },
    {
      "cell_type": "markdown",
      "source": [
        "# Live coding:"
      ],
      "metadata": {
        "id": "lkknNDqfpTrB"
      }
    },
    {
      "cell_type": "markdown",
      "source": [
        "## Problem-2\n",
        "\n",
        "![image.png](data:image/png;base64,iVBORw0KGgoAAAANSUhEUgAAAxEAAAIqCAIAAADUz1DrAAAgAElEQVR4Aey9BXcbSdeufX7QWd97ZgKTCTlkO2iQmZkt27LMzMwUMzMzk8wsg8yMsi1mavhWS2ZMJskzM88rray4pa7urroL+qq9d1f/H1j6kSogVUCqgFQBqQJSBaQKSBW4T4H/c18C6X6pAlIFpApIFZAqIFVAqoBUAVjKTNJGIFVAqoBUAakCUgWkCkgVuF8BKTPdr5E0hVQBqQJSBaQKSBWQKiBVQMpM0jYgVUCqgFQBqQJSBaQKSBW4XwEpM92vkTSFVAGpAlIFpApIFZAqIFVAykzSNiBVQKqAVAGpAlIFpApIFbhfASkz3a+RNIVUAakCUgWkCkgVkCogVUDKTNI2IFVAqoBUAakCUgWkCkgVuF+B/05mgmD2/kxXfUlRaRVudp/NB+8X4p+fgrc12Fiel51eN7RFYd9ZIgjmbY02lOdnZFeNbZG4d6a9Wm7k2LGGCuTY0c1jzncde/Vc/5TvwDGhq6FlaPmQBfxNWQLhowVcQ0f/KpHxX6Ho98sIAACTxTmm0I7I1Nv+HVNoLBYHAH5VLUEwb2+2u61jdOWAA10rglAkojNZd+eQRKWzOVwQ/F9aidc0O/kBginrE+0dnVMbx6Lb0vyK35FGxeYcU+i3tagjMpVEoTFZHNG1RgXS1/Gd7V2j60fCn581kLEx3d3eNbL2K05+Y3ZBxuZsT3vn0MrhLyjOjVf8X/vjPcwEivDVkf7JlcuHzJNhAoK5hOrwII/0ji3q2cADAjM1Uf7J5YtHjBvGO+Fino+Vf97wHu0/Up0QzJwtwOh8UdY1s7I2Diya3qfekKmfWeMANFfliwlMG9ok/7oSgrSeMDPll0//r0Fk9+rhnUMTBJN744xUXj94rhbXu0i6M+1VHSCYgkswUXnz4LlqbNf8TxwChfuDeTF+zoFZg+tH/KtX/Z7vILDWkxvh5xhePLhJEnzLkcL5Ehcz68iGyYMfuvC3XOqWNAA8W+Fj4uTfOLX9XbVxy+l+0s/CzYZk78Dk2pld7k864y2nEYkAKo15SKKSqDQKjX7bPxKVfkiiUhksoeiX9FgIpo7muds7xTdOkK5cgC8QkqmMIzKVTL01exQanUShHZKoDCYbAH4RNgm3e9PDAuLKB7bZt4j5D/wZgFfaU7DOTpntBP51GP1FGRaJRFQ684hEJVPubFQUcaOiM4WiS10P2G7LcsO4xbfM/oLGD+x05HhgXGOaZn7ByW/UE9jtLvDGOEfU4zk37r/6IwQLyCtdZbGxmTXjW1c6w4W0IvpCX1lWdvHAInNvvDY+3D+zff5f1DAvlOTnbd7HTPBWjQdKy65kdp8lGSQAaCzT4ovso0/uFavE0+oRLaZhlPT8q1YPT3+5mEPhWmW0a1wlnsgQN1rObHlh08I+TfiLepeI0x5roOmUMLpBub0tXMzf92+DfHxjXvvMNk1yDwah5eYY3/jiqV3qpW75/Se+44h/NzOJiI3Rlgqyz6ySulZ+GMSAw55ItOrr9zpJrXOk6xgEweyllsq28VXiyYD115kJFBA6KzomFo/OpgcXa0iyd3zx8Ma9F1P+55kJFCz0VHeMEW6yqJzmTLTbmRcen9++QLwu4mman/IXMQaQaTQ6g8Vm3/2PxmAekakcLg+Cfv7wcBszQRBEZ7KPKTQ6k3V39pgsFoXGOKbQuPxvovXvV0+0N1yUFJfVOH7wS++2kHBtuLVzYHSL+TNk/luYicXhShoV885GxWSzaXTGMZnGYnMvNqp/NTNBMG93srerc3CJcdLEvouZIICy2pvmbSgv80AdG9Myd8tdC4JJ0/WR7mifzLZdLnw405aZEleMW+F9f6v+rzriHmaCYdFygbUWyr9q6Zgt7l2ipXSMiqmuuoyWT+vSIU/8G7BdjdVR8iyYP7y3B0IwZzzF1CGic/nwV81IRBt5HmrmYQ0rxF9WubypJEfr+AbCjYj4c9sHKGAeHeyTGDwBrTfcHCVzzc4E8hhH+zv7x3Se8HTq+112JlDIJB/s7hNpbCEAwfC5nUktvmeBxGOTibsHJIZAdHrys+KBAiZ5f3ePSOcIwJsHXoBDPdw7onD4AGMqx0FH7qmqc/XkFvc0MSRkk4l7uwckFk90yxkkF4MELMrB3t4hlSWQTO9B0XSpl86XP74454yvM07Pd5ozAJgocXWNKR7fYEp++uvMxCfk+jnFlA5uXrsIcmY+Ic/POabklr2n2UH+/ueZiT9fGOwWXdi7Rr8qz8V8/Se2IQiiMVhkKp3BuodIWGw2k8UiUWgMFvtXeOhuYybEYkFjUmiMu+++EpxiiP13bM4vobr/RH2IryFYrUsMiEitmyP/jObxn2cmEAQZTDaZilDu3ZgrblRISjqTDVxwqv6rmQkE13qzwyNDy0eOT+rv25kJAvenakIctE3dg0KDXdy9b2UmiLfZkeOFdgqpmaT/xxrmv+BC9zITLMDH23w2CWvbPEYmo6K1Ejsdo9iCGGMNveiWFTIPhkH4uCNYQ8M6d3KXKYRXu9LSa8c3pjvTA2y11D975M8RKRstWeFZTcskhmB7uDTA8surdwpG1vZO7tjU5g0yC4JB7mpvfiDGQFVZUdPEMalh5ph1g48LZG3hKpJ8MGbaqgpK6roO4SVTe/RLxioIFpCWuyujLVXfvlczx7p6B2R37OxO1KRF5LdtkFgnrQtkz1WmxpT2blI4MAxst+V+rcPhO0qT3C20lJWUtaxcM9oXSexTExXIXesvDncx00ApoTT1bMPKxsc7CyKtFd69UdK3tMc6u6fUre0z13qzY3NqFw/oErIA2Tt9pTFO5prKSkqa5tiEugkiQ4BcHoTXcdmZ1f1jnRUJPpZaKEWUtolXagsSaXN97IIEK+1Jthrv/nz84NFLOYvgEHv1L6+fnfvmQMZaU4qr5vsXfzx88ODR47ca1ikt82Q2AH8jM4Gcpc40V8OPL548evDgwcM/ZVRcUkfWqUcnvjk9v0h3C70Pz/54+ODRnx/Ngurx+4gqSMDTYG6orZLs88cPHzx48PvjVx/MQ0rxO3QRBEOs0a8e5iparmWdrflRaKW3T56ahPbNrnd/Rau8/00zoHZuV2zSEBwNlQSbKr8WX/nBo+dv1dGRbQvXbCIQzFzrSfUx+vjqCXKph4/fqNhm9S5TBLBwtdrT+MvTD2Y5A0snokt6m/BovC4BrSknq6BlZot18YhpmN4mzZW6mKLD8goykv2t9FSUVNTN3GOb8UhzRT4gd2u8KS3UxUJfXUlZRQ/tU9i7TObAAuJ0TSJW7cM7BS0TW0dn98SK2S3KSS1BsIA4U5t0YW9CxcwmGWDvjTVlB7ta6WkoKatp2QRk9S0f8cBrzAQw59rz4pML+paIyKwD5G+P1cR5mmuqKKkboiNL+jeRfgXDkOhguvlrgK2OqqKiirqhnXtqA36fdnlSCIkOZlpSA2111RQVVdSQNPXTm0v4hhQXjU/vvmga2zg6u8eXTa2St0YrC2u78GP9FYkeRtqKjolt87u7gzWpOZVDa0ciGIR3xioLq9tw7fXZofZ6akooDUOX2MrJTapIUmYBebo1yw+tp6KsrG2MtHwXV+egrBbCNo0425YWZIdkAKVmgHZLqZu4ZG+VMBPlW29vCDPRmeyLASggb3e6IyfSw8pQU1kZpWPtkdU2eyi2ewMHE9UlVS3dHXUFEXZGakooVWPnsOrhNZq4tyHjFXW1qyjC3kgdpapp6ZVSmRPhaOdy1TcnFIkoNCYVQbV7zGAsNpvBRHLIup2ZQP7+bFdetKe1oSYKhdK2cstoxh9IQhsE5Lmu/GCMoZqSAkpd18YjumZ0jXp5qAOI+Pr87LKe2UMBDBDxDeVVje3tjSUxGBN1ZZSKETakfGCZKi4dcIhvrKhubG9tKIywN1RXVtOy9k1tn95DYhAhmL89WpWTXTEwT5YMSRDM3RiqzMurHVomHS135vrqK8l9UtGzwji7Ref3zR9cmxJJevpodU5WeR9B4soEGSvdFckxGbUT6+LZCAjvTbbk5hZ0T+0vIL455+iU7LxoZ0MNZWV1PUx4fv/i8cn4DME8IqElJ8hGXw3pF/5pHTP7SJwlCBNn2ytr6vuHRlqyAy30lG3DiofXRTAoIM51Zgbb6aorq+pa+Gc0z+1LpuySTg7DAAjSv52Z2KfMdMGjijCTK9Y5NDmjJNrVRB2lpGZoHZbfsXgoHqAgmHu03FuR4GVvoqWqrKJl5J5YMb4pDkaEAPLqYHGss5GmsqKyiq6lY3Rxz/KVKKIrvjlQcLjQmxvmoK+urKpj5ptaP70rvhuB8NF8T3V1RVNLR1WSu4kWSllNxy4oq3uOeNJ+hfTVoaooFxN1lLKGHjIKubg6+8dl5uZkBlqh3n9Q0DFzcHEPzWsZP+Ajvjmso39iRnmcu6mGipKqgVVwTuv8dRMyBPMOV+fnZleJm71FPq4etzATBLOW2hPdbbDx1YtsCLnLL/aXFWY3jm5cbrDigYpPWewrDXU0UkOhtCxdv9aN7N5rPTmtSWSc41NWRmoTAzAmuqrKKqrGzuHl/Ss3RflcOOZv3LyfmQB+V5yekkP0+BYFAODNGg9V84C2hZE0FyWLyLaNYz4MCHFJhsp2kaObFEAEj2aaaVvbGatqYIOTimrqRlaoHM50ou0XdNzgFom7OdaW46vzHmUSkJhRWFbSNXPM4oBrDf466poucUXtvb11aS7qSsoBFTNHJ77Ac21Axmh2VFRyTlVH/yiuHoEJ4/CWS7ExEMxeH6wrRW6ZSiaeUYkZeU3jR/vtYeYKLl8ndk7vdyCtK8hM3Sd3eo8OwaLZFHs11c+fNR3Cc6s7+7pb0n0MPqqYZw+v00UwDAJL9X66KEVz74TSutbGypy0ysEVfH9Lkb+OooKFd1x6fnF559QhmT+ei9bAhPatiOOM+NtVIcYq2pahmTVdPV1VqR46KAXnrP5tqhAG4Ik8e3WND1800VFZVZ29uIZsXz3l9/Zf+zfIV+6FMJtQiNF+/wQhltcfPryTef70yR8PH57ZmUSHzdGWCq8fPX6jYGqLsdZXeP388aP3xpm4FRofptwbzwTCO51RpqhXjx4+eCLz/tMHWZmXD1W8y2e2uGQJMz16/PiPxzLyXxQ+vHn256MHj/+fomfR9DYLYQwyLspW/cMHZT0ztLWBiuzLJw+fPrFN6V0nARC9L9pa7dXjt58/vXnx4o8Hj357g04cmen4itV6JyPnWzGxxxYPlD1x5qqvHz5+/kXHxNzMEPVRRtYysmfxapSW6ADxwcn88eDhExn5jx9lXz9/qupUObaBWKqEC7keBvKvZFxyBzcvmlL4B/juigBLZVUT58jkvJLylqltMn2u1MVQS/4LyiEstaZzoL+tJMAapWwb2UU4RIAA4I7XfE1I+lrehBvqbUnx1Fcy9qga26buzXWXh5qoo0ycQ1PySsrbxnbOuBuCeftzPeVhppK9uSd7QdZMZXpiYmpJS+8wrinT1UTB0LdwYoN9yc4EchcboyyNTcPLR/eZIAxC2z3Jdkba6KDU+s6eptwAUy011/TOVRLIX671tzGy9k2q7uzv724uTI0v7pzbu2jxgmDeSq2/rbG1T2KVOE1RanxxB2FtiYCrDDfXVDXGBiUheRvZOmDPVgfY2pvpauhjPEMyy2r653apzOXSEDP7wLKxDT4MwHPVwWZ67z+oWQYlFrV29zYXhllpf7GKqJ3eE8KgcKE+3MrcMiS/a359c7IxAa2rYe2f1DCxQ5yuCbE3sfKKr+zo7+9uKUpLKG7H71yskWvMxNyfa0zzNUK9e/70yfPXsijrkOrBJYrExiOxM11hJoA33ZKbnJhYXN8ziGvLDDBXNXLKwy2xQVi0Uh9sq//+o5KNf2xxY09PS0koRlPF0r9mdEcIwRBnozbOTkvLyC+loqu3u+qrt63uZ5lP5vczE2VruDbFzQT17uXTp89ffdSwSagd2qCwEKK6l5kA3lx7wdfE+MK67kFce3awtboRJrNzngWAK20JGCsTt5jCDtxAT0t5ampe68TKlYcCRGvNkVg7n9yOdQ4sWmuOwhjKf1Cy8oksbOjuaS2LdNJVNfcuH9wSQrBorSXGyfj9R5StX3RJY3dnbaaPlaqqVVDN+L4Igjmz1UF29gHFvTuScQWCGfiKAKxTWMXQNnF1pD7e3lBD38YrLrukvHlgaY92fcqG9PTDoUxfW+fICjwRgiGYNlUeaP35T2V0WsssgjDAYXeup717ROMYdaU9BWMsK6dq6hOT39o70FmZ6GyCMvXNGVgXz7SPJgqCrXXNnOKL27pbyyKc9XXsgqrHDkQAvNqR6oE10NQycXDyTimqwk2tHjJA4ni5P1rXxC2yrKW7tTTG0VgTHVY8uX/hZn2dmZgc2tZMU6a/mdr7l8+ePnslp2IbVIZboCF2pluYKdNN//1bFTP36LwmXF9PZbKXkZaeV3b7Fg8pLHu1rzwrNjanqquvv6042t5AGxNTNUeGBdt9GX7Wxg6B+U24AVx7Rc7XgtreJdJl/S4yEwQdInYdXSOn0JLm7rbyBGczLeugvLFdIQzCG715bmZysihj99CM+s7e9opkN3NVI/eUrhUeDIm2+vO90cbOcVWTy1uEngJfKx1DTGApbmSotynRw1xb18gtPKukrL5/ZoMm2O3O9zF8/wZl6hqR04Dr661O9TXV1nVLbRIPl+e30fMtYLen0MfF/RZmAsGV7hxXjHV09QRS1yC82V/k7YqOqZm86r4RUfGNcXaGOpjQvJbOrvIkbxN9Y9+cnm8PHoV4W0NNuTFR6VVt/X2dlbEehrq2vuWj5POs/qO27mcmED5s9VfXtC2c3mMJyNWB6vqBlat73Nl8tIpd2MA6SSic/2qvaBom5icRPJph/uXja2z++IEkegmZ650yE1kEA/BKlauahX/7qW8OpPeFWijZJeK2KeIuAdCbI/RUHGJGt8inpp6bBAPAgTQzFaeY8c2TedR5ItFqlquqZUTLqmTGwO67h5nsVD4aB/UuH0mmRCCpzc8U5Z45uUuFIBouzBJlEd68cnipnYi2alyNDMJr5058cwA8ccZMIEzuizXWM45tWyRJDgKF+CJndWO3mukdjhBhJlWUalTrvNhsB8MiWmOkobZHyuQG9VK3A4QD6bbKso8evNOIbZ0ncYCD/gRzlTeP/5TYmUABocBB5/0fz+V8yqf2WRDMXcxx15aT+R/d0NalfdH9zCQgZLlqyz39/aW+f9P0AQ+AeeTtvWMWl38aA/74NwXnnNFNBsBdL/I1eP/8wWNtr5bZPfEESEQjkVk88eOIguV8L33557/JYzLG12mghJkePnjwTNYiOKt9fH7zgMZervExUXgmZ5QxsEQTG13myr10Pz95KKeX3D5P5sOQgHRIZnGvOGsBaLrUQ/vTkwevUaFV4wdsEOKTd/aPmRxxJAnA6ky2Qcn/fzpBjbN7FwZTpL3t10aZWQfmX/LNGX/WC6ie3hFXCQiTcEnWJpivPfOUK/NrCObNFDqZ2kY344kCGNhtDUGbBxbe7H0T7baF2JkHFgzc7LkDwMkSDyOnwGb8jujMNze2utQRb2tmHFQ8uCOeSUHMiXQvI3RoBV6SN4DVl+VkaO/XML673ZOAdvAu6F8+tZCet/GTLRA+6Em0w3jn9y1dmWIAex0Rjlb+OT0nvjkAnqsKNFZ5YxFbP0c8DcUBrjBTkIkmyrdkYPvEC8/syXQycQ1rmz6AgJXycAvH4NKxDYn4m1VR1pigwpEVHhH31dHRK6dn4fQhkWuZvMJMDNpwoY+Job5XQknP4MhwT2tFVesoYYt6BzNdPCUE8+er/W3tgssGdvgSZlLR8sgZWBVHUkIweTjH1do+qm7sUARTRvPcLU18C3o2JSUCqL1Z7jpqBnFXYsCv2Jno+7053vpKnwxcokpbB0eHcE3lFa1Dc9sUsRXqXma6ktvF+lAHe//C3i0ODZfr6egX3zZLuZjkyvYVZop0VNdwSe1ZROYqMARTx4q80fahFYMHIoSZoh3VNFy+dp/uJU+U+NoYu2e2rjJvZ6bKQSIAA4eD6b72Hgm19/jmgP32DFd799iWGToMcCeqwjydDTW17ILSm5eZMEQdywu2d4kon9xBYsAd9JScU5tWJAYGgD1aHmLr7FU6sAkB/Jm6GHsH58yOBWS2A8H0meoQjKVHaeuamJkwOm/0/XOGtk7GWIizWB2PQXsmdS6Io40BzlRNJNrOMbNj4XwUvsZMzN3xojArRQV1TFhOC250pK+tsrqxH79yFzNluGlqWqc0zUqeQgaZM+Ux9g4+mf3rVwYFGBaut2Q4Y9wT2mcFlMmKEA+XyIqRq0PHxYq8wEwQZ7n+q7Ota0zLnLgSQe5MY4KDnf3Xljkewky5rkYKdnGV85JpBsCZqot1wDrndK2BwG5XgbeTW9RJIDlw0Fvs7+QeUY9nwQBlpDLMyc2/7KJvLt9bW8M8rmZKUhyIRahJcrT3SOlZvVYcSVbvZiaAPFwZZu/gXoDbQ25MtzETBHNWulK9bB1jKubFsVUQe7kpzcXKMbx+5qbg5osq3bgNQut9RV4utjG1+NNx6sZ0f9+P9zMTDANbVY46KN+yReJuh5+Rim/xwiETFsxkmmqbpvRtklYqMLrqQZKAJ4SZzJRMPFqWT0KdkJLdwUwQzBtPNlQ3jm6ZXCOSkM8ReTzPQVkHU7G0e1N8vohBXJsdHehua8v00f5kE95//enW72UmB5RpcMPyWfCTaCLeTtEpcXTrGOaNp5ppmcZ1LpMv195dzASAg+lWqnbBuCWxDUNcs8LFQgd9g7A6wiETnsyzV7f0aibsnRCCCB7OtFZ3jRpdPfVMSxqDaKvER+/9899fWMWProm5kD+eiFZ7I/HNHQDr9X46X549+FNOz9bRw9fX18fHSlNe5tlv8o7ZU+vMe5+bE23XeRp9efr0N/M43OrxhU51Hs8k51s5uceGYBE8lotRe//osSq2dkoSjQTQd2Z66grTEqLDg73N1eVe/PnbK5vE4RXyCTP98dsH7GmkEQQLpvMcdOSfoBwrJzaRaGkIpgyn2mq+e4T49T6aeMY3Te0wr68HIdqvDjX78vL356bhuPnDC1kUCwTAk4UuWp8ffnErmNgQD0YS3W5jJlMj/9LRHUlCCBbMFGCN7ePaZ45OwVzEPt5YnBjs7WzODzLRNA6vHt/n/jVmAljHWwuTQ73t7bkhFmo2vrUTm3wJM2GDshJ8HcyNfPNwWxIXGwTz50rczCz8Cjvm9k/a/3RVsKkxOhVHONpuC7fX1rTyzu2cP2Zd8kKflVW43R7hoK1p6ZXbQTi6kOYmZgowtXTIwS2ew801ZjKzcSroW5IABgzA+HI/U1f/xoktULRYFGyGDa2a3BJbLYDdujhbO//sgWW2cKczBquraeGR3TZ3yLwpk1eYiXbYnuqkb2LztWHygHrNF3ajnUlcWhGHvL08NYTraimKsNE39S/o3WSLmcnOzD2zY+U04kK4UB1giwmpHNzlg9OVweb2LsV9yyd9DYR3ulMwlui7mInJoRPqQu01dF1TO2eOb3DVfRsziTiUnRX8cF9Xa3GUvaGZT3bnGhPa6c1wNlE38Uhoxe8yT72HZ1Up2bjKTFgLl5TGhVMzkHCpIdzBMaCod0soZiYnS+fkxgXqyTlAxmR+sIW9f+HQOsS9zc70XcwEQkutSY4urtmdCzzmbGmUq09kcmSYh1tAatc8jzVbHeqMDSnt2+cjzORoZ5vYOHViBgXgheZEBzfX/J4lULRWn4yxxUZXD+6JmzjpaLE10dMUXVQyImYmrK1lTO0YVdLDIViw2hbvbIONLR3dPekR861pLtaWwRV9xDOxrjATg73Qkoo1UnWMr5o5EJsDL7pZb7UzuVo7htVNnMoHrDdnOGE9UroWTgcFgEc9WJ8e7e9qK4/xMrF0jWqeZosOR/ODLdQN0HHVo9vUK/O80/ydMdM0T7jeleJhax9RMLxzUpzFjmxPWwu/oq59MTO5OVhGVo6cBBgA8EpnlosbJrWVAAJb7bkeWPe4VoJkonLUXxaEdQ2qHqfezEwF3jb2ARWjp0QObLbnuWNdY1vnTotzmruTv/cw03ZXgScaE1QzceKHvdnOhESbFHhgzIMLuveOJQVc6ywMsrbFZnZuXLICXLn61a9IXO763Fh/V2dZsr+VjU145dhNAHD1sL/h+7cwE4zEfSuaBLVNV4fo6mGKZ/aQSS1/Is5G0TF+fLLET0PPsWxuH8FbMTMpO0SOblywEt3BTCBM6gjR+Pzy0eXPH7JmRYs7JxG8ElUgmDRTHWyjLP9RQcvIyt7RzUpH/o15yM9gJmV0dC8S0iH5iCYT0IrYxJHNY5jUFaGrjc4e37gUMQPDdzGTiNkcbajumjixceoLhGHgoNHHVMOnYHKXAk/m2Wk4hOAWiSdhIiJ4JMtawyVq5CozLWS7aMo+++2Dc/70llgJ0VKOq47cS7GdaR+cKXbW+PDkwZXPo9/f2qdOrtHvZSbhQrGjzoc/nj1zyhndOh2REQHOmQkV0zF/LETqdKIAq/EBYaaaqS2uiDlR4qv36cWjh78/fioj+/6jrMzTPx7/9tom4ZyZnv5f/bD2xQNxX4Vg/niWjZbcY3XXuqltyUMDMECbqo4wV34tDlN68FBGDp3UvHJ0+UkhYLnAx+D9s9/kHNJGVi8b4SRR1WWeugqPP2AzR6/EOd9oZzK1imiYODEXI8xUiDWxi2ufRiJ5aMsNKS6aCh++qOlZoLHONvqfP2qFVE/sfS8zQTB1qT3RTefzp89q+uZojKu1gYK8iWftpISZfI30PsvJvJD5qJ/YPHPyuB8EU4fS7XTePXz48GIPePxGL7FnmgRB9LX+vFArJblX8urmIYW9a6SzAPqT1gpDEH29Pz/MWlkeSRNc0LtGQrj0RmYyw/pUj2ycc801ZjJ39P7tp4QAACAASURBVKoaXj+5mwPwdIWYmca3QIA7UepnYWWXXD91TGftjuW7Wxj6ZHWv0SAkAxuDhRG2qPev5NVMg/K7V44ur+p1hZmY7L2xUj+LLy9fvlE1dY4t7JjdPDoPJLqJmUD6eke2j77yx88qOmY2js62RsqftXwKejdOmMnWv6h387TtiJnJIaRiYJfHGcz3MnXyrxvbPgFuCKaM5LnbXVtr4KKdicHZ6k5zNNR1TW8mHF9Dum/wzYGMje48f0OVT59Q2qY2GGdbY5UvWp7ZnWtsGAbYGyPVkRhN+bdvUebuOR2z1yMQrjGTnXdO29pZ6ZYawjGYgKKeU2ay885qk5jYkAYhWqqMtUV7pPcsCG71zX0XM0Ewd6EhwsUxqKB3YbImzN0jpmxkpD3NzdMrp20R35SAdfcqxK2JxDHgjk7YzLbTtQYAeLEl0cHVNb97WcSaKQm3lH98uYk/faRfXDAoYSZnbHrr3Al9QDBzujrE+uPVHiGj7l/SvXva6q/GM9GJuIIAY2PL+OpR8vVA/tuYKcvVwS3ufK0BYKM53Rnrkdy5AMAgZ3O0IthG7dNHBS1jK4yTnYnOJz1HhJlgCGLtTdd9ddX58vadoq57Sh1+53wacpLBM2bC85hzDZF2nx9cLv3jl6re+e3bYmZyd7ZPqMefDozwSleWqxsmtYUAgPyljnRXW1P/3O5tCuuI0Bjjao4JK5o8hG5hJi9krYGpU+sOsNWR54FF7Funt7Yz9SQb9zDTenuuK9ohrAEvbny32ZkA/lxrKlrp4YOLA9jjR881Malty1cnulcyIPkKwey9mep4e3UFeQV1Ays7J7S5nrKeeXjl6L+ZmQBwMNUEZZWU5qWq6poyvYs4WGBA0JtoqIHJTHVVUXVJxkt+FDMTyiFy7BuZCYIZvVFa6taZE1v0W2hYIizIGIy0VNLzKJjcZiK0IYLHsq1UHML+CjORWnxMVL3O4pkclO1ietfPHoA/ZyaIgYvV17RKHV67ssDTXcwECLoSjdWwUSNrpLMWI9qscjXSCSib3qchzKSJCcUtnlqhbmMmYKPQS0f++W9v0F9P3Hai6a8OGm+fnzDTSrWPzuenj+RMc4eXKQLh6UckEkEQeH88k2it0s3g05/PHlgnD6xfdMafM9Pp+kyXmGmbuVnnY6Lw9I8Hyk4ZAys0oZBYG2r6Reb3V5eZySCsY+mUmQQzeQ668k+UHSvGxXam067CP1psz/M3Unr956MHD9/qpnQvXIrpArbKAo0/vfj9pWXMwOJlI5yYmSYKXLU+PVD4RjvTxfWZLjITnzec66xnYpPRMS+ZNArny9zMrMO+n5kg1lSmp4GBY0LXPAnBDsS25Gvk6HOBmbQCMovjvEy1LX1rJnYkfgrWWA7GxDaqaYp4y8iGjNEHc03p7rrK7y0iamb3xTGqV0YfJA2hOcMDSRNeM7PHv4WZvO9hJqz3zcwEwxBzvSbaFiX/4rnM24/qRn7ZHcsXl1iAIDZxvjXLSx/1wSy0Ymr33IsCX2EmJL6EQ9ldxNWk+9vpfHzz9I2Wc24X4YghBpTrzATwJ8sDzMwsEuonj8U3FuFKfbAd2v+MmezRAcU3MpNgtNjXFOtVPbJxMrSAMGko2xXteFc8E4Oz0ZGKMdDzyG5dIHO+284E8PFVoZbmZjHVY0divhWtNkdi7BA709kdAOARF3qzA8yVlHUCi/t3T+9xkiq9ykxOdj457bcyE9baLbVp6TTEDeLOFkdY2nnn9C+D1+1M1PFiXweHsO9iJhiGWNMlERj34MKslCg3v9CaEaJgoyPRwyUwMz8tyd3FP61rkYdEXFxZn+mcmZYAHqEy1tbeMwO3fK2Ji5nJyRmbcYGZOIT6cAzaM7td4ge+0tJPvl6xM9EPevL9DU1skurGqRctTJLtW5np8vpMZ8w0D3CWWuNcjM0Dcoa2xeuIANvtOW4YsZ3pND8Ql7TeVxZurfVZ3z2lZ/lyLZ4x0zSPu9AS64R2TW1au+ysQM4jZiYPF/vEG5kJhiHOPq7AX+/T82cyb94r6zjHlY9vin2fN/rmrqzP9KPMtNNV4GXrEFQ9Lna53cZMILDQmemEtUlsnL1Wu6dS3fkX4m105HqammIzOzYkjwVsDZb5utqE/buZCYJpuAhtbUt9jee2qSM7kkWIIJjWF6lnaG2g8tQyoX9bsprjNzDTWrWbuoV/66nzTrRZ6air4lkwc3BnpL1wocBGWzusfvFY0jhFlNpgnc9Wwfczk2A4yvKLQ/zQSXwUBPOms6y0P7vmnMaA38ZMJEi0XuFkoOqRP4VEi1/4ANu1bsYGYdVzRMk4eDGeCYDX6321jByLxjdPZh8gfNQVYaBrkzG4RuPDE9/ITCJuT5KF4tuHDz+a5g6uMYQwa04cEi6JZyKCHHy2jabc46fP0am9G5JQMBjiUQ5ILK5AdD8zQayROLTa6z9+f2MW3bskfryFf7S8uktnCE5iwM/WtLzETDt0fL6d9vtHz55hs4c3aRBEG4530Hj95LdbmQmGRdv1PqYKz94ZpvUvIRZ4COYwaByhAGFKCKaPpNloyj589sGvUhwhfqaziDeQ4aAm9+ihnHbiyTpMgsO11T0qA5mSihgdiTYo+f/RC20iXAwORXCKWBdtbhWYNyZ5ugeGr641cImZNsqCjcx9c0fXTkzQR72JVjoGQRJm2msLtTMPzB+4FGZ+mkNgH9kbkHeyV7RW52dl7JPXv3ESmkDrSLHTsPQ4ZSbxmpaTO5zd7mhHHQPP7OE1xHwJ7LWF2Rk4JbYvXvSQnl7i/C/AG8l3N3IOacXvnbH4+V7JljiNsXNw69SeaL8zEmvpl92DmILEiDlXFWCG/avMBMH06RIf75CCrkXmHUMjwB8r8jZ1DmwY3znP5HVmOrurMRnrXalYA1WHuLqpbbFL5QZm2q6PR1t6JHfP05CCiLnH2djQK//UznQbM/HhjfZEO2u75Oapk4XaQGihIdLK2OwuZmJyyJNlftaqRn4FA4s0zllWzzbu9s0BO03JGGv3uPZZsccHgsmjBR6mhu4XmUlcWRCbUBJuhQksGj4lOkkdficzaZkEFI1K1iSEYP5aS7STKTaudvYYFizUhdrbeed1bUoYG4SWW5PsTYxDxcwEHg1m+Nl7xNfOXZwvSXJw5X+APljk7+JuZ2lm6xtdNr4PwsL1hq+ubo62ZqZO/qkNiwzoHmYCSLh8H2sHn/LBnavz4uvMBMPA0XB2gDU6sGB4+2ry86xdYSYGE18Xj9bX8EhvXrpOut/LTHPgTn++BwYdWTki8RiC9OmyaEsTjNjOdJ4JxHBAaE5ydHLObF86b/BIdztd03KaCxyPF4aibXwy+zev9Zy7mQmC2SsdX8MDY0qHrq6VDFBHqsKd3PzKho9O7kzX1xr4UWaijFSF29m75vXuIJe4lZng48maMCdzj4zWncthpRd1umMbII6XhDnY+meOECUjFWe2JQVtbvIvZyYYBo8a3bU+vXitHI/boJ7yMkjt8NP/IiPzPqxVvOgAYhxG4pnusjNBMKUrTFvTMLZzhSKxxooobdEmijrWqW3zZC4AwQBjf3YIv0Znn15GrDd42ORpoGAR2bp6zIMAzkpblJW63HOjb/DNifbL/bRQ5v6tc0c8ABaS5wt99d7LPsPez0wgLDqqDzNSNrDPxa3Q+SAsoG+u79KQ5YZ6Qy1ULMOaTxaoushMMAyS+iNs1QzcM4fWaUIQZm11R6KVtD3z8TsMEHlu7tvsTBBMG0u1Un/3+OGDp7IqBkaGqA+vn/7x8MFJDLgIFu7WhJh8evnowdO3mhZO3n5+rmj9Tx81o1rnDrn3MxMM8CbynTXeP3nw8OGrTxr6Bvpqn2U+On4dX6XdyUzbrP3WIHOlF49+f6lo5OThgzFUfPfyj4ePfr/imzu3MyHrGOHTnLXfybzzKhnfYSEj7Gy5l4memiHaLSAkxN1CVfbl44dyRhm4JQp5Ii/MxdTQOKoKv0eHWHNFzgYfnzz8/bHMB3VdQz2NT28ULDL7xYHkgrksNz25V2/dCoa3TufZJz1TxO1Js9ez8awd35a8N+ZOZqK2JtjoWHlUjW5zRTBrqy/Zw+DDO5TENwcxh5Oc9Sz8Sie2bli2EtnromfhVyLZC5J6YzA65n5FY1tsEOBu9mW4Gn2W0T3zzZ2uAw7CR6PZTibq2JTWJZIQBugD2W56+ibhZUO7DCEEg6yj5YmZZSKZy9ienSKsSlapABmb1VGWxh7JuIVzny8MwZI0B2KMBBmbNdFWSJp5CsgcTfUwsvAuGFkXhychMeA/xEzk0RxXKwNjtHtQWFRUdGxSVknX9BaNCzF3CHjCyj4d6cwgc6suztbEPb7rYmjxFWZirA13tXX3zWwf0lgUIr46ylJbxyOzdf7wNmai9Wa5GVk65feusEUwe3ckK9Dii6zSuW/uNmYSwsABLsnN0NA5sWOeLAQhxkZXgov2uw/3xYBTlqtj7VUUVLBxlRMbxwwm7WB1lrC4uS9x1d3DTPS+PC8TS0x25yJLBHP2x/NCrRRklRDfHJOzszRNWN6i8UAYgllbnfGups6xNdOHJ3c9Sev9PmZyVH2hYBxdOXrIgQDGZvNXZ21DdFrrLPI45vFQhq+pITahbZ4qgkDGRu9XD31ZeR0JM0HsmeJwGwvnpA6C+Lk9QDDfkRPkF1TSv3gpIkJ8s9zrz/Gw+izz2Sy2YhB5tBUEFpoTXQzevkTZJdRPSp7quMvOBMHU2Zowe11jj+SuRbIAhAEudZ0wu7i9z7qJmWCAha+NsTHS80hrXiHxkKVoKFuzc/MbBxf6+RVmYnJoyx0p7jqf1MwjivvWD+gs6tHG/Pzi2jb5jufmrqwDfmZnIoDUqapgeyOH+Op5CgBxjydr4tGaMqqOUc14Npu4RiAQNsSvpALZB735vtZY39KB/Uu1eMZMM1wYYM82Jdob67gk1S8illKQS90mEAhr+3ToPmZizDfHuhlpmWD8xZ0uIS2/aWgB8ecCgtnmFIyNRUz1xMkz+T+dmUBotSfXzcEqomIMmfxfZCYI3B2vjfF2iqzE7SEW6JXmdBd9Q5uEumlEFZBP3VskzIufxRQSR+sS3N2DSwY2RaBwfagmyt87vXlSPPs5Ga0hxnxdsqORjX/FOBkABUfzLUlumm9RFv9y3xwCQ9sFrqryBt49a8fnwYsiam2QxgdNh/pF4kmcxb3MBMMgYy7LTVP29Rt5hbc2iYM7ZCFIX6mOtlV48/z5y9cvn//5+OkzreDataMr1k4Ovsxb+6PMK9mPH+TeKFrF1ud66bgmDt4bAw7B9LkKT+NPMi/fyMu/fy37CR2d5GGsFlh4r50JmTmIjqfyA0zev37+Qubl86ePXpiE9a8diwDuVImn1qfXb+Q+fLSJGlg8Hj57bk5iO1lsjLRTe/dWVk7u3csXr1Qxcd3LJMk6Pd/KTMhkhTFR6qf36QWyDNKfMob+RckeBgry/3P27hSAuliTgFGVfSZeJ+nBg4cPnytYZPevftNaAzAMsTfbUp015CXLLD148OdLneCK+V3Oncy0xRVx52pDjJVeIhd9+EhW36cgO8hMU+6d7aV4pkvMhFiMMKoffkfWMtjmwAC82hJprio+A7Lq0oM/5VU8c3BbZKFwoczV4NOT1xoJ7QSSEIYB/lpPhrP++2d/iOO2Hj58o+NZPbXNBmH+Qqmr4aenn60LhlauRhNAMHOxJsBC6c2bd++/GMQ2zWxPXn53ykU7kxBmLjeGoFFvXr2Vfy8rq2wQUZDhiywyNL7Hg2GAR6gNM0W9ff1O/qNFSOv09nnjRyqIR6gLP90b3DKxPN0UY6X2FjmT3FtF08DCtEAbn9j6k3imU2ZCDuTgy/2N9I2j6yYPuTDE3GrP9NL++ErcyJ49efpMxT1rdIV+PJLtpC//9Plr+Q8fZV+/lNOyy+hclKzcdDLegDBpJMfZ4P1JmjfiNB3iNABvvjHaUu3d63dyH8wDG0a2Jn+EmYSU6eZkN2szMwtbDBaLdbAz01J490U7tGx0tjff3ejD0+ev5D58lHsjI6dpm9pKOHliVJLLK8xEn6+Oxai+/vOPP//888kfT16+NfDOxBH2T0KartuZIJi11hnvrPnu9Rs5eTk5Zd3AjK9BLj7xxffZmUQwDAHEycogG6W3r9/Iyr19p6TrH+RtZ+f39e7n5pgc2uZEWYwDSvbZ4z/EmZR5ax9bO7X1DWsNQDB7oyfZXUf29WtZeTk5JR2/r8kh7v5xeZ1rDOZYWbDxl6fPXsl++CD/5s0bVfvIpun9kziekxpF1he4uNZA5J2+uRgsBo1BW1mofZB79/b1C5kvOkGF/duS6EuQt4bLdjN4LyPzRlb+naySjqefF8bBJ1ZsZ4JB/mpXBlZX/tUb2Q/GXkUd3XVpbiZ2/lUjN1gxRVtdia4a8sa+lcO7yJgIwdylxkgHJXmzoJoxsXHgbt8cAl68ndHKEGul1y+evXz54vnTP14oWiS2TJFvZCbEJ3UwXBlljnr7XJz8z6dPv6AjmvCnNhWkB11bn4nJ3JlqTnTTln3xxx9P/nzy5MnTj0bh5X3bf4GZFgCYu9dXGKj/6dWrt3LyHz7pYePjogJCY2Kb8Gw6oTHaQfHps5dv5T/Iv3stizIOLxtCllC5+LnITEhxDsdq46xU3z1/9uLlixd/Pn362TqkdoJ4DzOJGKuDJSFYcyMTawdHLBZjb6mv9vGzqnNy/Qod4u4M5wUayb969e6jltfXunnqtXen/KCdCYK5q12pntaY6PI5xmVmAvmE1jQ79Y+2qeVzkvZAnKtLwqDknj998eLli6dPZN6ZhxSO70MwZ7kpDauIMo2umeQAx4MVYZaWjhmdl59LBAW7E9UhVp/FDVVeQRsdHhUbGRUS+e/2zV1sDT9lW8TcW56ZmibsUDini1dDfOru4uzE2OT0OpEhOAmQvnwxCOaSNggzk7OrByz+jSkup7/4TcDYWZ6bws9tkdjC2y2+F4+4sA0wD9cJ+PEpwtoxk3+y+CQEMogrs9NTC5skjuCmM4I88s7SDH56eZd6vkL3hZN+0yYEc8lb87P4pZ1bTgLBQsbh2jx+fHxybm2fwTsP8P3G8wsYB6uEqfEJ/MreLZe44UQQh7Q1Pz2JX9qhcb/hihDMIRQ76394pmhXOrYheSpeyDzaWJgeGxubmt84URWEiV0xZqoyMqYRPQuH55oKmAcb81MT49NLO1SOGFpE/NE8V82Pj1GexZObV4ark+yKWEdr89N4wvoxk3fDeqGXCwXxqdvLc/iZpX0q51p5QObRxvzMFGH9kMk7z9TpCa7u5VF3lwhTM8s7NElWT9Pd9xcSMIhrC1Pjk1Mru2Su2G+JIDuLtLU0Mz4+PrOyR7ueNfFJRWzS1jKSZnpl73L2Qdbx5sLsFGGNyOBe8wvcl6Hz/SC825OMwXrmdi8yzwTgL5aGmWFCysY3hACbvC3JwPLu5QycnoPOZJMurgPOohK3lqbHR0YmFzcOKbQLodYSZmKyOZffgwvx6Xtr8/iZhR0S61Sb05Pf9xfk0/fW56dnl/bIFx4svHgUAAA0OpMsfnXKmQ+OxaLsbxKmxkbG8Mtbh1T6aSbpTOYxmXbnOuCQgLG/Po+fXtg+Zl7OLcCm7K3MTYxPTC3vHLMv77uYo2/ZRtYacLL3yW5fodD31ham51b2Kewrw6KQTd5amcGLy35lFwyDbMruMgE/t7JHPhgtCMW4R5RP3rS25bdk5lvSQEL28c7y9OQEfnHjiIFMIe/+CFnk7ZWZicnJxU0i80pyCIIYLA6yZPzl190wqMTNJfz48NjUwtY+mSmpTbFpkM5gccDveSEPJGQcbS3OTC1sEK9kFuDSD9YJk+NjUwsbR4zrT/zeXCwhm7KzOjsxObmwccC4YSS5fBQIH01Wh3o5hV90zAm2O3M9HN2jm2eQeEGAS99fI+BnF3eOb3xg9fIJ/8I3wV5voR8a41c+fNWDC3JpxL3dffKFd8VDAJuyvzI3MTFFWN+nnZYP4tAOd3f3yGwQYi02pHo6eX/tu+n1dpK6xhNWD6jf9075v1CsHz3km56b+9GLSI//+xQAweXewuTowICLn+CUNsL+XYEpPz2/AK3nq73K+6eGEY0Lty12BgDDOVj1L8/RX3slqyvclgvhTnOghZLMF7Os3uUry2Lfdoj097+uAABPlvlYe4a24M8dEBBrJi/A3DmyFr97hlG3X4HN4R2LX6R695sumCwWmUY/JlO5v+Z9c7dnEGayuUdkGsJ1p2x04waSQyqNTKHzf9X75u7I45VdEma6+FTdlQTf+hWC+UtNMUEhKY1iR9u3HvZ3p+Nw+ccUOoXKYF5bXOBi3THZbOQVgWQah3vhwYS/O/P3Xh+AlzszPTydsjpXzuAS4q61pLs7eSV2LP7AFOjeS58lgGDGYnuSt71HUv3qrWvEnaW+cwOCBZt9OdFBoYW482ej7jzin7tTykz/3Lr5KTkDgdX+kvSEsEufyIyuRSLrG252PyULkpOAVEJzcVpcauXkLulSqNr5NQTEVfzI4Pg6SfKimfMdl7YgYGu0LvtrdH4HgYgs1i79/GIFIJg6VehhqW/hGVfePjA6OtzdVBLtqo/Sx2R2LX4Ts0IQxGRxjkjUw2PqEYl6RL7pn3jv4TGVzeaCd75+8FcUFwBAOoN1eHx/Do/+DqS7qcg/kZkE1N2VtY0D6r8JKmAIhFgs7uG3NCoSlcXmXHxB7016/rN+g2DmUluCu7G+XUBuA25kbATXVp0SYKOtaxZaMnR4ywD684sAcramu2prWyY3bjbnf+sVxf6QzfXVrZNnuL71uH9iOikz/RNrRZonqQL/KAUgIZHQlRvtYW2iq62jY2zl6J9UMrB0yP52ZIUgSCAQsthcOpNNZ7Ju+sdmsTlCofDvurdBEMTnC5gszm05RF7hy+EJkdU8LgX8/k01JdoZyIsKTaoZ3DlZ2+dvysffeFmkUQnvb1SCv69R/Yg4kIiyMVaV6m9vYaCjo21ojvaMymqd3KT/pcfTfiQj0mMvKSBlpktySL9IFZAqIFVAqoBUAakCUgVuVEDKTDfKIv1RqoBUAakCUgWkCkgVkCpwSQEpM12SQ/pFqoBUAakCUgWkCkgVkCpwowJSZrpRFumPUgWkCkgVkCogVUCqgFSBSwpImemSHNIvUgWkCkgVkCogVUCqgFSBGxWQMtONskh/lCogVUCqgFQBqQJSBaQKXFJAykyX5JB+kSogVUCqgFQBqQJSBaQK3KiAlJlulEX6o1QBqQJSBaQKSBWQKiBV4JICUma6JIf0i1QBqQJSBaQKSBWQKiBV4EYF/mZmAg7HWstaR3cYP/5iPhDexzdXtA3v0jhnL+i5scjSH08UgATrYw31PVP/sncmfGP9gfAhoaeuvX/1kPG/pD0ApMXeppaBhX3Gty/P/Y1i/pRkEMzdm+ls7RhfI3IvL6QNkJf7W1r753Z+5rtw+Pv43uaukZWju1+VBcGk5eGWju65Hcp/9mVC36MpBJNXx9o6uma2yMD5Numfm+HvKdw/Ki3Ep25M42rLiyua+xf3r70ZCABANodHo7OodOaN/2h0FpvNFYl+ZtWIRACLzbnxcpIfaQwWh8sHge8d6PjU3Zn+hrKS0qb+mT3qhfXFJav2M1nsOy5KZ7J4PD507TVHIHOLgGvvGFgmXjjhP6qOfzAzf52ZAGi61M02IGvyesP69jyJphPRCujYgU3SDw/zIngs20rVIXxo7fhnttdvL8uPpIRg3kZnalxKI36H8R9raSJGa5ypkU/G+Drt8i3sR0ryjzkWgKdLPQwd/ZvxO8K/pXgQLFhrivTxTWueOeT+J2QRLlZ5W9uEVA3v/uB7w0BopS3RJziuaXqH/xMzDsGUkWwXtHNSC558eXQXLtcF2qEDS3BbP5jzC7kF6WMZvlbusfWzxDurH4AXGiJtndyL+5e/7y1eop22rMDA+LLxTc6Fy/6aTQBeao63d3LN61nkn2y75HYv/Mza+TUZ/3edFeLtduX6GKCUtAzNbbxiqwdXLzUJvkBIpjIk70w8JlNv/HdEph6SqCQKnXf5Lc6ig4GK2KDw9J4l1ndoAkEQl8sjkWmH4rc03njFYzLyDsfDYyqFxhQIb717gMLN8caMjIyWyT2kP0Awb3c4P8hUSUnN0NLSM7awb/m0NUEQxObwkHOSbi6jJBvii1LoDJYIuHTDBfZ6S/wcsSE1k7++X3yHlD8v6Y8w00J9qEdcOeGQcUmy78rbfxMzgXx8Y377zDb1tO19lxKwiNQcbWbokTayRgXuHOS/77R3pP6JzMRdqK9omV4/4v9ncn5jobiLTVUtU6vEkzz8ambiLrfUtE4sH9zxsi/hVndqZExRzwLprzWJG4t5+4/3MBMoWOip7hgjHLDvqyQQ3sTlRCZmdc8fXLpn3H7pb9rzb2cm3npvS/vQ9CZHop/oAFcam5DdMPOjiPoN4kmZ6RtE+tEkEMyeb4h2RXtkNK+f1PGFUyJvcWayj8k0OoPJZLNZt/9jsFgkCo1KZwqF55YA4Hi8KT3xa9HQ+vfMnwRCEYXGJFHoDCbrjisy2Wwag4nkjckGwMvzkdMiAPzZ5mRHLCa9fQlJAAjmW1NdHO2Tm+avDto8Pp9EpZGpdCbrrmIy2WwqnXFMpjFZl95/LGWmU8l/zd//JmbiTSVjbeLr54h/Da8hmEsoxBgZhNXOEK/32F8h/89iJgjmTuc6ukbUTp7eTn5Fbu8+JwRzZwpd3MOrxtZPkOCXMhME8+aKPTzCy4dX7yWQuzP+E/cizGRlG3qbnYm/UBTsFl3Yu0a/j5l+Yp4unupuZkKjg0r6tv+xdiYI5i3VhwWEZbXP/A2+XikzXWxIv2gbhPcGi3ycHWOqx+jXuYPHF1CoDCoNeVPzHfgi2UWlM0lUOpf3o3MlDpdHqeuEegAAIABJREFUotBoCL3cc1Emm02h0Sk0Bl9w8zznKjORhipCsS5+ZSOkq8MBm8M7piDXvP+iLDaZSqfSWRd9kVJmEhvxRgqjXIw0lL4oqmib2ofkde/QuCAAr3amRmY3rJFYyHbX19TqYXxXSbS7mYayAkrbzCejY4N8GqbEJw6URWNN1RUVUfoWaEcnFxc359DikQPS2CXfHASz1nHZoQ56akrKWgZuCbXzhyzR1SpFegzI2uouinQ01VBSUtY0No+snD6kAIhvzj6yrjwz0s1cQ1kRpWPqnd62esyRmMFA1lZfZbKPo5m2qoKSuq5DePHEDl0AwTAIr/VkZtaOruK7s4LttTW+uOVM7lFA1uZQeYq/g5mOiqKimqF1eOnwHu2UyEHuWn9JuIuZBkoJpalnG1Y2Nt5ZGGmj8O6Nkp6lPdbZPaVulciAIJi1OZAXgTXQUFLW1HeJrZrZZ0j8RKKt3uyc6tHFmY6CULQ+Ss01bWqTAoo2Cn20DXwLZ3aYdwwLIGtnoCbVz8lcR01RSV3HLrRgdJOK5AyEN/pys6pxo52VSb5WWiqKKC0Tz69Ni0TWieEKAo9nm5J9rbRVlFT1LUOzO7L99Y18r/nmQHijPz+ndmBhsrcgAqunqeCSPrRBAmGQtzFYFuFioo5S0jCyj60a3aMJYAjYm6iNdFB9J/tF19wW6+6UXDu3f7jcnBuX37RwcHp7hjiLDTmJJR1LhywIBnZ7SrPrcAuT3aVhzoYqmujsgZWjjYGC3Kreoa6K9AArPRUlFTVz97iWmT2WxNbMPxqvT/Gy1kEpKqhoGtj7JbcTDlhnkzgI2J9qiHZUl5X7rGOG5CGpenr3GJ5BfHOBhflZiX422ipKKC0j98Ta2V3GSYuCYPbOaGm8u4kWSllDFxtZPLZBQdrDlQ//aKIxzdtGVwW5tL6db1LrzM7yeFOsk6ac3GdtUxusu1Ni1dT28W5fZV5d9+xEb2WUm7Gqpk169zxxc7g4LbN2bI0ihIG94dKCqs7+zqqsYBt9VSUVNVPX6IbJ7RNXLCQizjSn+NtoqyqqaBtb22NdXFxcgzO65/euhP7AIH9noj7J10ZHVUlZwwAbUTy0SuKJh3iEmSwxIZnZacn+lroqymo66MCcvqUjHgALD+cavrpofHr3RdPYxtHZPb5scp0EcA4mWnJD3az1NJSV1bSs/dK7F4hIjwXhndGqtLyy0dUjEQjvjFUVVrfi2uuzw5COidIwdImtmNyknsnI2ZusTvE211FRVtdxCM0bXD4+7SewiLrSURCGNlRDqWpaeadW54TZ27re7JtDOwZ8zUxPDbLWU1VW1bH1z+yZJ3JF8PFMa056dit+k3V2GxNs91WlZpbhVq4ETIjoi73FIY5GaioobUuP9IrcEGcrjzPfHMjfnWpK9rPWVlVS07cOye9aORJLe8U3B8Hc/en6dD9EQHVtu+Bs3OIhDwSPCF2pXgaf3n9UN7B0dHOKLelf3j8Ya8rKKetZPBDCILw31VBS3djV1lQQhTXQUFZW18dGFg+vkk/8wkIqoasgyMFAVVlZy9DcztHZxdU5ML1+apNxsblB3MOZruJIL1sDLZSyqoaFd3IrfocNwvA3MxPEPZ5uzwt0MFRDKakZWgfnti0Qz6ke4h5Nt+UGIHuV1XSNfNIaZ3d5MARziYSW3BC0kToKpapj7pbRhz8Q7g41ZOWW4RYPT7oExNvqr8suqO5fJUMweDzZXlHTODAy0J4eYKmpaRFZPrC1O9tSVdXcPzLYmu1rraWODqoa3gAgmEcktOQE2eirKatp2findczuS9oYcba9orqmtbW1NN7FWFNZWV0PE5bXt3h0ohgEcw8X2vLD7I00UMoq2mauqd3je8jQLyASurKC7XTVlVV1Lfwzmub2xQWEYAF5tbckGmOiqaSopKZn7hZdNLh0dDZInOgMwbyjpc7CCAdjDWVlFX20V3bzFJEJwiLW7hwuO9BGTeGzhjHaMyC+onf2UpAHl8cnU+k0xv34whJbfcgUOod7PgUAybO9JbmFjVNbAhjZrq6qamxrrYv3MNdQUVI1ENfU4TXEkjATYmW6j5lYYqsPmcq44hM8a17nzLQsZB3O9xUH2mt9+YIysvXwTyjsmhE77CSJ2RzevZats/xQaAwKnSkUnessZiasg3d8ZmWCpxlSOn3LwKymuQOxGBDMI60P1qT4Yky11ZRRmgbOMUVDqzSkc0MAdXO8MtHdRFtZUQmlY+EQntdG+KmW7jMxfmjjft8cby7FXkXXIaKkuX+wr7MmLyq2dJhI48EieDTDVNkhcmybDCDb5oqqHxW07GPzartxuPpMD80vso5ZE3t0AAYFEzloVQO7tKbJja2N4VJfLQWUU0Jx78IRlzN1zkwQLNhs8DJS1nOKKW3p665Pd9R9r+1bOn9wPlqeFJW3Uean90XV2C+ppLGlqTwvqXpol8qAx7OtUKryX7Qc4vIbcIODzbk+ukrymPThbSpCTSBjLCc6Ojm7qqN/FFefZKslZxTWtHqIFGQ8x1rfBm2kpukYGF9YXTe8TGbzYNpYYWRsYk5V28BQf22yo4qSZmTT4jEXhkFgud5fT0XR3DuhtK6lsTInrXJwBd/fWuSvq6ho4RWbnl9c3jF1SOMJtloCzNX0HCOLmnDdDZnOhp+0vQvwO0wQgoWzubaGdtamSnoYv8S8isbBRTKTDwPwdJGTpqVnw/xd5n6QOVEQH5uUWdHWN4Jr+Oqg+94ouHZhnwsD8GS+o6bmh88athEZlZ29uMYcPwPUB7tk3BpZBEMwa77E1UBJyy6ssBHX11YRgTFT/fz0o3P6xJV4JgCeKsSaoK0N1LUd/aLzKmuHFo+YHHCzLcpMVwsTnt3U1duQ5a2vpuKVN7RN5e3gewqDTRTVjDyjUvJLSzomd2mkoXgHdad43MrR6YBL74ux1/NKG1wnQ7BoPtvTDG1pqKpv7xudXdHQt0yks+aKnAy0Piig7EO/VrbiepryfS0UldDRPQtHIgCYq/AxNrEMSqvu6e/vaihKSMrvW94/N8ZBwt0ZXHGombKaoXtEMpKHiW0KHWEmPS25Txo24elV3f2DrUUhZhqfbONaFw4REBPudkU56OrZBWXXdnc35XlZKGu7pQ2sUs9uzUhjAwFCtb+pqUVAaiVy6cbixOR83Pzm8nRfSZiFirqBa1hifmlJ+/gWmb5Q6G9tZ26gZmDvHZFZXo9b3Kcy58s9LGzC/3/23vqtja0N1P6HvvPLeWXvXaelQg0r7hAIEALBtbi7FYo7xSnu7hKSQCBIcEKAeIKFjHzXxAjW0u7dt7tnT65eJYTJrLXuNcnc86xnramf2DmBzxaq/DEmL15rO4enV7X197WWhuJ0tXHRHeRdCQgfLdUFO1o6R5cMUTfoM82xBD0jXHBu08wOT2788iMfBNd70p0t9LEBqVVtfd0NBYEO7/Sd49spzDMIRpzJzkj9pZZLVGZ911Bfc+F7ex1918SuOdbh7vxATayd4Ttr9/D0wk9VHePr+0LwcK4+70NqZllL3+hAa76fnbbF+4IxuggGYGpduJ37+9qJVTEAU+sj7cxeaOjZh6WVtff2t5bGOBi/dYitJ+9IMTKGPvhYmTkGZtV097aWhjjpm3ikdM8j6cnQ0WpdAs7AyCb0Y21vf09Nhr+jyeuHr7DXO5OjyRMNTXx4em3nUF9zcTBOz8AltpW8d7Ldk+hh65XWOn8gPZYg+IhaG4K3DyruW1NN7gbEiy3JOLN3dkHpdV2D3fWZfs6mL5+qOSdK85lAaGe4wBtr4hCYWtfR11oa7Wim757aOL8vgS86k2R3NPu9rZm9X0ZVV29beYSLkYlbfBuZsUObqElyMTYycwlJLKz41D62xOSs1CfhCUEFg0snMADTmpOcLJ+/eGcXnFTc2tPf/inB2VzLLrx8YlMMg5Ll9lSCg11wTtscfZ3c/tHDytDOP7F+cpV9Lv5ID0NHtLayrJS0osaekcH2klC8vrl3es88/7bOdLY3UBxkY2ruGVfU0t3bVBKLt9BziCyd3JKersTMwaIgSwNDfEhmdWNrfUVeTefk6gF8xhjLDbZ5Z2IfllnZ3NxQXljZRVrinlCr4nGuQYXDdPkHAhKRP8W4eEWUT2xBMLDenOlHsDQysnHxCEkr/9xLWWXy6Z2p/u7mxgYYV9fQ9NKGvpk1puhsf7okwtHU1iOlvKO3vTLW09zEObxualcCwCtdH91tnj3TtQmIy2/u7u+oTPWw1rEJzBtaPYUhWLw7WRhm+87YLuRDRVNLw6eiyo5pGgeCmFNVoXhTG++4yrbejookNxtDp+gyIuMMFm935QXY2+JjC9sGhwbba3M/ltSP0jiXLoLO9qZLoxyMLJxi8ht7uttLEj3NTSxDino3ufsLYx3ZIc4mBvp2nhFZhdX95FXpmVz+yYMvOZNQsEHqygl1eKfx8O6dO4803uAiiweoXHk0iCcQXnImYKur0N/VO6GZfAwjzwMsXz7RxXhF537u6e2u+hBgZWTql9O2fukK6aIzifZWBioScEYaD+7+fufB47c2fnmtMwfKuBeXL7iNM3UsHR/QJzoKg90s9Q0s3MMyC2s6Z+gq0aZLziQUbM32FUTi9F8+unvnzsMXrx3C8npmOfKWXutM5SFWL9R0bDyj8xr7Bwfqs0PtTEw8PzTSjyAYgo/WJxoLk+Jzq7sGh7qqUj1tjHERJTPIcThRFo23wL3Pb+ofHuyuLcouqumYU5xBFN3wN/j5VWcCdj57mJsltKywL43DXnYm2zeaeqkDqzxZZFDCrQ830PfPW2AIIAklHf+WkDq6yZbKqGQhy03bOWVgg30Gq47NSY66k630CImjaxxkOxA+6Ik2MbL9uLDGUwUFwqz+OHMj86TOJbZqLok0B1xLSy+5d5kjrwOvMdrE0D97dutKjjMAjmRj9TwSJlZZIOJMOO1Xaq75ozfO2zmdTnPRdk0ZWjsAIN5AtIMuNqZlae/8KgKGYcnGZx9ri5j6WfnYnOSo74O9ISGuf0l65QTCB/0JVqZ26aQlttSZcEbPXjp/HFtVXK9L8/J4g8lWxo4ZxCWOapO/8BwAx/PxRh4xQ0t7AOJMrnq672Jb5/ZlVZPwWxNtTPw+TK1yIAm/PcnOABfeSWXKoikAsyPUVvOt6/XOZPD2Mf5jL50tzymEBOMpbkbOCS00pvRiCBD2pDsaE6J6FpgSEF5rDrfCBdZOK8bmjr7mTL5mGm+ts3toXEUc+Yxa5m75yiysHrnwlfV+XzLWmpA1SOOKWS1JWFxEyfTazeE3EF5vi7bFv6+auDA2Z6qnG/l5elf2TSQRdH1wsvBNHKTtQ5LjkXwPS0J4C2lbFmtkj3zE22Djh0hMVdoSdlsqzimicIJ+sWgQ3uiIs3cOKB9VjM1JaCVB1q/eWnxon2UrG7VwwZn8bN+aBFUSN6QfJBBmDWbibQnpXbMsMTxXG4LxDGmc3kAusgGY1hCB9Qiun1xXBmxklYIEk1l+Vg6hn+R5xxB8vPw5BGfhl9OzzIUltNr3WE3j9+WTa9IiIJhPLPa2sw2vGN06hIGd7jg3h5CCvuvH5gCIVB1s6xnUMLUuuexMETaGOkHlQ5uygIVE2J/rifGO7iDtQsDJRFmgLSGwelxaVQjmThR62WMjOka3IZgzludpZx16/kZOb7ankZ5l2rU54DhtI7/C0RXpwDYEC0jlAQ62wSUD6wJuX5431iu6ZWYXOXsDp1MVofZu76tGV1WDgiBvIifIBhtYOEKX7gGE94ZzPaxe2ScgzgQdUkoi7PGhRfJsEuBwrCzQzsWvYoQuVnUm4GS6MtyB4F82tIJ8tUAwb7osAGcf0jSwAcLbA9kebt5ZHbPysTmAftGZEh1NtHwLuldlJgeIhksD7b1C6ie2IGC1IdXZPThfnmYLbDZnuLsF5/QvfnEUH4CoTfFOnr6lA0tnt4kzQbCAXB1GsPPL7VgRSlUBlKx0Zbg6Oqc0TnMlsIBSE+6C8f7YuqSI/iIHFXBMrI3BORKy2ucuXJt+1ZkyPHRfGYaXDTIUp3nJWmeKp/4zi4BPQ5vy4xY4pTQkuhA8c7sWkK0gmE+pi3S196/ooEudydVc0z2zaVEgrS1wOFEd5eThVz60DgInpM8JeEf8hxaKUOUiBjqi1aW64v3SuhYOZZWf+Zzg7OyW07lwxJkujfb0T6giy9xa9VOsfA6ckBuTCXjnjJZZeWNPt7vz/ezdwmrG9yAQ3hoqDvB0Tf48fc3wq6ozCQ+3J2ujnLRfGTlG5zcPjU0MdtbWNfeRlrhHsgDMV52pwN/YAJvaQJJVAxTO1qQQXAKyBhSGKq+yqjMJBOSWTHeMAT48p2NwfHyw63N9a//UEutbnUmez7Q/VBnh5hlaM8FV4pE/UXUm4eEOsTGeoPtS3y4ip3FwbGKoq76uqXuKxpG39HpnCjbVx8TXTMtaB4kWmjI9nX1Su5dU+lJWmGSzt/S9q0dUI/GUN9uSFOgRWjzAurLV5Rr+3N+/6kyweLXYR/+tCT6ldnybf3o+s/CyM2E0scF99AP5F5kEHsqw0vZOnd3iQmfTiQ5v3DOmtmXX8JKVfC9t+7jOtYPTC84knkpyfOMQ1U5a3mMhD/YeqRBvrOU/v7CryggAhz/aajtHD9EPzuOBiLMg8+Z0sYFdi4osYAk88tFW1ztpZp2tuNqQCJj02cnh3o6O3ECT17joAfq+ROpM7zA+TfPKj7+ivDPRLp06MdzX2VrkZ/XcIb5rZU9yPPXR1giT3L3IUpwaZVtfdibxTDpBxyG8YYrGlDeHXOJmrus7Q9qUOZOZcUg1ZVd1FgXyejHezCqaSL1w5lZUR+UnINxbo06N9HV05odYaOIiumm7Z1JnMnTwb6JsyWVSAo/n4w2940aX96HT6XS3d7joNpoy2inZrgozN/W93pmMbD2rlflJEHxCKsCbYyJrh2i70tbss4mfAkwtXIqml/nf4Ux+ptYBxUQVB0KcydoytGpqW/pliFxokooIls6pPXMHZzC9JdrGWA8XUTC0dHB8/WDt9c5k7uhTM7km/1YH4KlSb3PvyJ45BnQ2m+dv6hhUPkiR9Q5rb7bqPdbIa2BoSYUyDEKrbXF2JnqOYXkDtP0j+bABIvTXOFOIlY1v7tgKX7mDs0vOhLUOKh1Zl9kXBItny31sXRJaicxTmFTxHuMV3kbaRiKiAExvjrEnBFSOrijOR9JdQvDJ7CdfO2xEjcrMOGC1OhbrEFQwuiyS5jPZ+BcNrMpOQjAMCcYyfc3d4popO9ANzgQcsjZpxLH+zs6iaJwhLqBqfPX0ijPZ4dxLBhflYzwATKoKwXgHN01tgGcLZREYnH9uF1F2WLD2qPURzmZube1zADhTGYJx8akcWZGfQUF4szvNGYu/3pnwtj653cuK0zkknMwNtHaNqiNuQnxiWQDeOa52nHEKQ0JifijWLbpqelNu8wgaCD6hVgfj7INK+tYUHgIwelO8rd0TG2d3YfFCfZiTg192I2lHfvTONiY62eGS2qYOVJ3pbLEqzgHnk9E6yZBux9qfb4p1t3RtaCR91ZlaEp3whJzOOXnwC4DnGuJw3v5VI3RQslybhHcPLRmlS7+xAEZ7lich8EM39cLAnOKwAY44O0uk8YGurtJ4N3OcV37vwsltnAmAqI2JTq7uBd0LStWWbHSn+uB80psWWOB8czLe1T23a/7CQXW2XJ/qjPf70DOvACerx9edyR3rGtNEZCmqDSPO5G3nklB7bi0SeuMHVyf3hLoRGXfWPq09zQ+DL/80IYszuTilNhIVDgrT2j64+ngW9i6CZytNGa54n5SOOdnXgbQQCBavdKR44dySPk1sy/txviPb29E+vGpgV7I/VBZiY2zsmVw7s8EVX3vePaM3Z7njvZLbZhWNBeGNgUJfN5fEz0gO022diUdvzfEzNXFIrp3cF1w3avZVZyr0wxEi6iYVl8bAWnu+t7tPaidVlkiigKrqTHzWaHW8o41FWFHfJvu67Oxbxpm+yZn4a12FQRbGtrEVY9e39Fpn+hTshA+sGGXLmwFs9pQFuHvGtVAUrQNO+XvrlMnh3s6atFAHe7eQ2ikRcECuSXTSN8HGVQ6vXQiHKGj8TX5+3ZlgGODSGjJ8jF4+ePjK0Cu5nso8RM4dV5xJyyV2cp0tpyKBhzMttb2kziQ57Euz0bPzrRpbFx4K6b1JNoaGcc3LrGNY1ZlAXlew2et7//3PhceDfxHmqcgwtvIhEbbEmr7zzqBsXoweyZyJED26ohiGlsAjWRhdryTiOhuCYPbs50i8zouXb42s7F3cfBxMXjy2DT93JteY4WUVCQP4pM/xDnovNDQNrB2cPbxwRm/u2sR0rexKWD2xZsb4/Mm1S3mCl5wJ5PVG2mg9+O+/LzTn/r+cZ4gbcmfCpvQssFS++ZEBo6VP7hZmEcTZC5qobLv09MCmNsUS9DRevjG0xDq7+TiavlS3DVE6k5FreO/8rtwrJPBEAd7IK250aR/g9cXg3nmkD68qo7ASQVsSxvLqWgPSsTlj1/DuOYYyZ4UzkIJ5p/bv/1xozm/qVjmTi9zvcCZ/Y+eY5jnp4I6scVJnso9vmZGFsRBnIhcTrKTOBMAwIFzsLQ7Caj1+/NTQJax6dJUnS+FRkrkhzmThqrLWAABPl3mbe0X2zDIAwXCyi6Haf/99oT33/u0w2E9T7lP2BBAt9ZeG2Gs/efzUAB9SObzCPQavd6ZQS5fI2pnNc5W+4kyOUfUTO7KkBQgWz31CTjEtROYZzCeVeNtbe2c0ze+J+NuT2QEWmKC8sZWL51QI5o5mEzD4pLaZfcWXDyzhtGe4YHxT+qhsMZIDjouoHpUNxSDVl8wVBlviQ6um1sWXnQmCeUs9GQHmb169emdmi3f1xllqvbD2qRqnX+NMbgE1o3T55RAAk6tDbL1DmqY2AOFElq/5k0sY7/7btq2FDBwNFfhYe4S1ELflVywQzBnN83TyuH5sDu8UWjawrgxmA/Olkbb4oNIx+il8slgZi3ONKBunn3LGi3zwbkmNUxcSVSCYN1HkY4+PqR/fVZAB+eM5gfY+SY2zDJg/WeJr/fzfF3v7v2rGcc3jzHNnWj4RTucHWatfbs5/rBvqp2/jTO7eJX2LSkpzjYgzVQ7TQeCEXBeDd8Ql1owzeSLGTGUI3to3o4WmvJSTHWkQzF8dzg/DaL1+qWNs40TwcrJ+98rS7dbOdDxREWbv7l85sqYUBpA9lhfq4BFbRdw6nKqKcPDwrxg+/yvydSIklUU7EEKKRy+8DMNfdaZMN1f/jO7581i71JkI/tktywohkQ7n2T+/xPPOf8zLS0dkzuTpnt0+pwhKwbS2dFdvz4KeRYmIUhnv5BKYN6Qad4FgIaU+0vHV5X58qBfyqXcbSXJlTDZ9cDV79fjZa2vf9PaZ7UPFwSAHLJqtSsI7B2QPrCgIQTBrqirMzTmisp95a2cS7owVR9laOEXXjR1cn5p9C2dy9ZKO08m/ZNY78r3dfVM65i/EAWBVZxIeMuc60n30H91/+MbUKTKnYWKRgSwGpfz3A5xJxJisiLc3dwipGNo/L0hZoghJPL82n8nVPaJuWnEcAJu9iDPFNlMkMHi8PdMYTzB8pfHawNKe4O5sa65pgg+tnRLCEHTEnG/PCzDXUn/yxtAjpWZq/dI5VgbrZ/9/G2eSd6tga7Q2Aaur9pqQSWTwpTlMqvlM0ufXOhMMgzxqjpf+88cP7j968sbEPq6WuCeUyoLq2Nxhf4TNK/cP0/Jw1E1kzk47k8x03JOIGxzFgS/d9Or6TCrOBAhGExx1zHyLpjekKcCy2BIhSuFMjnquMSNKZ4Jg3mg6xsjQr2R0S5a0LZn96K6Dj+9aYZ4JBpPMjRw+jtKlWVLntbzkTPDRUJyDllvKCJI9felxkzMhrxc5mVnF3BxnAoXjqS765t65Y3QeIjQATCxxM3INlztTiauRa8T1ziQaScDruiYNrOwr6iPhNMdbW7zPvrw+k9SZTC46k3A0w84Ml9a/cM06erdwJpDTE4M38fuozGcycY6+4kw2DvEtpOudSQYQONomtaV6mWhoW6W1Uy9M4L/BmS6sz6R0pjkGeDTxwdPINbZ9nnHxa/VSTyl/BY52yO3pPmYvtS2TWyj7R9fHmVwi6r7kTPa46GudSQLD4NF8Q4ztu6f37z9Qf6WDDc4bXDpQHXlGKgLBoqlCd4xjbNP0rlK1JYzGZBzWP3NwgSfNAbcLLh1aVwYvj6dzAsxcIutJm8AlZ4JE5MIgG0tCUjvlALkoB+C5+gg7d/9rnQnrHlAzphgLU3Em8JiYH2hJiKglbl7BKBGPlfhbuwc2TG3I/wbCB8M57ji3G+JM9u8LeumyQSUYho9nCkKsXcIqp9YlMAjR25JcPAJKe6fa83yd/BM7KBfTHCBYNFPmZ+8UUT2yrSADckY/BmC9k5A40xGpIsABH67yV2XHXshnOiaXhGMIIeUTa1eacwtnwnv4lPZf50wwDIk2Wj546L+4d+/hY413FgFZzVRZ5vJ5PWDocL4qDmflFFE/yThV5H07e9w6zgSezdRGObh5lQ2sKGsPMAc/vnf0TKqjMMQztdEObl6lA8vKvyLH1PFcRZyjc0D+4PLFs/UVZwL508VRTu7n+Uzurv6ZV5zJxT/n3JmQ6F+Sk4t/zsDSxZ1Lg6krXR89PN1zrnWmk/maJLyzX1bfosobkZnFTbGueL+8jrXzCxMVgtKn4DF7cagiDK/31tKjoG/53OlgGD6h1acR8D4ZPTTlUQLvjpYFuTnH1Iywbu9M2yOFETYWLnGfJxRDVKoacW0O+OV8JkVuk6z6wC2cSXR4KDzi7a5NtpfEeNtoP7//SBubWDPBUAa6foAzCXfGy+PszHHh1aNs+WDcpZbe4EwX1mdSOhMZOKb3Z7/HWPnBk5xFAAAgAElEQVR/6F+Thq2BncGKYDckzqRMfoBOOBtjdUkuZm+M3eLb5lUCjZe7+if9fntnQioIwdzBOGN9XNHSlvBKnAnJB7/WmSCYM5KMIcR0ze8h3wWqD1VnkmyW+b8z8iui7ii/OFU3VTwHYFqVl565axVlG5lRonx8wZnWOGJaKd7UOOrz/L7MfSWchiizNw5h1zsTAM99cte3C2imMmTnLfCgI9jmpV1M18remWS12sPinV8xcUcxjiCrArD12dfGIrp2linrZcl2ZbCJqW/uzMbF7aQYz2YLcWZX4kwQzO1PsjR2yJy5MZ/pbKnC3dIsvJrEkI0BSLgt8dZaDsFdsrG5m50JAtbKg00tAgpn1hUjN+K5XC9jgxtywC84EwxLNpsC7Yy8c0bWLpoq0nYQXm+JsMK9r1bmM4mnP7jpE+K6FmVX/RB8Si3zsNJ2+5POJAUNiSY/eBq5J3XTmCrdD8IbbTG2TgEVF/OZbnQmCaMhzs7SK3WIdlVplYfU5SeQaPqjr4l7Qgd1G9rqiLfH+5eNrMjHYiS0khCr73YmSEDKD/aML+9b46ue0S5XAGB0xxEsvdI6aAfytoPckXQfc9e4htkdAMlnste1j2ueU2AXrzSE4qz8c/tWuDC42x3vbh+c30eXxmclq80ReExAXu+KLFwL8HtzPIztvb7NmSR7bekuGI+4DsqeSmdIqw3Cq+3JOAeXj50UeV49AFE/R2Gt7K53Jic9u6g62eAkEmWkN0cRbHwyOxalWbzA3kCar2tYQriHCz4os/1Kai8MbHYmemA8U5upMjIQLF5qjHQxxktzwIHd/lRvjGv8Z7IyDKVEex5nWhID+11ZHnZukU3T0twp5TbSg5wxmOPp5v2xnSK/+L2Uz9SSeKMzQbCAWhcVEpHbSvnCQueSze4UL3vvtMZ5WfwJEI6UBlliCbeNM4Hw7nCBDx4fUzO2JzMNCOYSK4LxuNCyga1jeHsgzwvnEFMzKv+rrHXAXk++H5YQUju+c6EHzxZrk/FS3ZHqBQSLVztTvMzsw5U54LdwJoA1UBzoSAisGtm6fFhL40w3ORMA7PcXB9q7BFaObKvWCtgfLwhzxIcWj111dNXOguBDWnOCh8v7kvZ11dcBzkhFmJObf/mQ4v3AEbE+Ae/qmd+zhEwRvWU+E2e+Pt3dyNw1q3WWd8khZL9+Pc70Xc6kLEso3EKSvwxtA7MHVoRym/kBznTIpbVk+5iYOqU1kK9v6Tc5EwnYnagJ83AIUSQtQcKFxgxna5yqM0k7DDhb6inw8XBOaZy7fOSoduhPef5VZwL5S2Pj1B3uCTJfHRCRS9y1zX2aVpFpwBMX5s3dHGcC4b3uKFMjU5x3SFRsfHxickZhzdgy+/gMUh2bg0GY2Rdr+U7XLaNt6eAYgGCJkEEZn14XyOebK/kAjLZA67emPjmjdL4YgE95a/Qd3vERNHVpHXBlnGmNI9lrfW+lhY1tXdo/gYCj5c4ER4Pn960irncmEN5pCzcxskhoo7KOIVC40ZJMePf6PxaIM4lhyX5jjLWOhUvhwDL/FITF/PXVbd7RKSDoj7LXtY9qWdyTihYI7w0m2xrqEVIb55lH0ubszk4Q13gC8U1xJgAiFrkaYAOa53eORMSCCDf/jE76xTWkwf2OUDtdbGQDdfcYAo7oPakuxi/uW4R+Nc4EgfBqS7iliWloxfiOUAKfCan1EZbaD57fkAN+yZlggNeX4WxgZpf8mcgUnUEwKGQuTJCXWXxkrjJ3KA1rYR31mbgrm8wmYX6OsTGw86+f3D6SwBLuYnW07Ztnd50zvyvOdHZIp0zOrzEPxci0C/5yfRDWJKBgZE11bBaCeSOZOCvr8NpJhkylr67PpBpnAuGDsWyChQEutpK4JZQgc433F6ZJKwecCxem4OHq7NT86q5IDMIQLFhpCHU09c8dWGHD/LFsFxvr0Koxubn/OWcCueMZPhgLDD4gPCY+PiH5Q3Z1D/l8bYvzQ18wUuhniXH60EJhHYPQ0e5Avo+ppXN29zxXIps39/a+FjazZZaNHLebLWmuRhiv8pGVQxCGRBNZflbY9yXj0ixlkD2U6mVu+75obFUEAicbI/n+mLcPTa4fm7sxzgTB7KliX1sj+/DisTXeGQgDh6wlEnmZiUwwBRh9KZ7mVt4ZvTTOGQgJVjuT3A2faFhd70yOWvc1bdMaZg6OIFC03Z7paYLxKOpflOfqAqLh4vcuJi8em/gX9S3IPVWJBYlb7HVle1nauGS3z3NPYUCw0ZbpafDyviwHHAaEE+WhGAur0OK+da4YgsFDFp00S9s+QCYJnq8DDsGcmU+BDsZ2wXlDK0hODHDEXqFQlnb2jyBYQPwUiMP45nWuyBJwvsWZuMRPwc6WFg5eYdHx8QlJaTllndOrHMVKLLJ2gJyJvBBbjHdGD40Pgifbk5/Ccdpqhm4Ft8xngmGQP/sp1skKH1ozjnzujpmk0iisOSGyYZoJwDDIni4Kx5o6BFUMbx6ewWeHezu7TA4fOJj6FOxojA0vHtsQAjAg3N/e5bJEAGewJAhjg8tonuOJYUCw2Z3nb/LqvnXYtzgTBHNn66NdTK39PvTQ2AjPY+7q3Cxtc1f0ZWeCYBaxOszJxDYkf2RdAMCA6GBnl3MgBETkhiQnKzPfj61LrBMIBo85G3PU+bVdAXi0u0ydW1hjnSBNPdkYLPDDO0fXDB2oHiQQzJ9vjvewsg8tGN0QgaB4j1If7WKGiyiZ3JEgS2zc0pkEwsXufB+Ll7qOoZ8Glve5h7y9jYX5hZVNxVDdj3AmwSZlvLezc4LO4Ai5B7SufD+MiVN06eSOIrcJcSbeAX24JMXHJ6FsQjXhD/mAXFrT8nY54ALhcl9JgPVLbbv3Jb2Le5xD3t4mbWF+aV0xVPdNzkQG+HOtSR5WDtFlZJYEOuHMtn50M1HTwYfWToqODzYWqJTlPeTWZ9DR/mhVFN7VK69nS5GLrNqRP/X5V50JOOgOtX7z4M69pxqvX6rfv/9SP6yKdCCSXM1nujHOJN4bLg+1t7JxcHJxc3d3JzhZv3v+4K1l7vA6/+jivVNAEbUx3l5H7d69B2oP7v3x23/VTALbVi9aAxKngfamy/2tNR7eu//owb3f7/3LJmlwnQnc6EzrbAg4IlcHmr569Oiphsazx5oOiQ0F78180obkOeAXx+ZgGBTSykIsNdQePtPQUH/+EhfTlBti5J3ZjTgTDEsOSMVhNhpq9+4/fHDvzn/uW0cPrRxIgGNSRYDRK7XHzzRe4uKHVvbOgMOF1hQn/Sf37z149ODeH7//95GRX8PiztFNziSm5fsYWAV/mts6PFuucLPU9cmfujznDzierQuzfKv2SF3jxbPHmtjY2rwgK7/Unq/GmWAYPmX25fkYaag9Vn/+7Imalk1iUpClTUThtWsNXHYmJKF4tfmDh97zB1Lqd367c1c/qHx2CwkKQkJaebj1a3W1p6+f2Ce003bEgoXGcActtYdqT58/f/z0lWNUkh/WNDT/u5zplN+X5ab//I97j5+/1Hj6UO2xkW/2CF2x8o3i4wOJFiujbN+oqz199QQb10JdF0vXZ7oun2mOgVy8gkfL3Vkepkh7kG78/beH+h4VxFVljBjZMcAfyPU0fHFHWvSzR2qPjbwzh5ZZZxAMiZaqY+01n6qpv3qCjW2cXSOXfnec6QzcozQn+mIxdvbOru7u7q5Odkavn6tjomvJO8oEH3k7IdFaR66fyWt1dfVn6mr3nuhYJ9ROM4TIxdgZrSbYPyY+OoBgraXxHPmrmrZVYv0MU6YYwMlCc4K9nrrak2cadmGN4zRKWyre4OmjJ8+eP1fXtAkpyowgBCfWXJfPdKMzIRiPVwcK/a1ePbx/7+GD+3f/+O2hrkvhCA3JhIeA3emqUHvNJ2qPnz57oq5lFhb53gkfnN1+9d4pnyODYmIi3nvY6mg8e6qudl9NyyKuenJHOWkKgkWzVYH2bwz9CkZkc+sU/a7gAov3SJ9iHN8+VXus/uzJs5c2gVH+ro7hGY0U6b1TINF2fwnywbknrebvd+5oe3zoX2BDqs4kbc7acFmQ7ZtH9+89kDbngY5TTj+VB8PQ4VpLhrve80ePNZ7YhJeN0uYuzJv7QpxJwqV2577H22LsnJDuJTjbmWg/f2MYUtovn4ooawN4Su/L9TJ7/gj50Dx9a+mXlRbtGx5fdGtngiH4cHOsJMLu7bMnT9Sfqj1Se2MTUDa0Ir//IATxlns/Bpg+f3T3/r37d+/9pu+T3b94jCQL9uR5m2k8QF6+98fDt75VnasQfLg+nBNo8fzRw8fqz9WfvbL0CfH3cA5J+BZnQniebE3URDpqqd2/++DB/Xt3fruviU1rm+F82ZmQj55oqb/Qz+KlolZvvMpal5Gz6e54TTxW58m9u/cf3L//x507b/CxzTP7gIBam4R/ff/OwyfPNZ4/UXv+2jGmYnpTkVKjPFrA083JukgnnadP1NTVHz9Uf2HxPmtgSXqrwds7EzL6tjvTmu1p9uLeb//9/Y/ff7/z2wvb4IqBVfk6kD/Emeg9pWHmT+/+9vvvSIn3HukT4homNgTK4BOXL2DxGDP1ce6a2vjYJvLFUa3vcyakpUxKZ4Gv5Uukpb8jLX1m7VfcsyJv6Tc5E0UCnzAnauNs3jx6+Pjpc41XJs4xCYlxcXERtRMiwWJPhrfunTv3Hz9DTm3qmmahRX0b11weKfvyJz35qjMh9ToT7tCpxMmJ6dlVlkh8PnXuNnUGYPpnP0PHsI4FlYG5Y2Iq/g0hbeza22KCp7zNxdnpqelZOlMkvnaWlLRgyeEunTozTaSu7R+Kb3G7EQg+Zq9TKcTZlV3R6c27VTYKPD1YXyCTyCu7gus2B4R7q1TS1AyVfiA8VS4aKWCuzJJnFtZZR2J5TBE85W8vz01PTVPo1+9IXiAEC6dzcBZW8c3U/UN4vyfOEutXMb0hv85W1kr65Ji9sTA7Q1lmCE5u0ZAL74WO2Zu0WdIcnSn85vcip8FTPmOZSpwikugM3olyHpn0O465SiWR59YPhPKmi4UM+jyJNLu2Lzz9swFWQLi/sUCempwm0Xd5N1YcOGSuzpPJc+v7AkWXXGj81V8gsYBBnydOT5OXt3lI5PPqAxAebNIoSNErDO7FJh/urS2QyXNre7ct7ureEXKMnnh3XFhx//m0AhAgVwfZeIQ2ETdUEjqU74ZOeLsr8yQKbZ0tujzcjezwmLu5NEem0vf4SLxW5QGKDtYXZmeodKbgGNnxKW9nmUqiLG5ykSDe9z8gsZC5RpuZniYvbXIOL0xaAk9523QqeXaJwTn86sEKHPO2lqnkuRUmDwnNnj9kzoTHR1YOb13WyPOtYFDMZdCpFMryNvt8kuP53yGxcH+NRp4izixtHhxeQ06+KXQm2ttYJE1PkxY3WKqEgSPW1tIseZbO4F4/f/O8LMUzEGYM5/t6+X5UHZg7XalPxruFFAwtX07MOeUz6QskMm2dJVTOflPs6pY/QTF/f31hljy/yhQcX/ngASecHfrszDRlcZMtOu904Ji3Q58jzpCXtg7OO1BydLC1TCFRlrZZ0ok/t6zB5c2gs8ODrSUycZpEW9sXXpq+cXlj1d+BEx5jlUokkhY395FYr+JxJmJvLlOmiUTaOvN8f8Axd3d1bmZqamZhc1+gsrnibYqfoFi0v7lIocytIv2oePXLP09OkTUtufxzRxEdCjn7G4uUqfEJ0vwakyU4z5Lm8ZH1mY6PryxS+eUyrvxVmgOuspCmiLePnIonxqfmlrZZXJUEcOWalkc8JnN7e5d1MYh5Zc9feEG61gCyeKfSxkSHIs7B1tLs1PjEDHV190DRUtni4zy+UKKypuUX9iz7EyQRsbYXkW+hHd7FWgIngr31+ZnpyZl5OvPyNJ+v7vd/tcGtnOnPVEYCD6SbGQbkzG+fp/WAgtFYe03vXNLOhVXD/kwxv/57xdvVEZY2gcXETQEIAKN5OEJiLVU+8/7Xbx3agpsIIDMES70cPdI6yYoJnzAMnEyW+tn6xHSSpSGxm977z3kd4Pbn+9p7RTfNMG55jvu7sAFgSn2Mi39w3fim8pwPHc5XxuE9I8vH1684zd+l3mg9LhKQSCQ8vghZIFukKhPnnqQ0DKFIxOYitzERixWp5hd3dfvfTk+RuwJ/9dZvosNDgRC5yR1fKAIu3jH39mUptzw+OWVxeJyv3SVGeZO7S/ebU+7n/9UnP9yZQHh/MMHCwNA1prBlYHxyYqTrc2Goo+ZLi/fN8/sXLfP/Vca3aBcEn26OVpbVjtBlt3oR766QVxi84z/7mbtF0egmP5sAyCPmBFibO/hlVnWNjk+O9raWJHoY6+n75/WtSgcNfnYFf175ECxkLBKH2spSfMyNTUOKBzcUExh+Xp2+sWQI5lGqw5wtMF5xn9qHJibH+lqrkv1t9MyQBRs56Af8G3H+zM2PT04POLx9FpfN4bO5N/zj8PdZ3H0W7/DoBIJUQ6XfU3MIgg4Pj5Edsrmsm0rk8lkc/h6Ly+Lwb7pxyjeVDYKgUHS0x+IcsJE79d70jyVFweUJzs7+WUfxD3cmZDxHvDlRlxrqirE0NjIxxeC9onMbKAzhF2Kn39TF6MYogV+bAASf7M21FsV54axNjY1Nre09Q1Nqh5bZl5aX+bUb+V21B+G9qdpEf3uMk1d63dimfIH/79rVT3wTJNmnDZSlBDjZmhmbmFjZE4JSSvqpjIv3TfmJ9UOLvh0BCIJOxWd8ARJtYnF4N/zj8/ii01PxnxcmWaWQQk/FPL7wy4XyhYdnZ39ZCBaCoOOTUy5PcEMbkbZLo19Hkj8d1rod+7/RVv8LZ/obNRetCkoAJYASQAmgBFACKIHvIoA603dhQ9+EEkAJoARQAigBlMA/jADqTP+wDkebixJACaAEUAIoAZTAdxFAnem7sKFvQgmgBFACKAGUAErgH0YAdaZ/WIejzUUJoARQAigBlABK4LsIoM70XdjQN6EEUAIoAZQASgAl8A8jgDrTP6zD0eaiBFACKAGUAEoAJfBdBFBn+i5s6JtQAigBlABKACWAEviHEUCd6R/W4WhzUQIoAZQASgAlgBL4LgJfdyYQ3iE2V7WP7wqO/+xK8LesIQjvzLRUd4zt8I6Ud2i65Vu/shmwP91R1T6+yf+rd3y1XGCP3FbfOrnOOfqb31EKPCD11HaM0tmiP11R8IRBHW6uLvtU30054J1chfLrvgLCe/P9jZ2Dy3v8v/iYBNlzQ40dQwt7/Ov4n2xPdTf3Tq2xj/5HH76/sotAEDwVnx2dnN7071R8Bn7bLb//yuqh+0IJoARQAt9K4OvOJIHHs220CfFTm/+re19J4MlcrC4hdmyVdd1p5FubqLK9hJJB0MYnDqwe/GWrzKvsXeUpBIspBY5m2JReGutH34wHgo+2hguTAz58pu7yvv3MKqHm+hg6x7Yv7P65igKnlOog83eaxlZYrKNfGXWFo8LjhzwFIFpTrE94eg+Nefnu8H95eQBMqQqwcgtuJm6efTvjL1VHslgWZu0SUUPcuKYRIG8kzQvjn9G1ePDXlvqlGv0Ff0Puk3V0fMDmMQ84X/53wOYdn5z+VTea+Auqju4CJYASQAncTOBv4UzgKbEhv3Nuhy87a/yFznQ0V1PeQt3myM9zP86ZIFg0/7msnbzNOUVg/8+cCTrbHi/ysnij9uj/2CYO0fdvEQQ5mm+oaqWsHYhlZ+G/yJkg4WgywcQtuXNx78+5183HKgyK5zorO4nLB7KIJwjRuzMjUotH6Ac/rEhFbX51Z4Lgo+Xuz53jtJ0jRZN+5E/prdH5LC6fLxQq7/d+6YlQJBIIhSwO74DDOz29Rhh/ZAXRfaMEUAIoge8h8LdwppPpFGdsatviwbG0CX+VM0Hw0fRHrFtsx8LuidwPflicCQDG83GEpM8LDOk56X/jTKCE1hxhbWzom5kX6qjjlXYLZ4LgY1IBwTO2kbQpH2r9i5xJslYfgLWJrJ7eOfxhEZHT2bwAt6SqiU3hDyvips/Qr+5MAEiuCfZPLBxeEtzUxL/ydb7wkMXhCYSiS5509VeBUHTA5okOj9FBur+yA9B9oQRQAj+GwHc4Eyha7yqMcLJ4p6mtb+Ob0D53cCS9zJesdWVm1Y7P9JWm+NoYaWnqGjgEZg6ssE9kA2yQZHu8MsbLRk/77TszrLObh5eXl09UydhER0EU9tUTNW0LR4KHp29m8wbzcCIXq+sS31iVE+tja6D9VscEE5jTSWddl4UEwaL14eI4T2tDbU0dfTu/hFYS81AMwRCwNV4V7qippv7W0sHZw9c9s3mFxSVnELQIsY2V2YleWCMtLW1jB+/czsXzG8iDx/TB0kh3y3faWgY2rqkNM3tCaduAzc7irMZR+kx3cSjBVMfQpZS4cZ5/It4drY7D6jxW1zRzcHb38ktuX2RySAWOpo5J1ZXZSf62xtqaugbYgPTuhb0j2aggeLw6Vp8e6o4xfaeprWvuElI1usGXmp1koz8/r3ZoorciI9DOREdTVx8bkNY1z5S/UfUwgGDRytjYwg5HMJvnre+Z+jVngoDtqfoYZ90nT9+YYfHuvu4fGhZ22XN5PoaEyKqynDQ/R2NtLW0jrOfH1rk9oWL4EjxZG6mM9bLR19EysHZJqp3Y4V0MCkAAe3m0NtVV7+Xzd9bOXsHv89oWmQfLrYXJxS0Lu3y530BHtKaCtE9di3siCAa2+ypyP/dMdNXkBOJMdbS0DbEeGc0UpkBZ6PH6WG2Sv72RrpaOgaljeMnwaHdliqvuiyeaxhi8u6dvWi11nbc2Uv6hsJa0wUYOMQg+3J6qSg+wM9HV0tGz8YyqG1vjyWQZhDdGywvreka66rPCnEzeaekYWvmmfZ7dFkgu2RcEnzLJnz8G25vqvtXUMbTCBX1smmfwAbkzhRYX5aWHSPdgZOWTWk/Z4sv3AJ5sTjWkBjoav9PSNrTwiPs0vso5le1cvNpZll7UQN7iKlEstZVmlLfN7ggg+NLYnIRH7SoMdTZ/p6Njintf8Lko1BkTcHVsDoQ3x6tLP/eSJoeqUn2tjDXd0joXdgEYPN2c+pwSgDXU1dK3cIopH1xjncBnB6TWTDdTjadvDGwc3bz84usmV3eXB0qy8htn6DxZaBKCD5d7S3KL28nrQhAGGBM15XV909P9dWnetvp6bondpN2NydrSuvaBzsb8aIKZnpaOgaVXUvX0OvcKQwjiCUQcLl8o+rozCUUiFofHFx4C/7wbpKt+ltHnKAGUwC9B4JudSbxZHWqsbeaa/qlzsKcl3ctAw9SncW7vGIDFpCxr7XevtHU9Egqbeob6mvK8zJ+9cc0ibfFBEBZR8h2MDL0ymsn07ZWJSj/L5wauyVXdtG3aSHNJkNHrN/ZBqbkl5VXdZBZXPJGL1dJ9/taIkFzcNDgy0lr43kTzmWvO5DbvYoITBJ+uNvhbaRk5RxZ97unv/JzmY/LK0Kl0fFMoFq9PdRYGm2noWgenZJVUfuoh7wlFlAxnXZ2Xr4zc4ksa+0cHO/OCLF/q2hWMrSEnaxCit0SYGxp6JBa39/U3ZvsY6WgHV8wwhSAsmc10NcM72uiYuoSlFtc2D62whed5LSfbU52f3lu/1LENSMkq/lTdMbvLF5ILHA30XmjqesTnN/WODrWVBGBeabqkjdE5AATDwNFoRWLSh5y69qGx/pYUT4PXNsFt87unEHw2W+hkZPBSU8c1Jqe+c7CvudDf5rWmS+roCht547UPyVyO122c6Wxzprck3OrtO6uAhMySik/dxB2eYC7Py/jdy5eGhOiC+t6Rwa7CMNu372yz+mncM4TJWke8ramRa2x+S29/U16AuZ5uQNHo5rkwwjBwujrZVpXuaaSpae0VkZKb1zKxyTkYTSHoeyT3L+0rRIE/mOhiFpA1ssqGYMl8gZ+5wauXBviInKrOgd72/DBbzXeYjG4qGykUoLfH2hlq2fjEl9a3NtcW5VQPUKeHuysjrd9pY7xjMos+VXVO7ewfkyp8LdxC2yhbZxB8utkZ7Wxo5PA+q6qzr6spKwijbWT/sWueI4ZhACZX+Jsbv3il7xiVWdnZN9BSHI7Rf+WU3L5waSTxdPlTmK2VU2B2Te/wYF9TeVpaeffijgiWOpOF8bOXBrjorJqeoZGO8iis4WtcYus88wwGwbWuFJy5vn1gWnV7X3dD/nt7HX2XxC7qPnKQHE9+9DHziG+jMuQjp5Bg9IOXtV9aN23/ojMB4vn6KBujd47h2Y09g121aZ6ORi/VH7l+uJLPBMBztSE4FzszAzNX/6i8yvph6g73ENzqz3SxNnYKy2zo6mspCrcz1vP62LnM2JkbrIvA6etbuUalFn6qap2mH+xPFnvauSS0TO/JL2lg3niBB84zrYPMAuCzxbpgF1eMxTsrV5+Y7E+Ng7M7+8fU+kg7sxcaevZhaWXtvf2tpTGOxm/tY+pIOxeHRqGLziQ8ZJDbMwIxmk/v//HH3Ucab5xiqyYWWYeymBPqTNd+otEXUQIogb8ngW9zJgjmDMSZGtlmD2/wpd+TILs72OqNc/rYNgcQk7KsdJ9YJfRvIOc9GAZhZluIvrHrp7kd0Rk8mYfVdU+YXJOGBACYVOSkR4gbXWNJIFiyXuNubhbXfGFs7q2WXkrfClee4cRriDI28M+hbiuiFjKaEmFHoqWeU8zgCktuMEfz2Z465iE1tN0jGIBX6vwM7YNbVcfm8LovrSMGlg9k24PsjhCMjl/ezDYPggTDsY66zik9qyxpqYCgPdFKnxA/ssqSSGYzXfSeatoWj64JLp4g5N0q2a4MMbaLrL0wNmf03CKmY3lPujcQ3u+KMTd3LZxcvTzzCoKPibn2Zo7pA0vsM8SZcMYvzKPaFpnS1CgQ3uuKtTR3LZigX36j8pC6pTNJO2W1KdQCF5G7/JYAACAASURBVFivOjbnZfzaKrhjjiHLcAI5PdE4A5/MkVUWBAnGU9yMnBNaaLLKAMLudEdjQlTPAlMREVIAoFf72tpG183IBifho685k6/ZW4vAFvK2LBgDcvpinY28PwysHEAQfzTFzRgbXk3ZupB8I9lqDXXEhJePy8fmEBNSOBNwOJBNMHcKbiLJdwgfL5eHWloF5E/QBRCypZ+pnm5E3RRDNiQpEXR+cLLwSRxEtOX8Aez1xBDsI0pHNgSqLyPWRal8b66vG1E3qdiDsDvT2dInoX9+H+RPZHhbOIRXzWxKR5ch+HipLsjezD9/YJUH3d6ZQO5IqpeZfVjl9IZ0PyC825eGM9VwSr/OmWpCrHQf2yc3UWUHGAxDImJuoDU+spK4KZ2zCIiGCrysXIIapjfEEmZrKt4pJEc+NgfBoumvOZO95gu7mFYSU/7JAmBqfYSNoU5Q+dCmbPhVIuzP88J4R7WTdi/AuuRMB9P5QRhTG58PFT1j4+P9bdW17WO0dQ7qTOeHHfoMJYAS+FUIfJszAdDQBytNXHgveWWfJX0wKVluWvoBpUuMQ8SZ9E3iOlbYslnmEHw6kW6u75RH2hSI4dGPNrqeqaRNLnKtDcDUctd3uIi+FSQT+Vpn0sYGdS/tKfKU4eFMGx3vZPIm58K38+lkouMbXMLAGktxBgdgcomLnn1w5wrz9FpnctHGRDQvMxUT4SXTKfi3HmmTGyz4ZPojxtA6rnlimSlt2j57usRDz8y1Yn5ThMSZ3lkGVy8wDq/v2WudydQsqpG6J0vSgmDxdLadCT5zdJmjSNQ+E+3RqZPDfV2thcGmulZJHQsHp1JnMjOPbJhlyoQBgsXEHHtTfMbI0o0TF/+kM3kb2obUzCoFRULK9NTzSOpfZsKnpAK8OSaydoi2K2dC/BRgauFSNL3MvwhC8q3O5G9iF1xJ2lBYkYSc7WPokdBNY8AnpCJXS7vYRtKuopdkRX3JmcTkHF9jp8gGypZi3BCA52uDrXD+1cS1Y6kzmTv61EyuyrO4AHiq1NvcO7JnjnHhiDrb+hzvYGBiG1HYvbx/eD7qJI0zWTp6V02c72G6zNfSO6KLzDimlHpisFH1EzvKCgOrlZE2DsHFk6ui2zrT+tkJudQLg42oGd9W7AfYbo92MfO8Ns5UE2JjTygaXBQqBtdO5yr8sNig4o5ZhryzyHVRdjb4jH4K5zucydHKO6d3WTGeiHxm6yPscO4lg4vyjDUAJleH2noHN01tKI5oaUdddCbhTl+qp5mFa2rb9A5feChXJWViExpnuvg5Qn9DCaAE/tYEvs2ZJMKmSMPnD/7z7/+oPP77HzXXPNqOEHEmA0zGyCpXJjAQfDqZbqaPy5vZFEhgzmiKlbF56KeRLf4Jb60vxvGtVUwTfR8RimudSYcQc77WgAQe+Wij45VC2rjgTCC3K9jmjVc2EiWSUwbhrcYgQ0vPGtrW4bXORNDCJ6isNSCZTsW/dU+b2DiA2T0xJm8f/udi4357alM8ty6QzGa66Tgn9K3sK+TsUq9e70x252sNIOqTbWfilDmyzAFgkDNfm+ii8+qFpoElkgKFM33xwijh3JnskrvnD2RnfwgWz+QizjT8w5zJxwAf077AUATQJKSPHnruSX1LuxBnIAXzTu3fl5ioW+VMLnIvEvgOZ3KObp7bVhZKyfExdE/opu1AnMF0e0t8Rv+8NCZ5XszNzrQt5g8muhq6J/cs7ilO3yDM6EzE2roXjNP4UmeycA1pnVGsFADA02Xe5l6IMyneIC8I4K92l0RgdNQfaejiI0vG6OwTUBpnqgqwVF1rAICJ5YgzdZIY7OFMvDU+tZNyoBw6lrBb05xs/NIHaWzolmNza2fckSwXG3xKO2lfsR+QO5zqZXPNWgMAPFcTgnEP/Dy5Lo8DQTBvLJdg+vTf/7746XxsmtJDOvgeZ3KKqBrZUtib3JncAmpG6fIrGQAm1yDO1PhFZzrk742Vh1u/fXDvqRbGO7a8i7S5xz83J9SZzg9w9BlKACXwtyfwbc4EnLbHG2l6ps3tKCVF0UIIyWeyMsBkjqzxrjoTctYREYs9dDUeP3jw8OlbfefYKsquPCXoWme6sD7TDc4EHw5GYl67pk9uKUM3ALxU7W2A8WtcYhxf70wX12dScSbhYJKZoWPW+OqlpCmkhYgz6X6zM6muz6TqTKfHgx8d9axdSkdWEQRIDlORkxn2PM5kjk3pWfgfOtPF9ZnOnQkWjWbYmeHS+he+ulLWV50J5PTE4E38PirymfxNEGdSpsJIFM7EAIWjHx0tHJO75y6tonWzM22dHU2kuxsS4jqQPGjZA4TXmiMx9l6lk8tCqTNZuoW0ziCZT8jjZmeSvRsQMWdas9wtXr5xiO6g7oqvzps7d6ZdwWSei7VjQuvMntKoJYzP8fZ2AdkjS7yrzgRyB5I9LH0u5TOti4WTea7WuPgWonLgE2QPJHtY+14bZ6q97EyiqSJ3jFNs0/SushqyxiAH8NfH5ljD2W4Obuf5TDiniOrLzoR1D6gZW/02Z0JCSrxt6nBNVjjO5PWjB/eN/HMGqEx5ejjqTMo+Qp+gBFACf38C3+hM8HK1h46Zaw119/Ictq85E8gbjcNjU9rmWceXLuxhYKPWw9w0tnHxQDZQc3WtgZucSbJdEaRvElA0t6OYfS7hNceY6XmmEze4IACv1vsb2ge3zN+81oDSmViQZKPO00LPr5C4czVv6OvOtFMVamwXWT1/01oDF5xpucjPwCasmipbLAeEmZ0x5nrm8co40490pvXmMEvHwLqZTfnK0lfXGlA6ExMCNpsC7Yy8c0bWlFZ6wzF92ZnE0x/c9AlxnTSZxEDwKbXMw0rb7avOtAsB641BWGPv7EH6xUKBnbYwHCa8bHxTlmyEmJAyn4nZGG9r6Zs+vMSWH14SQXcG3swjtmeeCXy7MyGthGDBVL6rDT51gLz/BWei7JwxOqPx5t4fupdY8sKR+JCnqWtCC3VXAotJuf5mBGTcUOoyEHy6UB2A1SOkXswBXxcD680RThY+WT3LsnAqsmVNgL0+4TbOBMPATlcswdI9tX3h6jJdwF5rGt4pJHtoSTqmCsGn5HIfOydkPFEWzgQgan0kxsLuxziTYkiOvdWZ6W1k4pDeNLkrkL6IOtMNHyj0ZZQASuDvSODbnAmGwf3eUMwbQ7e0Phr7FIBgiWiLOkRa5R+dfjHOBMAgqzvURt/c0Ss0KjY+PiElI+/z8DLnCLnsB/k9odaa9rGddJY0Ifj2zgTCe/3xVoZGASUj2wIxBB7TuxKs9bQDK8jIZDcI5vTGmhpbJnTQ2LI551fXtFQ6ExuEJdzOJDsdU4cPrbOsIwkEAwLG3BhphSs6vUWc6agz2UYfF9I5zzwFr1vTUtWZxOzGGEs9h5D2OSTpSrjWE+9m9OyJ7vnY3J92Jkg0UxTl4f+hY0WeTqU49iCYO5hqa24V3Ujek2dDX1kHXOlMeyAM8PoynA3M7JIbiEzRGQSDQubCBHmZxVeO2cj3fNmZJMzPMTYGdv51k9tHEljCXayOtn3z7K5z5tfiTLsgLDloT3EysMB97JjjIBMyBZvrOxzhsUQ4kuJmYh9aTdqS+p6qM4EwayzLxcrU62P7EusEAk82BrNczPV9cgdWuYB03pzfbeJMkHCdRJxbYwrPkMjoEa0hysbWo3CMJviiM4GAYDjPyxyDz2ybYx+D0OFuf66XsYVLXh8NibkC+60pTia23hXDa6IzWMJbqU/Eab+4h0u56EwbYliy25KCN8G4F/Ut88UwwF9tSHbWeXH/+hzwS3EmJHgmGCn0Mze3ia4Y2eKLIRg83F8mUhZ3OUew5Hi4wNsK510xQpdd7QDM3kQ3U2v//GG6AIBA3nJbHMHg8QvLv9qZjgQrE92dPcOUDRbnkLtNrY7H6Vu7F3bNsmW5TTJn4nHJ7Rl+Xv75w3NsxaGK/kQJoARQAn87At/qTDAE82gNkTith/fuPVR7ePeP//7+TDOmaYV99EVnkoA74+VBeAuMvRPBzd3dnYCzeffsyWNc5tAW9wwGjoil3novHj1+pvHSKXFihTN66d4pN8WZkPPE4WxDvJ3uk8dPnz9Xf3D36Vv3j13rHJkiwaCQWuBv/Pyx2rM3T3Cpg+u7xMv3TlF1JsTeVj4nu2ir37/3QO3BvT/+e+euYVjtEvPw684EwYK5T97mL9UeP9N4a5nRt7I7dfHeKarOJIEF87XvMa8fPXqqofFUXccqpbrA39Ytu2tengP+p53pbKXS0/qdd97EhjKHV3HoQcKFslDLl0/Unr1+4pDYtbQ1k3fp3imqzgTDkGC1+YOH3rMH9+4/enDvzm937uoHlc9uKQJ7it1ediYIFiw0hjtqqz1Ue/r8+eOnrxyjkvywpqH5t3AmGJawZytjcW/U799/eP/enf/etwhpn9s5A45n6yKstJ6oPX3+0j6qi8SY/KSIMyFTAo9oHZmuJi+eqD99pv7w3tPXTkmf53dFSOTn1nEmkDP2wdNE/e7dx89fajx79FBDxyend5V1Kltr4MK9U5Rjc5QdRJKFq23ZPkav1NXVn6mr3Xuia5NUT0LEXRqvEi61xRL0njxUe/rs+ZNnr7BhcX44q9CsK84EwWLmZGEo5pW62pOnz548e2kXFuePx0TkXjdv7qozIVPnNrry3pu8enTv3sMH9+7+fueurk/O2AoXgmDRUnM0XveJ2pPnr83i6ie2RMeLHWnOhk8fqKk/e/5EXdsiPPK9g+P7rE7FWgN/ydic8Ig/2xRHMHhw57c//vjj999+u/fSMLigZ3FHcGHeHGevp8DXREsrqHVoQ3FEoT9RAigBlMDfjsDXnenaKoNiztYieXqSSKHvC8U3rhukeC+wUe9paRnfPM+ST1uCYUAymm2n4540JV+QEOTvLlFIMwsb7GPkGv/bHuAxZ2ORMjNLY/BOJJfeLREylmdnyNRN9tHtdgyd8nYW56YniaRVpkB8PnXq61WSCJlLczOk+XXOofirtx4FTzhrC5QZyhJTcPIthXy9GjAI7/cmWGN9y6fW5JOqLr1JItqlU0nkuY0DkViR/3Npk4u/Qqc8xjKVOEUk0Rm8E3lO0MVNrv1NLGTQ50mk2bV94emtClLdCyg6WF+gTBHnVvb4SkSgcH+VSpmZX9sXXbdH8IS3vTxHml3YZh/errtVS5Q+lxzubSySpianKcu73ONv6RrohMdYnidRaBvsQyTaeOFxJtpdXSCRZleZ5425sIHyF/CUs708R6GsMLjHt0etfDsMiQV7qwukKeLM8jb7SHxeEeCQtUajkKgre/xj5DMLwWfC/VUamTS3zOQdffVTfF7Cl5/J5s2xuXyBYk1LAY+5tkSeHJ8gLmwwOQLlpDnR4aEsziQQCvi7a5sMtkB+tfPlEtC/ogRQAiiBn0PgO53pmyoLwSdjKaZmbqWUrfNTuOSoL81K3/fj7NaVdPJv2jm68VUCADBW4OyaWD27dcPKCFffgr6CEvgLCQhEhwfI6t433mxOqU18ofCAzTs8OkFv0/sX8kd3hRJACfwgAv8LZ4JhkD0YhdU1dYkqaRqcmJwc7mrMjXR4q/kuqp7KOjy/Dv5Bbfzn7VbMXKGs7HBl97T55zUfbfHPJiAWn7G5ggM2l8MT8AXCa//xBEIuX7DP5nK4AvHZ1al+P7sNaPkoAZQASuAKgf+NM8EQfLw9VfUh1MXOwtjI2ByD84362DrDuDqCcaWC6AsoAZTAL0hAfHbG4Qv2DrjMA85N//YOuFy+UCw+Q4NMv2APo1VGCfwTCfyPnOmfiBZtM0rgH08AgiDw5geqSv/4AwQFgBL4xQigzvSLdRhaXZQASgAlgBJACaAEfgoB1Jl+Cna0UJQASgAlgBJACaAEfjECqDP9Yh2GVhclgBJACaAEUAIogZ9CAHWmn4IdLRQlgBJACaAEUAIogV+MAOpMv1iHodVFCaAEUAIoAZQASuCnEECd6adgRwtFCaAEUAIoAZQASuAXI4A60y/WYWh1UQIoAZQASgAlgBL4KQRQZ/op2NFCUQIoAZQASgAlgBL4xQigzvSLdRhaXZQASgAlgBJACaAEfgoB1Jl+Cna0UJQASgAlgBJACaAEfjECqDP9Yh2GVhclgBJACaAEUAIogZ9CAHWmn4IdLRQlgBJACaAEUAIogV+MAOpMv1iHodVFCaAEUAIoAZQASuCnEECd6adgRwtFCaAEUAIoAZQASuAXI4A60y/WYWh1UQIoAZQASgAlgBL4KQRQZ/op2NFCUQIoAZQASgAlgBL4xQigzvSLdRhaXZQASgAlgBJACaAEfgoB1Jl+Cna0UJQASgAlgBJACaAEfjECqDP9Yh2GVhclgBJACaAEUAIogZ9CAHWmn4IdLRQlgBJACaAEUAIogV+MAOpMv1iHodVFCaAEUAIoAZQASuCnEPhlnAk6WxmtLy/KyWscZ/KOodvDguCj7Zn2htqumS3hCXD796FbogRQAigBlABKACWAEjgncCtngiDB2mhtbnygj6eHV0BUekkXaUtwCnyDuJwX+L3PJKKWOBONR//3N9u46XU2ePvdSDgNkaYaD//1m3nYAH3/7PZv/PFbStizNRlh3h64+CoSg4v63I8njpaAEkAJoARQAiiB7ybwdWcC4Z3BZIzWo9/+/a/zx8O3yUvr3O8u9Tve+N3OBJ7N1YXbmWhZR9cu7ol+uOdBMG+qOMjLPrZmnim4uTQI5i22RDpqPfzj3//6/f8zje5aYv6tdO47egh9C0oAJYASQAmgBP6fJvB1Zzolp+E0H/3+f+9q2UWm5xfmfIj0sjb0yCDuqARGQDH/YHtrZ094IgGv9wTolL+/vbPHO1JsIDlm7W7vHAhPJdfGjM4EBwzGgeD8rzc5E3jC29/ZZBwgRX9zT0lEbMY240Akllxfa1giZDF2D/gnZ7fet4TfFv//s3cfXlHc+//Hv3/Pvb98v5Ft9F6VDqLSBVssMZZrSa5d0ViiMdZYYrmJDY3RKJaoiV1AiihgAYUFKcv2zrK7v7NgAYIsXldd1uccznF2d/Yzn8/jPRxfZ+YzQ15slNe0bcXP5G9otcv05NKWaaPDfERCRxAlM7114fgCAggggAACH1zAaWbqavt94bgYP7/PpmyvbFb2DQE2u7Hu8rYlE0eF+Igc//l7iUNHTd9w6mG73nGdyaL/44dp6WmxS346vX3x5LhgH5HQSxweP3/XjeIz2+dkRvlKhAKRJHriirMP2g1ddqv62vovsxOSpuz67VDBrDFhfmKBSDJqcsG5apmhy27/e2ayah+c+f7LcRGOdgQCn8ikudsv1MkN/dONxXB528yslKiRs7dVNMi7NNc3fpWTlDbv4Ik9y79MC/UTC4UC//jsjacfdOgcX7VqbmyalZuYOHnniV9Wz02P8Hd0Y+SklWeq2vRddqvsyvqZOQlx4fP2VkgVNrvNbi7bN2vC6Kj4nK1XHrd3NFz+6Zv0mACxUODjHxoeERUz+ds/H7aa+7J1NZ1ZnBfn7xc0YcWyL5JGBflwnumDH/fsEAEEEEAAgbcVcJqZ7IZba/PjgiReAePm/nzjqdbUJ5NY2y8syY6LHJk6fsrMqdkJwX4SoZ/37H3lLWqr3aL5/dtx0UFeEm+JyDckNj42NMDbEa0kvr7ekqCI+PjoYB+JSCD5v5Slpx63Gq3KP5ZnxQYIxb6+Ev/wuMTYiAAfsVA0Imbu/qomjbVfZrLaG86tyooLFEmCUiZ8NWta5shgX5Gf31e7b0uVlj4IFm3R+uxRwV6SCWtL6mUW5aWVufEBQom3ROgdFJUQHxPs5+0IcynzTj9oNtjsVuXlVeMTAoVin+5uJMRGBHZ3I3r23vIGtaX17JLcOH+///1iS/dpJJvdfGfb+JQwgX/ct0U1TcUHZ+fE+4odoxT7BgQGB4Xnr7pS2z8z2a3WxmuHj16qlDZeXDMxKZDM1KdgvEAAAQQQQMAtBZxnJqulunBhapRf91Wk4DGz154uf65/feakU97Wru/sdJxJMd/f/mVSiO/nMQsOPWzRvcxMAkFg9MpT92Vaa8PpxWkx/gLRiLDJ39+qV1j0ldtnJof6eEny1hY/7bD0ZCbRCP+cFVceysyd6j9/mBwbKhaG5+6726A2ac/2ngNurto+MzXU7/OUJb/Wthhs1s6yA7OSIiU+uQU36tr7hKaBM5OXOHXW8btN+k7L/UPzR0f7CgLi1198KDPZbT2ZSTTCP3vZxepWk1nz17apCWESYVjOntv18uY3Z6Zz1e1Ge1fz6UW5sX7+nw92be7lkWBV/rlmQhLnmV568C8CCCCAAAJuLOA8M9nt9i7NvVPfTUkJ8RE7ZoELQ0YtPHC7Rd09Z9nWpXh698Lxfdu/X79m5Td5SSG+3iNCZ+2tbtbYXpxnEojHLrr0uM1ss3dW75+aGiHx/XzazvJmpdXe1Xnxu8yRIQJx1vJr9e3mnszk81n6mstP2zvtNrvhzg85iSHCgPDlJ2va1ZpemUluflo4Z1y0j1g0KmvmvK+XLFmy9JupaWGB3qLY6YU1Ul1v8AEzk/f/pSw5Vfvc4Li4VrpjQkqY0D9qxekHbYaXmcnns3EFFx63mh3dKN6anxImDAhbWni/ue7tM5NVV3f36vnff3Msp05eqWhSv7x+aFVeITP1rhXrCCCAAAIIuK/AkDJTd/e7VPWXDy7PiQ30FgmEYRm7HjWqu1Q3985OifB1XNvyC46KGRke4C0Wjwidvae6Wf0yM3lJJqwva5Bb7XbLo59npEV6+/suOPTAcQebxXZlc9aoUIE4c/nVV5nJ9595m+40yq2ONFP105SUCLG/34JDVS3KPpnJVPXTF6MjxI5zX30WUczkw9WN2t7eA2Ym33+O/+7aU1lX94Sk3RNTw0UBUStOPWjTv8xMjg2uv9jg/v7pY6LE/r7z/lPe+Lh/ZjLe3jI+JdRxbe5N55kszw4tzoz26+6n92djV56tbTH1dJDM1LtQrCOAAAIIIODWAkPPTI5h2OyquzsnJoZK/L1m1T5srDs8My3SWyJI/eZQhVRn6Ww+9HVahP/fMtOk9eV9MpPfYJnJ57P0gj/q2x0neIx3tuQmhgoDQpaeqG7rd57pyeFZY6O8/cVzfipv6Oh8tVgsFput74zrN2SmvO9uPpV1J7OygTKTz2djV5571H2eyViyvftEVMiiY/ea6oq65zP9v0k/FD/rsNmt9raL32YmBA2Wmbpk1w9vXvnveY5l4dxNheXNL2dckZnc+neDziGAAAIIINBbwGlmsjz788iJ86V1cpPFcZuYpmLXpKQwib/3vNrHDSXbsxNChf7+Xx+pbtPabYq/VuXFBkjeLTOJRvjlrLr6WNZp0d/c6ZhIJAjL3FP8rP98JsPdzVOTQ3xGRM38sbRB1fM4SKtJ1tymM5n7zFK3/3eZSTTCL3vF5do2s8Vwe/eMpAiJIDTjx5t18o7LK/MSAiWfx319+H6TztbZcXZDfmyw6FVmsraeXZwb5+/7f/mbrtXLnDymkszU+1BkHQEEEEAAAbcWcJKZbHZz5e4JSWFisU/YyKTRqYnhjnvfvMSJX52sa9U0/TpvbLSvyCsoedLCxUu+zIwJ9nPc6db/2txbnWcSCgRCUdCoMVnpCWH+3kLRiPCZu8qlqr/dN2d7/NvisSP9hUJJ1LgvFixatnj+jPQE//x1V+ra+z4c8r/LTD3dGJmWNS7BMWSRV/iXO0qeKa2Whl8WZUT5CQSSoISM/PFj40L8vUUCwYvMZLLbTWVbZowOlXiJg0Zl5OblTF9VVN2k73vm69UBQWZ6RcEKAggggAAC7i7gJDPZ7V0N51dPT3E8XKln4pBIEpk9++D1Bo3JZu/Slx1eOCbazxEahKKo/ILj/1k2LiE4ot98prfKTD7CnK8WZiVE+4mFAqEoLHvh8bLnOstAz2eyqMp/3TAlNbRnZrpAIBCFhM7dW9z08srXC/r/LjP5iLJnzs9KGukn6e5G5vyjJVJtp+PqpLr616UT4wK6HwolChk1d+vuJXnJ4SHd85lMdrvV+uT8uonJPY9N9xInzjlRKSUzufuvAf1DAAEEEEDAqYDTzNTdQpem/Vl1RcmdkrLaBrmhz0Oxbbq2untlpRUPmzWOq3f//fLi+Ux+/5jwfUlDs6y+uqKyVqo0dj/FYJBWO9VNT6rulhSXVT1uVZvf/W/gvXg+k+8/8jfeqpPKntZUVtY0KvuO2W5WSR/eKy9/IO2H8aKfNpNcWlNZWlpR3SR/i0eIDzJKPkIAAQQQQACBjywwtMz0ITr5IjP5/iN/U7HjvrmPtLzMTP/M23DDMUmcBQEEEEAAAQQQsNvtZKZ+hwGZqR8ILxFAAAEEEEDAIeBGmUl9a/vCqVkZyYsPVrWoPtoJHqv6zo+LpmenJy/aX96k+Gjd4OhEAAEEEEAAAfcScJ/M5F4u9AYBBBBAAAEEEOgtQGbqrcE6AggggAACCCAwsACZaWAX3kUAAQQQQAABBHoLkJl6a7COAAIIIIAAAggMLEBmGtiFdxFAAAEEEEAAgd4CZKbeGqwjgAACCCCAAAIDC5CZBnbhXQQQQAABBBBAoLcAmam3BusIIIAAAggggMDAAmSmgV14FwEEEEAAAQQQ6C1AZuqtwToCCCCAAAIIIDCwAJlpYBfeRQABBBBAAAEEeguQmXprsI4AAggggAACCAwsQGYa2IV3EUAAAQQQQACB3gJkpt4arCOAAAIIIIAAAgMLkJkGduFdBBBAAAEEEECgtwCZqbcG6wgggAACCCCAwMACZKaBXXgXAQQQQAABBBDoLUBm6q3BOgIIIIAAAgggMLAAmWlgF95FAAEEEEAAAQR6C5CZemuwjgACCCCAAAIIDCxAZhrYhXcRQAABBBBAAIHeAkPKTJ2dFoVa2yZTtsoU/CCAAAIIIIAAAu4j0CFXXUv85gAAIABJREFU6Q1Gq9XaO9+8j3Xnmcnc2dkuV3UoVGqNVqPV8YMAAggggAACCLiLgEanUKrbO5Rqrd5qtb2PqPSqTSeZyWazKVQauUJtMBhNLAgggAACCCCAgPsJqDVauUJtNJlf5Zv3seIkM1mtVplcpdbqjEYyk/sdI/QIAQQQQAABBEwmnV4vV6p1euP7iEqv2hxSZtI4MhM1QQABBBBAAAEE3FFArzcoHJnJ8CrfvI8VMpM71p4+IYAAAggggMDQBchMQ7diSwQQQAABBBD4dAXITJ9u7Rk5AggggAACCAxdgMw0dCu2RAABBBBAAIFPV4DM9OnWnpEjgAACCCCAwNAFyExDt2JLBBBAAAEEEPh0BdwoM+n1hg9QB6lUWldXp9FoPsC+2AUCCCCAAAIIeIwAmcljSslAEEAAAQQQQOA9CpCZ3iMuTSOAAAIIIICAxwiQmfqX0mjWtD6pqqyWytX6/p/xGgEEEEAAAQQ+VQFPyExGvfx53b2SG5X1HWqds0I6nc9kMDecXpo2esqu24/aP8QEK2cd5nMEEEAAAQQQcAeB4Z2ZDLKHxVdOHTmwb9/eXXv2XSxvVjid2k1mcofDjj4ggAACCCAw7ASGd2YyyqX19dIWubqp7Myxw5cqyEzD7gCkwwgggAACCAwTgeGdmV4iG1oqXJyZUqds/fXg2q/HjwwLCE+buPl0VYui+0Kd9sm53aumZSRGBPr4BIamTF9bVNWsMphMBu31g4tmrdp77ui2RVOSQwMDR45f9GtJo0JnMhnNmkeXdxbMHJcYGeDrHRAZN/27k9VN3c2pivcs/7Jg1/kjW5dPTA0PCInIWX6orKHDMY9K++TCntXTMxMjgnx9AkOSp605UylVcq3wZcX5FwEEEEAAgQ8tQGbqL949n2l0XMKosdkr9pz88+r5zXNGR6TNOnr3qSOyqEsObdt14GjR9TtlV4+vGZ8cMmXjlcfPdSa9umhDdnxCTPTIMXOXb96+bk7aKP/sgqIaqcZkNCtLC7fu3n+06GpJyc2j306KjcvecrmmVWcyyS8X5CcmxETHpM9auWnn2jnpUdEp356916w2mTSlR3bsOnDk7DXHjtbmp4ZO3vDHwyan07X6j4bXCCCAAAIIIOAaATJTf8eezJSUurSwTKowmIydips/jE+Lm3/g7rMOY5+NdaVbZiTmLiusalD2ZKa4lHEbz1S1qIwm3b0ds1LGzP+pvE7W5ztGs6Zk96Rx6SuOlTcqjN2ZKSE+v+DcvSa1wayt3DctI2nBvjv1fb9k0t3dPitl/NLDFU8VfTrACwQQQAABBBD4YAJkpv7U/e+bM+sfHZuTGTH1uxtPnhscJ42eFRfuXDVnWl5WenJksDhp0ZGqZ4qezJQwo+BqTZPjypru8f6FaWMX7Cl70h1/jJr64pPbC/71RV72uOSogJDIJYfLGuXd55kmxk5d+0dtk85sMuseHpmTk7xg7536dmP3jkqO7yqY27OjEEnSN79U1JOZ+peL1wgggAACCHwgATJTf+i/ZSbdw8OzMiOmb7715LlJ9eD4/NykzNlrfy66de/+hTWT47KWHnaSmQy6e8cXZaSNnbNu3/mblffPbRyfNnrZ4JmpzayqPvF1XnLmrDX/OXuz8v7FtVMTspb8TGbqXyxeI4AAAggg8MEEyEz9qftlJqOp/c8N2amjlx2vlMpM17ZPSsyZ/2vFM5XRZNKVb/sqKXuZs/NM2jubpidmLj5U+VThmA9etueL9DHLjwx6num58frOL5Jz5x2/W6907Khix5zUnCWcZ+pfK14jgAACCCDw4QSGd2Yy6hSyttaWluePbp08/EvR7dqn0paW1nal1tBnFlFvzqE9n2l0XNiYBTv+rGlVSMt+nDd61PjFRVVSjc50befkxNSMjWermlubSk6uzU8Mjvnqx9K6dmP3HPCBr81pizdPS0mYuOp8pbS9seL4uimx0cGzdt+qazM45jMNeG3uufHGrqnJqekbfq+QtjaXnlo/MSkkZuaOO4/a3jiu3mNkHQEEEEAAAQRcLjC8M5O+7urxn/fu7LvsOnqrrlX9ptvyh5aZxk1YuHJhTlJMsK+30D8hb9v5mjaVY46Rpu5cwZSEQB9vicQ7KuOb1d+Mj40ICMxfc63q6e/rswfOTAbDo3PrJyQFe3tLxP6h2fPXLMxPCA8TjV93qfbhhYEzU5tJW3dhzdSkoJ4dpS8s+Do/PiogIK/gygMp9865/LeABhFAAAEEEHAuMLwzk/Px/W0Lp5np9TcMHQ3VFZU1TR0afe/TO5q2x1VlFbWNjrcNqobae7XPWtW6N2W07uYcf8Ou7l5FeW2jTKMzGpXS6vvVz1pVg3/JpGl7cr+8oqahQ60zGlSND6tqn7aotIPu6HXnWUMAAQQQQAABlwqQmVzKSWMIIIAAAggg4KECZCYPLSzDQgABBBBAAAGXCpCZXMpJYwgggAACCCDgoQJkJg8tLMNCAAEEEEAAAZcKkJlcykljCCCAAAIIIOChAmQmDy0sw0IAAQQQQAABlwqQmVzKSWMIIIAAAggg4KECZCYPLSzDQgABBBBAAAGXCpCZXMpJYwgggAACCCDgoQJkJg8tLMNCAAEEEEAAAZcKkJn6czr+zsmTqspqqVyt7/8ZrxFAAAEEEEDgUxUY5plJ39FYW3r9UtHvp06dvXC9ol6m1vX+03ADVNXp35szmBtOL00bPWXX7Uft/G23AQR5CwEEEEAAgU9SYHhnJn3r3Uu/F124cvNO8c3Lp34+8NOJqzVtSt1glSQzDabDZwgggAACCCDwBoHhnZlMeoPeZOw5s2TQVP9V+J9j5x+0yAcLTWSmNxwJvI0AAggggAACgwkM88zUa2gGY93tX385eraqpcMFmSl1ytZfD679evzIsIDwtImbT1e1KLhQ10ubVQQQQAABBD41AY/JTEZN443Tvxw5V9rUoRlsStPQzjONjksYNTZ7xZ6Tf149v3nO6Ii0WUfvPlWSmj61Xw/GiwACCCCAwCsBD8lMBtWTW6cPHysqfyrTDJ5shpiZklKXFpZJFQaTsVNx84fxaXHzD9x91jFYGHtFygoCCCCAAAIIeKCAJ2Qmg7q++OzRwjOlT9o0emexZmiZqdd9c2b9o2NzMiOmfnfjyfPB45gHHh4MCQEEEEAAAQReCAz7zGTUNVVePHb8zN0n7ZqhPE/p7TOT7uHhWZkR0zffetLiLJBxWCGAAAIIIICApwoM78xkNKme3fnt6LErVU0K7dACzdtmJqOp/c8N2amjlx2vlCo99ShgXAgggAACCCDgTGB4ZyZt060zhw6cuHT/ybPnLY6ltU2u0RsGS09Dy0yj48LGLNjxZ02rQlr247zRo8YvLqqSDjq33Bk0nyOAAAIIIIDAsBYY1pnJIKs6f/Tg7p2vlx//c8YlzxoYN2HhyoU5STHBvt5C/4S8bedr2lSDJbFhfQzQeQQQQAABBBBwLjCsM5Pz4f19C6fnmV5/xdDRUF1RWdPU4Xxm+esvsYYAAggggAACHilAZvLIsjIoBBBAAAEEEHCxAJnJxaA0hwACCCCAAAIeKUBm8siyMigEEEAAAQQQcLEAmcnFoDSHAAIIIIAAAh4pQGbyyLIyKAQQQAABBBBwsQCZycWgNIcAAggggAACHilAZvLIsjIoBBBAAAEEEHCxgBtlJo1WZ+S5kS6uL80hgAACCCCAgGsEyEyucaQVBBBAAAEEEPBsATKTZ9eX0SGAAAIIIICAawTITK5xpBUEEEAAAQQQ8GwBN8pMasd8JiY0efbxxugQQAABBBAYrgJ6vV6hVOv0Rvv7XP5n8MZtNptcoVaq1AYy03A9kOg3AggggAACHi6g0ejkSrXBaBo81bzjp04yk91uNxhN7R1KhVKj0xtYEEAAAQQQQAABNxLQGzQaXbtcqVRru6zWd0xFg3/deWay2WyO2CRXtbTL+UEAAQQQQAABBNxKoFWmUGt0XV1dgyeed//UeWbq2YfNZuvq6rLwgwACCCCAAAIIuJGA1Wq12Wy2d49ETlsYamZy2hAbIIAAAggggAACHixAZvLg4jI0BBBAAAEEEHCZAJnJZZQ0hAACCCCAAAIeLEBm8uDiMjQEEEAAAQQQcJkAmclllDSEAAIIIIAAAh4sQGby4OIyNAQQQAABBBBwmQCZyWWUNIQAAggggAACHixAZvLg4jI0BBBAAAEEEHCZAJnJZZQ0hAACCCCAAAIeLEBm8uDiMjQEEEAAAQQQcJkAmclllDSEAAIIIIAAAh4sQGby4OIyNAQQQAABBBBwmQCZyWWUNIQAAggggAACHixAZvLg4jI0BBBAAAEEEHCZAJnJZZQ0hAACCCCAAAIeLEBm8uDiMjQEEEAAAQQQcJkAmclllDSEAAIIIIAAAh4sQGby4OIyNAQQQAABBBBwmQCZyWWUNIQAAggggAACHixAZvLg4jI0BBBAAAEEEHCZAJnJZZQ0hAACCCCAAAIeLEBm8uDiMjQEEEAAAQQQcJkAmclllDSEAAIIIIAAAh4sQGby4OIyNAQQQAABBBBwmQCZyWWUNIQAAggggAACHiww9Mxk1TTePntw0+pF8+bNmb9oxeb9p8ob1aYuD7ZhaAgggAACCCCAwEuBIWUmq7297OC8zChfsVDwevESRySvKCxr11peNubkX6v6zs7FX05f92tdm9bmZNuhfmxVF/+4dOaMdccft2hc1eZQ9812CCCAAAIIIPDpCAwlM1kaf1uQGeUrEggDR05ZtGHvwZ/3fP/v7Lhgb5FAGJ6y+VK90jQEMKu99cKqcbEBQV/ueCBVDZRvOtXtzc3tapPFOoTmujex2lsvrs6ICwycsa2qQTlQm0Ntie0QQAABBBBAAIHBBJxnpi7LrZ2TYkPFAv+wfxfea9d1BxqbXX1v9xcpYd7iz2PmH6pt0dks8jMbJo9NjIxf+NPD52pHfLGUbvkqJyk2bNqWG9J21ePLu2enR/hJBEKfgLDwiKj47G1/1ctlV9d/mZ2QNGXXb4cKZo0J8xMJRJJRU1afr5EZuux2i6Jo49T0pMj4BXtrmrpjluXuttnjk2PDpm6+2tCmenxlz9zMyO42/bvbzNp65Yl8KAFuMBI+QwABBBBAAAEE/ibgPDNZanbMTAr1EYizVlyv7+h8dTLH0np48ZgIf4E4ZV5RXavRIitcOiYywMtv+tb70u5TPpab3+bGB/l8lrHm8tOWkh2z06P9RCKhQCj2CwwMCo4Z+8Of9R2tF5dlxQYIxb6+Ev/wuMTY8AAfsVA0ImbugaomjdUiO74iPSrQy2/alnuNPW3eWpefGOTzWfrqi3XNpT/OzYzx79Pm5suPO8hMf6sybyCAAAIIIIDAuwo4z0z6v1ZmxQaIR0TM3f/wufb1/iz2GzvyRoWKBGG5Bx9KNYNnJpnZbmk5smRsZIBXYK9rc1ZFd2YSjfDPWXHloczcqb7yw6TYELEwPHff3Qa1edDM1Ga2W1qPLXOEqgCuzb0uDGsIIIAAAggg8B4EnGYmq/qPJRmj/MWfxyw4/KhF97oLFnvxnilxYWJBcMZPtQ3qd8lMPp+lr7n8tL3TbrMbbm/OSQgRBoSvOFnTrpadGOQ8E5npdTFYQwABBBBAAIH3LOA0M9k7b6/NjwsSjwiYseNBz6Sini51WS5tyh4ZLBRGTznyqFn398xkvrkmJz6w59rc4OeZfP+Zt+lOo9xqt9nN9/ZOTgkX+/stOFTVomzvn5nMN9fmvbw2R2Z6z8cGzSOAAAIIIIDAawHnmcnSdnRxWoS/QBQ7tbDquf7VPW2Gu99PTQj29vLOXX2rocNiaT/ePZ/Jd+qWnvlMVtm5RRkj/YeSmXw+Sy/4o77dbLfZjXe25CaGCgNClp6oblM7MlN0oJfPF5srGxQ2u90qO78kO9a/Zz4Tmel1GVlDAAEEEEAAgfcs4DwzWe1NRcvHxAQIxcLEObtvPVV3Wu12Y8uVbTNiQ30EPoIJP1xrVHTaLZrTq8dFBwpEyXPP1LQYu2xN51eNGxUo9O6eA+44z9ReuHRcZICX7+RNZQ2Knuj1aj6TX86qq49lnRb9zZ1fxIdJBGGZe4ufqU3aM99mxAQJRElzTj94buiyNV9YnREbJPTungPuyEztx5dnRAd6+U7aWPpU/irOvWczmkcAAQQQQACBT0/AeWay2+2mZ4XLsyIDRAKBl9g/NDYuPjrYT+y4BU4Qmrf2zzq52Wa3d9lrj85NivQRCIWhCVkT8sbGhPhKRALBq8zUZb2xY0JcqEggCUjIzMvPz9t49klbU899cwKBUBQ0akxWekKYv7dQNCL8q90VUpW1y/7w2PzUaF9Hm/GZ+ePHjQzx62nTcd9cm9neZb25c1JCmKPN+Iy8vPy8jb8/bNO9urXv0ysnI0YAAQQQQACB9yQwpMxkt9v1jZd/WpzreI5lz6PAvcSB0ROX7ituUJtfnt6xaqp/XpodFdD9sHCJb+rMvbuXZ46MGuF41oDMcd3NVH922cQ4f0l3CwGhy07UtvZkJh9hzlcLsxKi/cRCgVAUlr3wRNlzXffTxa2aml+W50YHdn9H4psyc8+u5dmx0V4vMpOjzaLlk+IDvF+0ufT4g1Yy03s6VmgWAQQQQACBT1lgqJmpx6hT0/TkQdndkvIHdTJtZ9cAJ3Q6FdKaivK7tVLFgI/ztprkz2rKS0rLHzYpzRabredZA37/mPB9SUOzrL66orJWqjJa+jbcqWiqfdGm47pg/6W7zQpHm1KFaaAN+n+B1wgggAACCCCAwNsKvF1metvWnW3/Yj6T7z/yNxU77ptjQQABBBBAAAEE3FOAzOSedaFXCCCAAAIIIOBeAh85M6lvbVs4NSsjefHBqhYV55nc69igNwgggAACCCDwWuDjZqbX/WANAQQQQAABBBBwZwEykztXh74hgAACCCCAgLsIkJncpRL0AwEEEEAAAQTcWYDM5M7VoW8IIIAAAggg4C4CZCZ3qQT9QAABBBBAAAF3FiAzuXN16BsCCCCAAAIIuIsAmcldKkE/EEAAAQQQQMCdBchM7lwd+oYAAggggAAC7iJAZnKXStAPBBBAAAEEEHBnATKTO1eHviGAAAIIIICAuwiQmdylEvQDAQQQQAABBNxZgMzkztWhbwgggAACCCDgLgJkJnepBP1AAAEEEEAAAXcWIDO5c3XoGwIIIIAAAgi4iwCZyV0qQT8QQAABBBBAwJ0FyEzuXB36hgACCCCAAALuIkBmcpdK0A8EEEAAAQQQcGcBMpM7V4e+IYAAAggggIC7CJCZ3KUS9AMBBBBAAAEE3FmAzOTO1aFvCCCAAAIIIOAuAkPNTFar1WzuNJrM/CCAAAIIIIAAAm4j0Nlp6bLZPkSucp6ZbDabVqdvkyla2uX8IIAAAggggAAC7iYgV2o6Oy3vOzc5z0w6vbG9Q6nW6AwGo4kFAQQQQAABBBBwJwGdTt+hUCtVWktX13uNTU4yk81m61CqlGqN0UhgcqcDhL4ggAACCCCAwEsBrVYvV6oNRtPHzExWq1UmV2m0OiLTy7rwLwIIIIAAAgi4l4Beb1AoNTq9kczkXoWhNwgggAACCCDgVgLdmUmt0xvITG5VFzqDAAIIIIAAAu4lQGZyr3rQGwQQQAABBBBwTwEyk3vWhV4hgAACCCCAgHsJkJncqx70BgEEEEAAAQTcU4DM5J51oVcIIIAAAggg4F4CZCb3qge9QQABBBBAAAH3FHCjzKTXGz6AkVQqraur02g0H2Bf7AIBBBBAAAEEPEaAzOQxpWQgCCCAAAIIIPAeBchM7xGXphFAAAEEEEDAYwTITB5TSgaCAAIIIIAAAu9RwBMyk1Evf153r+RGZX2HWufMivlMzoT4HAEEEEAAAQQGEBjemckge1h85dSRA/v27d21Z9/F8maF06ndZKYBjgLeQgABBBBAAAFnAsM7Mxnl0vp6aYtc3VR25tjhSxVkJmf15nMEEEAAAQQQ+O8EhndmejlmQ0uFKzOT9vG5XaumZSREBPr4BIamzFh77n6zymAyGTvlt/d/PXfZgbOFPyydnBjuHxQ3tuBYaZNcbzKaNY8u7Vj15bjEyABf74DI+Okbf6tuVhhNJpNBe/3golmr9hYd3bZoSkpoUODI8YtOFDcodCaTwVB7ac+KmRnxkYE+Pv7hoyds+u1es+JDPHLhpRz/IoAAAggggMDQBMhMAzipSw5t+/Hg0aLrd8quFq7OTQ6ZsunPJ8/1JmNn+6W16QkJMaMiMues+GHbhpnpUaG5Sy89kGqNncrSY1t37z9adLWk5OaRbyfGxmVvuVLbqjOZ9OqiDTnxiTHRI8fMXb55+7o5Y2L9s1edrW7UmAz62ye27j546NzV4tKrv66cEh/zxbd/1TTrB+gTbyGAAAIIIIDARxUgMznh15VumZGQu6zwfoPyRWZKislf/3tNs9qoN5f8ND05Y+bh0rruE0ovWzKaNSW7Jo1NX1FYIVW8yExxKWM3nrnXojKadPd2zEoZM3/v3Scyx1moV4vefGvvtNQJC38te6rq88GrLVhBAAEEEEAAgY8nQGYawN7YqXxWXLhz1ZxpeVnjkiODxcmLjlS9ykyped9fqWlxnEAy3z/8r9GZX/1SWic3mkxGTf2dk9sL/vVFXva45KiAkMglR8sbX2amxBkFf9U0OU4g6R4f+HrM2AW7X2QmZeOtk7tW/mva+KyMpOgAv5S5x8vqlWSmAarCWwgggAACCHxUATJTf36jWfWgcF5OYubstT+fu3Xv/oU1k2OzljrLTHrdveOLMtLGzlm///zNyvvnvssdPXq508ykqj20NDsl68sNB87evlt7ZtOkxNwFZKb+FeE1AggggAAC7iBAZupfBb3p6rYJCTnzT1Y+c1wj05VvnZmYvcxZZtLc2TQtMXPx4XvPFI754GV7pqSPcZKZHneo72yfOHb00sNlDXKTSW+689OXqXlkpv4F4TUCCCCAAAJuITC8M5NRp5C1tba0PH906+ThX4pu1z6VtrS0tiu1hjde3XL6fCa96dqOiQkpGZvOVjW3NpWcXJuXEBzz1a67dTJjzxzwAa/NaYq/n5acMLHg/D1pe0NF4brJo6KDZu2+Xd9u6JkDPsC1uccd6uKdE8eMmrD29P0GWUPZqYKpCaHxk/bffNTBnXNu8ctBJxBAAAEEEOglMLwzk77u6vGf9+7su+w6equuVf2m2OE0MxnNmifnVk1OCPTxlki8ozO+Wf3N+NiIgMD8NdeqW1v+WJs+YGbSGx6dW5efGOztLRH7h+XM/3ZhXnx4mChv3aXaBkXRhpwBMtMTmVHz7PR3U+JDfLy9RX7RY79Z+e/cxMiAsLRNf9x/ru1VJFYRQAABBBBA4KMLDO/M9F/wOc1MPW1q2h5XlVXUNso1eqNB1VB7r/ZZq1r3piDW/R2jWdNad6+ivLZRptEbjUpp9f3qZ62qwb9kMmlb6qrKK6qlMrXeYFI01VTVPG1Tad94nuy/GDJfQQABBBBAAIF3FyAzvbshLSCAAAIIIICA5wuQmTy/xowQAQQQQAABBN5dgMz07oa0gAACCCCAAAKeL0Bm8vwaM0IEEEAAAQQQeHcBMtO7G9ICAggggAACCHi+AJnJ82vMCBFAAAEEEEDg3QXITO9uSAsIIIAAAggg4PkCbpSZNFqdkccSef4hxwgRQAABBBAYlgJkpmFZNjqNAAIIIIAAAh9YgMz0gcHZHQIIIIAAAggMSwEy07AsG51GAAEEEEAAgQ8s4EaZSc18pg9cfHaHAAIIIIAAAkMW6M5MGp3eaH+fy/8M3rjNZutQqJUqjZFJ4EOuHBsigAACCCCAwIcU0Gr1cqXaYDQNnmre8VMnmclut+sMxvYOpUqtNRgMRhYEEEAAAQQQQMCdBLQ6fYdcpVRru7q63jEVDf5155nJZrNp9YY2mbKlXc4PAggggAACCCDgZgIKhUrb2WkZPPG8+6fOM1PPPqxWa6fFYjZ38oMAAggggAACCLiNgMXS1WWz2d49EjltYaiZyWlDbIAAAggggAACCHiwAJnJg4vL0BBAAAEEEEDAZQJkJpdR0hACCCCAAAIIeLAAmcmDi8vQEEAAAQQQQMBlAmQml1HSEAIIIIAAAgh4sACZyYOLy9AQQAABBBBAwGUCZCaXUdIQAggggAACCHiwAJnJg4vL0BBAAAEEEEDAZQJkJpdR0hACCCCAAAIIeLAAmcmDi8vQEEAAAQQQQMBlAmQml1HSEAIIIIAAAgh4sACZyYOLy9AQQAABBBBAwGUCZCaXUdIQAggggAACCHiwAJnJg4vL0BBAAAEEEEDAZQJkJpdR0hACCCCAAAIIeLAAmcmDi8vQEEAAAQQQQMBlAmQml1HSEAIIIIAAAgh4sACZyYOLy9AQQAABBBBAwGUCZCaXUdIQAggggAACCHiwAJnJg4vL0BBAAAEEEEDAZQJkJpdR0hACCCCAAAIIeLAAmcmDi8vQEEAAAQQQQMBlAmQml1HSEAIIIIAAAgh4sACZyYOLy9AQQAABBBBAwGUCwyYz2Tof3/z1l/279py63aI02IYOYLPrpWXnfjt+saxRY+wa+vfYEgEEEEAAAQQQeC0wpMxks6nrbx7fvX7xgn/Nnffv1VsOXixvVJu63iK4vN7hf7tm0Z5ZlxET7CWZuK70aYd16M1Y5L8VZMYECSTZK/560tY59C++1y2NbZWXj25bu3jBvLnfrPzulz+q2jTmD+r5XkdH4wgggAACCHiegPPMZLU3Xd00ITFYIhS8XoLiNz18qviQHP91ZrJ2Vp1YOSkjMW/N8dpW7XvPJTa7suTAknlT1hY+aFEPtDebXfnw7LfTk4N9eoH6+OeuO/2w9W3On31IfPaFAAIIIIAAAs4zk6nih2kJwd5efomTCrbs3bdra8G8vLFzt91tUry+0GU1q9qljU2tGqPFOlBOsNvB3OPXAAAgAElEQVRtJlWbtKlVqX+5gcUgey5tateYLAOeM+pUtzc3t6tff/qmzGQ1KtuaGprbHbt+63JatB3N0uZ2rdkycK/tFo2s+Xm7ytg55LYtqqL1ebFRXtO2FT+TD9Sqza6oODA7PdI/PHHGko179u7496T4ED+hMGL83ltPVK9N33owfAEBBBBAAAEE3qOA08zU1fb7wnExfn6fTdle2azsGwJsdmPd5W1LJo4K8RE5Tpp4iUNHTd9w6mG73vFfv0X/xw/T0tNil/x0evviyXHBPiKhlzg8fv6uG8Vnts/JjPKVCAUiSfTEFWcftBu67Fb1tfVfZickTdn126GCWWPC/MQCkWTU5IJz1TJDl93+98xk1T448/2X4yIc7QgEPpFJc7dfqJMb+qcbi+HytplZKVEjZ2+raJB3aa5v/ConKW3ewRN7ln+ZFuonFgoF/vHZG08/6NA5vmrV3Ng0KzcxcfLOE7+snpse4e/oxshJK89Utem77FbZlfUzcxLiwuftrZAqbHab3Vy2b9aE0VHxOVuvPG7vaLj80zfpMQFiocDHPzQ8Iipm8rd/Pmztf9XN1iWtvH7vWbuu09GC5trm8SmhAv/Yb4setJneY61pGgEEEEAAAQT+ewGnmcluuLU2Py5I4hUwbu7PN55qTX0yibX9wpLsuMiRqeOnzJyanRDsJxH6ec/eV96ittotmt+/HRcd5CXxloh8Q2LjY0MDvB3RSuLr6y0JioiPjw72kYgEkv9LWXrqcavRqvxjeVZsgFDs6yvxD49LjI0I8BELRSNi5u6vatJY+2Umq73h3KqsuECRJChlwlezpmWODPYV+fl9tfu2VGnpw2HRFq3PHhXsJZmwtqReZlFeWpkbHyCUeEuE3kFRCfExwX7ejjCXMu/0g2aDzW5VXl41PiFQKPbp7kZCbERgdzeiZ+8tb1BbWs8uyY3z9/vfL7Z0n0ay2c13to1PCRP4x31bVNNUfHB2Tryv2DFKsW9AYHBQeP6qK7V/y0y9+2e1Pz29NCPOXxg+fs9tzjP1pmEdAQQQQAABdxJwnpmslurChalRfo6TOd7BY2avPV3+XP/6zEmnvK1d39npOAFlvr/9y6QQ389jFhx62KJ7mZkEgsDolafuy7TWhtOL02L8BaIRYZO/v1WvsOgrt89MDvXxkuStLX7aYenJTKIR/jkrrjyUmTvVf/4wOTZULAzP3Xe3QW3Snu09B9xctX1maqjf5ylLfq1tMdisnWUHZiVFSnxyC27UtfcJTQNnJi9x6qzjd5v0nZb7h+aPjvYVBMSvv/hQZrLbejKTaIR/9rKL1a0ms+avbVMTwiTCsJw9t+vlzW/OTOeq2432rubTi3Jj/fw/f+O1ub7Vt7ReXTc9Odh3ROz8gxWNmr7n8fpuyisEEEAAAQQQ+IgCzjOT3W7v0tw79d2UlBAfsWMWuDBk1MIDt1vU3beg2boUT+9eOL5v+/fr16z8Ji8pxNd7ROisvdXNGtuL80wC8dhFlx63mW32zur9U1MjJL6fT9tZ3qy02rs6L36XOTJEIM5afq2+3dyTmXw+S19z+Wl7p91mN9z5IScxRBgQvvxkTbta0yszyc1PC+eMi/YRi0ZlzZz39ZIlS5Z+MzUtLNBbFDu9sEaq6w06YGby/r+UJadqnxscF9dKd0xICRP6R604/aDN8DIz+Xw2ruDC41azoxvFW/NTwoQBYUsL7zfXvX1msurq7l49//tvjuXUySsVTeqX1w+t8nt7vk6P8Bf6pc07frdJx2Sm3oVjHQEEEEAAAbcSGFJm6u5xl6r+8sHlObGB3iKBMCxj16NGdZfq5t7ZKRG+jmtbfsFRMSPDA7zF4hGhs/dUN6tfZiYvyYT1ZQ1yq91uefTzjLRIb3/fBYceOO5gs9iubM4aFSoQZy6/+ioz+f4zb9OdRrnVkWaqfpqSEiH291twqKpF2Sczmap++mJ0hLjXnWc99/SJYiYfrm7U9iYeMDP5/nP8d9eeyrq6JyTtnpgaLgqIWnHqQZv+ZWZybHD9xQb3908fEyX29533n/LGx/0zk/H2lu7ZSHHfvuk8k+XZocWZ0X7dHfT+bOzKs7UtjllLVuX9/YszIwOEfqkzf77xTG3u3WnWEUAAAQQQQMDNBIaemRwdt9lVd3dOTAyV+HvNqn3YWHd4Zlqkt0SQ+s2hCqnO0tl86Ou0CP+/ZaZJ68v7ZCa/wTKTz2fpBX/UtztO8BjvbMlNDBUGhCw9Ud3W7zzTk8OzxkZ5+4vn/FTe0NH5arFYLDZb3wtcb8hMed/dfCrrTmZlA2Umn8/Grjz3qPs8k7Fke/eJqJBFx+411RV1z2f6f5N+KH7WYbNb7W0Xv81MCHLMZ3pTZuqSXT+8eeW/5zmWhXM3FZY3KyxW5YP9i7MjA0VB6fOPFUu17vLYKDc7OukOAggggAAC7iPgNDNZnv155MT50jq5ydJ9k1fFrklJYRJ/73m1jxtKtmcnhAr9/b8+Ut2mtdsUf63Kiw2QvFtmEo3wy1l19bGs06K/udMxkUgQlrmn+Fn/+UyGu5unJof4jIia+WNpw4s79K0mWXObzmTuM0vd/t9lJtEIv+wVl2vbzBbD7d0zkiIkgtCMH2/WyTsur8xLCJR8Hvf14ftNOltnx9kN+bHBoleZydp6dnFunL/v/+VvulYvG/him1X14MCS7MhAYVD6wiPXa5tlip5Fozd3veFRDe5zwNATBBBAAAEEPlEBJ5nJZjdX7p6QFCYW+4SNTBqdmhjuuPfNS5z41cm6Vk3Tr/PGRvuKvIKSJy1cvOTLzJhgP8edbv2vzb3VeSahQCAUBY0ak5WeEObvLRSNCJ+5q1yq+tt9c7bHvy0eO9JfKJREjftiwaJli+fPSE/wz193pa6970mb/y4z9XRjZFrWuATHkEVe4V/uKHmmtFoaflmUEeUnEEiCEjLyx4+NC/H3FgkELzKTyW43lW2ZMTpU4iUOGpWRm5czfVVRdZO+95mvLvvtPdOTIx1f6rNI/jdt2e/VzTxs4BP9TWTYCCCAAALuLuAkM9ntXQ3nV09PcTxcqed/eJEkMnv2wesNGpPN3qUvO7xwTLSf4/9/oSgqv+D4f5aNSwiO6Def6a0yk48w56uFWQnRfmKhQCgKy154vOy5zjLQ85ksqvJfN0xJDe2ZmS4QCEQhoXP3FjcN5VkDvv90dm1OlD1zflbSSD9Jdzcy5x8t6b6CZrOrq39dOjEuoPuhUKKQUXO37l6Slxwe0n1tzmS3W61Pzq+bmNzz2HQvceKcE5XSPpnJYru6fVJieJ+85HhBZnL33xX6hwACCCDwaQs4zUzdPF2a9mfVFSV3SspqG+SGPg/Ftuna6u6VlVY8bNY4rt7998uL5zP5/WPC9yUNzbL66orKWqnS2P0Ug0Fa7VQ3Pam6W1JcVvW4VW1+97+B9+L5TL7/yN94q04qe1pTWVnTqOw7ZrtZJX14r7z8gbQfxot+2kxyaU1laWlFdZP8LR4hPsgo+QgBBBBAAAEEPrLA0DLTh+jki8zk+4/8TcWO++Y+0vIyM/0zb8MNxyRxFgQQQAABBBBAwG63k5n6HQZkpn4gvEQAAQQQQAABh4AbZSb1re0Lp2ZlJC8+WNWi+mgneKzqOz8ump6dnrxof3mT4qN1g6MTAQQQQAABBNxLwH0yk3u50BsEEEAAAQQQQKC3AJmptwbrCCCAAAIIIIDAwAJkpoFdeBcBBBBAAAEEEOgtQGbqrcE6AggggAACCCAwsACZaWAX3kUAAQQQQAABBHoLkJl6a7COAAIIIIAAAggMLEBmGtiFdxFAAAEEEEAAgd4CZKbeGqwjgAACCCCAAAIDC5CZBnbhXQQQQAABBBBAoLcAmam3BusIIIAAAggggMDAAmSmgV14FwEEEEAAAQQQ6C1AZuqtwToCCCCAAAIIIDCwAJlpYBfeRQABBBBAAAEEeguQmXprsI4AAggggAACCAwsQGYa2IV3EUAAAQQQQACB3gJkpt4arCOAAAIIIIAAAgMLkJkGduFdBBBAAAEEEECgtwCZqbcG6wgggAACCCCAwMACZKaBXXgXAQQQQAABBBDoLUBm6q3BOgIIIIAAAgggMLDAUDOT1WazdHV1dlr4QQABBBBAAAEE3ETA0tnV1WW12WwDxxyXvus8M9lsNp3B2NahbGmX84MAAggggAACCLiVQKtMoVRrLZYulwakARpznpn0BlNbh1Kp0uj1BoPRyA8CCCCAAAIIIOAmAnqjUaPVyeRKpVrb1WUdIOm47i0nmclms3Uo1EqVxmg0mlgQQAABBBBAAAH3E9Bq9XKl2mA0uS4gDdCSk8xktVplcpVaqyMzud8RQo8QQAABBBBAwCGg1+sVSrVObxwg6bjurSFlJo0jM1EVBBBAAAEEEEDAHQX0ekN3ZjK4LiAN0BKZyR1rT58QQAABBBBAYOgCZKahW7ElAggggAACCHy6AmSmT7f2jBwBBBBAAAEEhi5AZhq6FVsigAACCCCAwKcrQGb6dGvPyBFAAAEEEEBg6AJkpqFbsSUCCCCAAAIIfLoCbpSZ9HrDB6iDVCqtq6vTaDQfYF/sAgEEEEAAAQQ8RoDM5DGlZCAIIIAAAggg8B4FyEzvEZemEUAAAQQQQMBjBMhM/UtpNGtan1RVVkvlan3/z3iNAAIIIIAAAp+qgCdkJqNe/rzuXsmNyvoOtc5ZIZ3OZzKYG04vTRs9ZdftR+0fYoKVsw7zOQIIIIAAAgi4g8DwzkwG2cPiK6eOHNi3b++uPfsuljcrnE7tJjO5w2FHHxBAAAEEEBh2AsM7Mxnl0vp6aYtc3VR25tjhSxVkpmF3ANJhBBBAAAEEhonA8M5ML5ENLRUuzkypU7b+enDt1+NHhgWEp03cfLqqRdF9oU775NzuVdMyEiMCfXwCQ1Omry2qalYZTCaD9vrBRbNW7T13dNuiKcmhgYEjxy/6taRRoTOZjGbNo8s7C2aOS4wM8PUOiIyb/t3J6qbu5lTFe5Z/WbDr/JGtyyemhgeEROQsP1TW0OGYR6V9cmHP6umZiRFBvj6BIcnT1pyplCq5Vviy4vyLAAIIIIDAhxYgM/UX757PNDouYdTY7BV7Tv559fzmOaMj0mYdvfvUEVnUJYe27TpwtOj6nbKrx9eMTw6ZsvHK4+c6k15dtCE7PiEmeuSYucs3b183J22Uf3ZBUY1UYzKalaWFW3fvP1p0taTk5tFvJ8XGZW+5XNOqM5nklwvyExNiomPSZ63ctHPtnPSo6JRvz95rVptMmtIjO3YdOHL2mmNHa/NTQydv+ONhk9PpWv1Hw2sEEEAAAQQQcI0Amam/Y09mSkpdWlgmVRhMxk7FzR/Gp8XNP3D3WYexz8a60i0zEnOXFVY1KHsyU1zKuI1nqlpURpPu3o5ZKWPm/1ReJ+vzHaNZU7J70rj0FcfKGxXG7syUEJ9fcO5ek9pg1lbum5aRtGDfnfq+XzLp7m6flTJ+6eGKp4o+HeAFAggggAACCHwwATJTf+r+982Z9Y+OzcmMmPrdjSfPDY6TRs+KC3eumjMtLys9OTJYnLToSNUzRU9mSphRcLWmyXFlTfd4/8K0sQv2lD3pjj9GTX3xye0F//oiL3tcclRASOSSw2WN8u7zTBNjp679o7ZJZzaZdQ+PzMlJXrD3Tn27sXtHJcd3Fczt2VGIJOmbXyrqyUz9y8VrBBBAAAEEPpAAmak/9N8yk+7h4VmZEdM333ry3KR6cHx+blLm7LU/F926d//CmslxWUsPO8lMBt2944sy0sbOWbfv/M3K++c2jk8bvWzwzNRmVlWf+DovOXPWmv+cvVl5/+LaqQlZS34mM/UvFq8RQAABBBD4YAJkpv7U/TKT0dT+54bs1NHLjldKZaZr2ycl5sz/teKZymgy6cq3fZWUvczZeSbtnU3TEzMXH6p8qnDMBy/b80X6mOVHBj3P9Nx4fecXybnzjt+tVzp2VLFjTmrOEs4z9a8VrxFAAAEEEPhwAsM7Mxl1Cllba0vL80e3Th7+peh27VNpS0tru1Jr6DOLqDfn0J7PNDoubMyCHX/WtCqkZT/OGz1q/OKiKqlGZ7q2c3JiasbGs1XNrU0lJ9fmJwbHfPVjaV27sXsO+MDX5rTFm6elJExcdb5S2t5YcXzdlNjo4Fm7b9W1GRzzmQa8NvfceGPX1OTU9A2/V0hbm0tPrZ+YFBIzc8edR21vHFfvMbKOAAIIIIAAAi4XGN6ZSV939fjPe3f2XXYdvVXXqn7TbflDy0zjJixcuTAnKSbY11von5C37XxNm8oxx0hTd65gSkKgj7dE4h2V8c3qb8bHRgQE5q+5VvX09/XZA2cmg+HRufUTkoK9vSVi/9Ds+WsW5ieEh4nGr7tU+/DCwJmpzaStu7BmalJQz47SFxZ8nR8fFRCQV3DlgZR751z+W0CDCCCAAAIIOBcY3pnJ+fj+toXTzPT6G4aOhuqKypqmDo2+9+kdTdvjqrKK2kbH2wZVQ+292metat2bMlp3c46/YVd3r6K8tlGm0RmNSmn1/epnrarBv2TStD25X15R09Ch1hkNqsaHVbVPW1TaQXf0uvOsIYAAAggggIBLBchMLuWkMQQQQAABBBDwUAEyk4cWlmEhgAACCCCAgEsFyEwu5aQxBBBAAAEEEPBQATKThxaWYSGAAAIIIICASwXITC7lpDEEEEAAAQQQ8FABMpOHFpZhIYAAAggggIBLBchMLuWkMQQQQAABBBDwUAEyk4cWlmEhgAACCCCAgEsFyEwu5aQxBBBAAAEEEPBQATKThxaWYSGAAAIIIICASwXITC7lpDEEEEAAAQQQ8FCBYZ6Z9B2NtaXXLxX9furU2QvXK+plal3vPw03QNHe4u/NDfBt3kIAAQQQQACBT1RgeGcmfevdS78XXbhy807xzcunfj7w04mrNW1K3WC1JDMNpsNnCCCAAAIIIPAGgeGdmUx6g95k7DmzZNBU/1X4n2PnH7TIBwtNZKY3HAm8jQACCCCAAAKDCQzzzNRraAZj3e1ffzl6tqql410zk/bxuV2rpmUkRAT6+ASGpsxYe+5+s8pgMhk75bf3fz132YGzhT8snZwY7h8UN7bgWGmTXN+rH6wigAACCCCAgCcKeExmMmoab5z+5ci50qYOzWBTmoZynkldcmjbjwePFl2/U3a1cHVucsiUTX8+ea43GTvbL61NT0iIGRWROWfFD9s2zEyPCs1deumBVOuJxwZjQgABBBBAAIHXAh6SmQyqJ7dOHz5WVP5UpjG8Ht0Aa0PJTL2/pivdMiMhd1nh/Qbli8yUFJO//veaZrVRby75aXpyxszDpXWKwWJa7+ZYRwABBBBAAIHhKeAJmcmgri8+e7TwTOmTNo3eWXgZSmYydiqfFRfuXDVnWl7WuOTIYHHyoiNVrzJTat73V2padCaT3nz/8L9GZ371S2md3Nluh+fRQa8RQAABBBBA4KXAsM9MRl1T5cVjx8/cfdKuGcq0IqeZyWhWPSicl5OYOXvtz+du3bt/Yc3k2KylZKaXRwz/IoAAAggg8GkKDO/MZDSpnt357eixK1VNCu3QTvU4zUx609VtExJy5p+sfKYymky68q0zE7OXkZk+zd8PRo0AAggggMBLgeGdmbRNt84cOnDi0v0nz563OJbWNrlGbxgsPQ0hM13bMTEhJWPT2arm1qaSk2vzEoJjvtp1t05m7JkDzrW5lwcP/yKAAAIIIPAJCQzrzGSQVZ0/enD3ztfLj/85867PGjCaNU/OrZqcEOjjLZF4R2d8s/qb8bERAYH5a65Vt7b8sTadzPQJ/X4wVAQQQAABBF4KDOvM9HIQb/Ov0/NMPY1p2h5XlVXUNso1eqNB1VB7r/ZZq1o3+C15b9MNtkUAAQQQQACB4SVAZhpe9aK3CCCAAAIIIPBxBMhMH8edvSKAAAIIIIDA8BIgMw2vetFbBBBAAAEEEPg4AmSmj+POXhFAAAEEEEBgeAmQmYZXvegtAggggAACCHwcATLTx3FnrwgggAACCCAwvATITMOrXvQWAQQQQAABBD6OgBtlJo1WZxzsCd4fB4i9IoAAAggggAACJpOJzMRhgAACCCCAAAIIOBcgMzk3YgsEEEAAAQQQQIDMxDGAAAIIIIAAAgg4F3CnzKTRGZnQ5LxkbIEAAggggAACH0FAp9fLlWqd3mh/n8v/OG1cqdLKFWq9nr+C+xEOAnaJAAIIIIAAAk4F1Bpth1JtNJmdppp32cB5ZurstMjkKplcpVJr1Rp+EEAAAQQQQAABtxFQa+VKdVuHUqPV22y2d4lETr/rPDPZ7XaLpUul0bV3qNo6FPwggAACCCCAAAJuI6B0XA0zmqzvOTDZ7fYhZSanyYsNEEAAAQQQQAABzxYgM3l2fRkdAggggAACCLhGgMzkGkdaQQABBBBAAAHPFiAzeXZ9GR0CCCCAAAIIuEaAzOQaR1pBAAEEEEAAAc8WIDN5dn0ZHQIIIIAAAgi4RoDM5BpHWkEAAQQQQAABzxYgM3l2fRkdAggggAACCLhGgMzkGkdaQQABBBBAAAHPFiAzeXZ9GR0CCCCAAAIIuEaAzOQaR1pBAAEEEEAAAc8WIDN5dn0ZHQIIIIAAAgi4RoDM5BpHWkEAAQQQQAABzxYgM3l2fRkdAggggAACCLhGgMzkGkdaQQABBBBAAAHPFiAzeXZ9GR0CCCCAAAIIuEaAzOQaR1pBAAEEEEAAAc8WIDN5dn0ZHQIIIIAAAgi4RoDM5BpHWkEAAQQQQAABzxYgM3l2fRkdAggggAACCLhGgMzkGkdaQQABBBBAAAHPFiAzeXZ9GR0CCCCAAAIIuEaAzOQaR1pBAAEEEEAAAc8WIDN5dn0ZHQIIIIAAAgi4RoDM5BpHWkEAAQQQQAABzxYYemayahpvnz24afWiefPmzF+0YvP+U+WNalOXZ/MwOgQQQAABBBBAoFtgSJnJam8vOzgvM8pXLBS8XrzEEckrCsvatZYhWlrVd3Yu/nL6ul/r2rS2IX7H2WZWdfGPS2fOWHf8cYvGVW062yefI4AAAggggMCnJzCUzGRp/G1BZpSvSCAMHDll0Ya9B3/e8/2/s+OCvUUCYXjK5kv1StMQ4Kz21gurxsUGBH2544FUNVC+6VS3Nze3q00W6xCa697Eam+9uDojLjBwxraqBuVAbQ61JbZDAAEEEEAAAQQGE3Cembost3ZOig0VC/zD/l14r13XHWhsdvW93V+khHmLP4+Zf6i2RWezyM9smDw2MTJ+4U8Pn6sd8cVSuuWrnKTYsGlbbkjbVY8v756dHuEnEQh9AsLCI6Lis7f9VS+XXV3/ZXZC0pRdvx0qmDUmzE8kEElGTVl9vkZm6LLbLYqijVPTkyLjF+ytaeqOWZa722aPT44Nm7r5akOb6vGVPXMzI7vb9O9uM2vrlSfyoQS4wUj4DAEEEEAAAQQQ+JuA88xkqdkxMynURyDOWnG9vqPz1ckcS+vhxWMi/AXilHlFda1Gi6xw6ZjIAC+/6VvvS7tP+VhufpsbH+TzWcaay09bSnbMTo/2E4mEAqHYLzAwKDhm7A9/1ne0XlyWFRsgFPv6SvzD4xJjwwN8xELRiJi5B6qaNFaL7PiK9KhAL79pW+419rR5a11+YpDPZ+mrL9Y1l/44NzPGv0+bmy8/7iAz/a3KvIEAAggggAAC7yrgPDPp/1qZFRsgHhExd//D59rX+7PYb+zIGxUqEoTlHnwo1QyemWRmu6XlyJKxkQFegb2uzVkV3ZlJNMI/Z8WVhzJzp/rKD5NiQ8TC8Nx9dxvU5kEzU5vZbmk9tswRqgK4Nve6MKwhgAACCCCAwHsQcJqZrOo/lmSM8hd/HrPg8KMW3esuWOzFe6bEhYkFwRk/1Tao3yUz+XyWvuby0/ZOu81uuL05JyFEGBC+4mRNu1p2YpDzTGSm18VgDQEEEEAAAQTes4DTzGTvvL02Py5IPCJgxo4HPZOKerrUZbm0KXtksFAYPeXIo2bd3zOT+eaanPjAnmtzg59n8v1n3qY7jXKr3WY339s7OSVc7O+34FBVi7K9f2Yy31yb9/LaHJnpPR8bNI8AAggggAACrwWcZyZL29HFaRH+AlHs1MKq5/pX97QZ7n4/NSHY28s7d/Wthg6Lpf1493wm36lbeuYzWWXnFmWM9B9KZvL5LL3gj/p2s91mN97ZkpsYKgwIWXqiuk3tyEzRgV4+X2yubFDY7Har7PyS7Fj/nvlMZKbXZWQNAQQQQAABBN6zgPPMZLU3FS0fExMgFAsT5+y+9VTdabXbjS1Xts2IDfUR+Agm/HCtUdFpt2hOrx4XHSgQJc89U9Ni7LI1nV81blSg0Lt7DrjjPFN74dJxkQFevpM3lTUoeqLXq/lMfjmrrj6WdVr0N3d+ER8mEYRl7i1+pjZpz3ybERMkECXNOf3guaHL1nxhdUZskNC7ew64IzO1H1+eER3o5TtpY+lT+as4957NaB4BBBBAAAEEPj0B55nJbrebnhUuz4oMEAkEXmL/0Ni4+OhgP7HjFjhBaN7aP+vkZpvd3mWvPTo3KdJHIBSGJmRNyBsbE+IrEQkErzJTl/XGjglxoSKBJCAhMy8/P2/j2SdtTT33zQkEQlHQqDFZ6Qlh/t5C0Yjwr3ZXSFXWLvvDY/NTo30dbcZn5o8fNzLEr6dNx31zbWZ7l/XmzkkJYY424zPy8vLzNv7+sE336ta+T6+cjBgBBBBAAAEE3pPAkDKT3W7XN17+aXGu4zmWPY8C9xIHRk9cuq+4QW1+eXrHqqn+eWl2VED3w8Ilvqkz9+5enjkyaoTjWQMyx3U3U/3ZZRPj/CXdLQSELjtR29qTmXyEOV8tzEqI9hMLBUJRWPbCE2XPdd1PF7dqan5Znhsd2P0diW/KzD27lmfHRnu9yEyONouWT4oP8H7R5tLjD1rJTO/pWKFZBBBAACxIDL8AAAvBSURBVAEEPmWBoWamHqNOTdOTB2V3S8of1Mm0nV0DnNDpVEhrKsrv1koVAz7O22qSP6spLyktf9ikNFtstp5nDfj9Y8L3JQ3Nsvrqispaqcpo6dtwp6Kp9kWbjuuC/ZfuNiscbUoVpoE26P8FXiOAAAIIIIAAAm8r8HaZ6W1bd7b9i/lMvv/I31TsuG+OBQEEEEAAAQQQcE8BMpN71oVeIYAAAggggIB7CXzkzKS+tW3h1KyM5MUHq1pUnGdyr2OD3iCAAAIIIIDAa4GPm5le94M1BBBAAAEEEEDAnQXITO5cHfqGAAIIIIAAAu4iQGZyl0rQDwQQQAABBBBwZwEykztXh74hgAACCCCAgLsIkJncpRL0AwEEEEAAAQTcWYDM5M7VoW8IIIAAAggg4C4CZCZ3qQT9QAABBBBAAAF3FiAzuXN16BsCCCCAAAIIuIsAmcldKkE/EEAAAQQQQMCdBchM7lwd+oYAAggggAAC7iJAZnKXStAPBBBAAAEEEHBnATKTO1eHviGAAAIIIICAuwiQmdylEvQDAQQQQAABBNxZgMzkztWhbwgggAACCCDgLgJkJnepBP1AAAEEEEAAAXcWIDO5c3XoGwIIIIAAAgi4iwCZyV0qQT8QQAABBBBAwJ0FyEzuXB36hgACCCCAAALuIkBmcpdK0A8EEEAAAQQQcGcBMpM7V4e+IYAAAggggIC7CJCZ3KUS9AMBBBBAAAEE3FlgSJnJZrOZTGaNzqDW6vhBAAEEEEAAAQTcRkCv1xstli6bzfa+85bzzGS1WuUqTWu7Qtah6lDwgwACCCCAAAIIuI2AXNUmU8jkKoPR9L5jk/PMpNbqZR0qnc5gYkEAAQQQQAABBNxMwGA0KlQauVJj7rS811NNTjKTzWaTKVRqtdZoNLoZEd1BAAEEEEAAAQQcAjqdXq5U6wzGj5mZrFarTK7SaHVEJo5KBBBAAAEEEHBPAb3eoFCqdXoDmck9C0SvEEAAAQQQQMAtBMhMblEGOoEAAggggAACbi5AZnLzAtE9BBBAAAEEEHALATKTW5SBTiCAAAIIIICAmwuQmdy8QHQPAQQQQAABBNxCgMzkFmWgEwgggAACCCDg5gJulJn0+g/xQEupVFpXV6fRaNy8MHQPAQQQQAABBNxKgMzkVuWgMwgggAACCCDgpgJkJjctDN1CAAEEEEAAAbcSIDO5VTnoDAIIIIAAAgi4qQCZqX9hjGZN65OqymqpXK3v/xmvEUAAAQQQQOBTFfCEzGTUy5/X3Su5UVnfodY5K6TTOeAGc8PppWmjp+y6/aj9Q0xKd9ZhPkcAAQQQQAABdxAY3pnJIHtYfOXUkQP79u3dtWffxfJmhdPb4chM7nDY0QcEEEAAAQSGncDwzkxGubS+XtoiVzeVnTl2+FIFmWnYHYB0GAEEEEAAgWEiMLwz00tkQ0uFizNT6pStvx5c+/X4kWEB4WkTN5+ualF0X6jTPjm3e9W0jMSIQB+fwNCU6WuLqppVBpPJoL1+cNGsVXvPHd22aEpyaGDgyPGLfi1pVOhMJqNZ8+jyzoKZ4xIjA3y9AyLjpn938kFTd3Oq4j3LvyzYdf7I1uUTU8MDQiJylh8qa+hwzKPSPrmwZ/X0zMSIIF+fwJDkaWvOVEqVXCt8WXH+RQABBBBA4EMLkJn6i3fPZxodlzBqbPaKPSf/vHp+85zREWmzjt596ogs6pJD23YdOFp0/U7Z1eNrxieHTNl45fFznUmvLtqQHZ8QEz1yzNzlm7evm5M2yj+7oKhGqjEZzcrSwq279x8tulpScvPot5Ni47J/uFzTqjOZ5JcL8hMTYqJj0met3LRz7Zz0qOiUb8/ea1abTJrSIzt2HThy9ppjR2vzU0Mnb/jjYZPT6Vr9R8NrBBBAAAEEEHCNAJmpv2NPZkpKXVpYJlUYTMZOxc0fxqfFzT9w91mHsc/GutItMxJzlxVWNSh7MlNcyriNZ6paVEaT7t6OWSlj5v9UXifr8x2jWfP/27v/nybuOI7j+6M2YYs4nENGhpYiMOSrgKigy0SmgETUbXYEdC7+ICLqXDIcznUzi1F0W2ZkygCF8kUoSPlWhLbQb9drrzXRLoUfhIotiWdDL8+mP/Ro7/25z+MNySt3nytdF3Ztz/r6Ws+UTVrITKqtRZrWvmmnx+fS/VCara683DG2fCev+KihbFvBsRbduG3ZAbCBAAIIIIAAAhETIDMFUwffN+dzj1wrz0ko/e7+6IwncNJoovPXxhPlewtzs1I3x69TH7naP2FbzEyqzzX3hqYDV9bEJz9WZWRWXuweXYg/kjDWeb1Bc7CkMG97amLcxs01Ld1T1oXzTMXJpXV/6adFn9cnDl89kJ9aealjzCItDNSlbdJ8uTjQxhh19RXdGJkpuF1sI4AAAgggECEBMlMw9CuZSRxuKctJ2HemfXTG63isrdihzjlQ13yrvW/gTu3uLbnHWsJkJo/Ypz2SnZFZXn/59oPegdbTBRnpx0NnJrPPMfjb4cLUnLLan24+6B34s65UlXu0mcwU3Cy2EUAAAQQQiJgAmSmYOigzSV7L3VN5aenHtb3GOW9bw66U/IrfdRMOyesVe87uV+cdD3eeydXx/b6UnJqfe8dtgfXg3RdLsjO/uhryPNOM9G9jSeqOQ9pHY/bAQLpz5Wn5RznPFNwrthFAAAEEEIicQHRnJkm0zZlNs7MzI+3XW67c+k8/bpydNVnsLs+yVURLOVf3/UzpWzZ9Vnnu7pDJZuw+fyj904KaW/1GQfS2Ne5OScs+fbP/qWm663pdUUp80v7zDw0WaWEN+MrX5lydZ/ZuUxWfuN1rtEzptPV7kj+JL7vQbjB7AuuZVrw2NyPdbypNTcs6dUNnND19+MfJYvXGpC/OdYyYXzuvpXPkNQIIIIAAAgjILhDdmcltuKdtvtS4/NH0S7vB5Hzdbfmry0zbd1Z9U5WvTor/IPbd9arCs7eHzI7AGiPB0KrZo9rwfmxMTGxidvW31QXJCXEbimrb+sdvnMxbOTN5PCOtJ3eq42NjY9at/yivoraqSPXxpvcK6v/WD99ZOTOZvS7DndpS9YeLA2VVaQ4XbU2MiyvU/PPYyL1zsv8VUBABBBBAAIHwAtGdmcLP75VPhM1ML/fwzE8O6nqHpucF99LTO4L5SX+3Tj8V+LHHManv00+YnOLrMtpCucD/sDP06Xr0U3OCKEn26aGBwQmTI/ROXsE8OtCjG5qcd4qSxzE13K8fn3W4Qg708uB5hQACCCCAAAKyCpCZZOWkGAIIIIAAAggoVIDMpNDGMi0EEEAAAQQQkFWAzCQrJ8UQQAABBBBAQKECZCaFNpZpIYAAAggggICsAmQmWTkphgACCCCAAAIKFSAzKbSxTAsBBBBAAAEEZBUgM8nKSTEEEEAAAQQQUKjAGspMgkuUln4PkkLFmRYCCCCAAAIIRKMAmSkau8YxI4AAAggggECkBchMkRZnPAQQQAABBBCIRgEyUzR2jWNGAAEEEEAAgUgLrKHM5AysZ2JBU6R/AxgPAQQQQAABBFYjILrdVrtTdEv+t/l4J3TxFy9e2OyC1S54PGSm1XSNzyCAAAIIIIBApAWcgmi1OSWvL3SqecN3w2Qmv9/v8z2zzDusNocgiC7RzRMBBBBAAAEEEFgrAi633SFY5u1OQXz+/PkbpqLQu4fPTH6//5nvmdUhmCy2WYuVJwIIIIAAAgggsHYELPN20S297cDk9/tXlZlCxy7eRQABBBBAAAEEFC9AZlJ8i5kgAggggAACCMggQGaSAZESCCCAAAIIIKB4ATKT4lvMBBFAAAEEEEBABgEykwyIlEAAAQQQQAABxQuQmRTfYiaIAAIIIIAAAjIIkJlkQKQEAggggAACCChegMyk+BYzQQQQQAABBBCQQYDMJAMiJRBAAAEEEEBA8QJkJsW3mAkigAACCCCAgAwCZCYZECmBAAIIIIAAAooXIDMpvsVMEAEEEEAAAQRkECAzyYBICQQQQAABBBBQvMD/g+swzDo7nywAAAAASUVORK5CYII=)"
      ],
      "metadata": {
        "id": "jAVojwIPzZG0"
      }
    },
    {
      "cell_type": "code",
      "source": [
        "def del_char(s,c):\n",
        "  new_word=\"\"\n",
        "  for i in s:\n",
        "    if i!=c:\n",
        "      new_word+=i\n",
        "  return new_word"
      ],
      "metadata": {
        "id": "gvNWSoxVzfLk"
      },
      "execution_count": 11,
      "outputs": []
    },
    {
      "cell_type": "markdown",
      "source": [
        "Public Test Cases:"
      ],
      "metadata": {
        "id": "7_drNloL0gN-"
      }
    },
    {
      "cell_type": "code",
      "source": [
        "print(del_char('banana','b'))\n",
        "print(del_char('banana','an'))\n",
        "print(del_char('data structure','u'))"
      ],
      "metadata": {
        "colab": {
          "base_uri": "https://localhost:8080/"
        },
        "id": "rYKMHuD-zoHd",
        "outputId": "d14129a8-6b7b-491f-8b04-bc6196f28fbf"
      },
      "execution_count": 12,
      "outputs": [
        {
          "output_type": "stream",
          "name": "stdout",
          "text": [
            "anana\n",
            "banana\n",
            "data strctre\n"
          ]
        }
      ]
    },
    {
      "cell_type": "markdown",
      "source": [
        "## Problem-3\n",
        "\n",
        "Write a function shuffle(l1,l2) that takes two lists, l1 and l2 as input, and returns a list consisting of the first element in l1, then the first element in l2, then the second element in l1, then the second element in l2, and so on. If the two lists are not of equal length, the remaining elements of the longer list are appended at the end of the shuffled output.\n",
        "\n",
        "\n",
        "**Sample Input**\n",
        "\n",
        "[0,2,4]\n",
        "\n",
        "[1,3,5]\n",
        "\n",
        "\n",
        "**Output**\n",
        "\n",
        "[0, 1, 2, 3, 4, 5]\n",
        "\n",
        "\n",
        "**Sample Input**\n",
        "\n",
        "[0,2,4]\n",
        "\n",
        "[1]\n",
        "\n",
        "\n",
        "**Output**\n",
        "\n",
        "[0, 1, 2, 4]"
      ],
      "metadata": {
        "id": "170iXlYwwFgV"
      }
    },
    {
      "cell_type": "code",
      "source": [
        "def shuffle(L1,L2):\n",
        "  shuffled_list=[]\n",
        "  size=min(len(L1),len(L2))\n",
        "  for i in range(size):\n",
        "    shuffled_list.append(L1[i])\n",
        "    shuffled_list.append(L2[i])\n",
        "  if len(L1)>len(L2):\n",
        "    shuffled_list+=L1[size:]\n",
        "  elif len(L2)>len(L1):\n",
        "    shuffled_list+=L2[size:]\n",
        "  return shuffled_list"
      ],
      "metadata": {
        "id": "SvokWaNawMCn"
      },
      "execution_count": 7,
      "outputs": []
    },
    {
      "cell_type": "code",
      "source": [
        "print(shuffle([0,2,4],[1,3,5]))\n",
        "print(shuffle([0,2,4],[1]))\n",
        "print(shuffle([0],[1,3,5]))"
      ],
      "metadata": {
        "colab": {
          "base_uri": "https://localhost:8080/"
        },
        "id": "BfXbmHxIwNwl",
        "outputId": "31dee26b-702a-47a6-959a-42d8290a44e5"
      },
      "execution_count": 8,
      "outputs": [
        {
          "output_type": "stream",
          "name": "stdout",
          "text": [
            "[0, 1, 2, 3, 4, 5]\n",
            "[0, 1, 2, 4]\n",
            "[0, 1, 3, 5]\n"
          ]
        }
      ]
    },
    {
      "cell_type": "markdown",
      "source": [
        "## Problem-4\n",
        "\n",
        "![image.png](data:image/png;base64,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)"
      ],
      "metadata": {
        "id": "MUmWigd0pZTm"
      }
    },
    {
      "cell_type": "code",
      "source": [
        "def expanding(L):\n",
        "  prev_diff=0\n",
        "  for i in range(1,len(L)):\n",
        "    diff=abs(L[i]-L[i-1])\n",
        "    if diff>prev_diff:\n",
        "      prev_diff=diff\n",
        "    else:\n",
        "      return False\n",
        "  return True"
      ],
      "metadata": {
        "id": "20pTTyiXpWzI"
      },
      "execution_count": 3,
      "outputs": []
    },
    {
      "cell_type": "markdown",
      "source": [
        "Public Test Cases:"
      ],
      "metadata": {
        "id": "xxeSifjTqL1f"
      }
    },
    {
      "cell_type": "code",
      "source": [
        "print(expanding([1,3,7,2,9]))\n",
        "print(expanding([1,3,7,2,-3]))\n",
        "print(expanding([1,3,7,10]))"
      ],
      "metadata": {
        "colab": {
          "base_uri": "https://localhost:8080/"
        },
        "id": "0_lga5SdqBiq",
        "outputId": "eea3a089-c2bf-4886-d9ab-7698ddf1b7da"
      },
      "execution_count": 4,
      "outputs": [
        {
          "output_type": "stream",
          "name": "stdout",
          "text": [
            "True\n",
            "False\n",
            "False\n"
          ]
        }
      ]
    },
    {
      "cell_type": "markdown",
      "source": [
        "## Problem-5\n",
        "![image.png](data:image/png;base64,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)"
      ],
      "metadata": {
        "id": "TJ5Jf2RssFtR"
      }
    },
    {
      "cell_type": "code",
      "source": [
        "def sumsquare(L):\n",
        "  odd=0\n",
        "  even=0\n",
        "  for i in L:\n",
        "    if i%2==0:\n",
        "      even+=i**2\n",
        "    else:\n",
        "      odd+=i**2\n",
        "  return [odd,even]"
      ],
      "metadata": {
        "id": "ptvL6q_3qXxZ"
      },
      "execution_count": 5,
      "outputs": []
    },
    {
      "cell_type": "markdown",
      "source": [
        "Public Test Cases:"
      ],
      "metadata": {
        "id": "PSRvSXPEsik2"
      }
    },
    {
      "cell_type": "code",
      "source": [
        "print(sumsquare([1,3,5]))\n",
        "print(sumsquare([-1,-2,3,7]))\n",
        "print(sumsquare([2,4,6]))"
      ],
      "metadata": {
        "colab": {
          "base_uri": "https://localhost:8080/"
        },
        "id": "KE7uqQDJsgvJ",
        "outputId": "f3d33924-019a-4ce9-c121-25929c417414"
      },
      "execution_count": 6,
      "outputs": [
        {
          "output_type": "stream",
          "name": "stdout",
          "text": [
            "[35, 0]\n",
            "[59, 4]\n",
            "[0, 56]\n"
          ]
        }
      ]
    },
    {
      "cell_type": "code",
      "source": [],
      "metadata": {
        "id": "UgWC0nhiszN6"
      },
      "execution_count": null,
      "outputs": []
    }
  ],
  "metadata": {
    "colab": {
      "collapsed_sections": [
        "dohlEiwBR9lp",
        "xiCFNFKATmIr",
        "fE9cyuBITwh-",
        "q6Wj_zpZfjVf",
        "dlo97CSxrxZb",
        "cJNBesIKdH1F"
      ],
      "toc_visible": true,
      "provenance": [],
      "authorship_tag": "ABX9TyMNwOTPKwl0mryRICE06fO6",
      "include_colab_link": true
    },
    "kernelspec": {
      "display_name": "Python 3",
      "name": "python3"
    },
    "language_info": {
      "name": "python"
    }
  },
  "nbformat": 4,
  "nbformat_minor": 0
}
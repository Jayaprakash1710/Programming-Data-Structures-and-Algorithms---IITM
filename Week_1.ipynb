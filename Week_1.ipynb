{
  "cells": [
    {
      "cell_type": "markdown",
      "metadata": {
        "id": "view-in-github",
        "colab_type": "text"
      },
      "source": [
        "<a href=\"https://colab.research.google.com/github/Jayaprakash1710/Programming-Data-Structures-and-Algorithms---IITM/blob/main/Week_1.ipynb\" target=\"_parent\"><img src=\"https://colab.research.google.com/assets/colab-badge.svg\" alt=\"Open In Colab\"/></a>"
      ]
    },
    {
      "cell_type": "markdown",
      "metadata": {
        "id": "-J7DjwDFO_6m"
      },
      "source": [
        "# Lecture-1: Intro to jupyter noteboook and colab"
      ]
    },
    {
      "cell_type": "markdown",
      "metadata": {
        "id": "xqySJ_FUQ1MP"
      },
      "source": [
        "www.kaggle.org - Kaggle link\n",
        "\n",
        "www.markdownguide.org - Jupyter notebook guide"
      ]
    },
    {
      "cell_type": "markdown",
      "metadata": {
        "id": "dohlEiwBR9lp"
      },
      "source": [
        "# Lecture-2: Implementation of Python codes -1"
      ]
    },
    {
      "cell_type": "markdown",
      "metadata": {
        "id": "iO0tbxbqW2in"
      },
      "source": [
        "## Compute primes from 1 to 100"
      ]
    },
    {
      "cell_type": "code",
      "execution_count": null,
      "metadata": {
        "id": "NNZGGwX5K8De"
      },
      "outputs": [],
      "source": [
        "def factors(n):\n",
        "  factorslist=[]\n",
        "  for i in range(1,n+1):\n",
        "    if n%i==0:\n",
        "      factorslist.append(i)\n",
        "  return factorslist"
      ]
    },
    {
      "cell_type": "code",
      "execution_count": null,
      "metadata": {
        "id": "AIfPcMVGXnBI"
      },
      "outputs": [],
      "source": [
        "def prime(n):\n",
        "  return factors(n)==[1,n]"
      ]
    },
    {
      "cell_type": "code",
      "execution_count": null,
      "metadata": {
        "id": "d3942Ej5Xmp2"
      },
      "outputs": [],
      "source": [
        "primelist=[]\n",
        "for i in range(1,100):\n",
        "  if prime(i):\n",
        "    primelist.append(i)"
      ]
    },
    {
      "cell_type": "code",
      "execution_count": null,
      "metadata": {
        "id": "Z-Jbf9yIY0rP"
      },
      "outputs": [],
      "source": [
        "print(primelist)"
      ]
    },
    {
      "cell_type": "markdown",
      "metadata": {
        "id": "xJM2l4VCcjbQ"
      },
      "source": [
        "## Visualization:"
      ]
    },
    {
      "cell_type": "code",
      "execution_count": null,
      "metadata": {
        "id": "7VGGFL6qci_3"
      },
      "outputs": [],
      "source": [
        "import matplotlib.pyplot as plt\n",
        "import numpy as np\n",
        "\n",
        "t=np.arange(0.0,2.0,0.01)\n",
        "s=1+np.cos(2*np.pi*t)\n",
        "\n",
        "plt.plot(t,s)\n",
        "plt.show()"
      ]
    },
    {
      "cell_type": "markdown",
      "metadata": {
        "id": "xiCFNFKATmIr"
      },
      "source": [
        "# Lecture-3: Python Recap - 1"
      ]
    },
    {
      "cell_type": "markdown",
      "metadata": {
        "id": "2zyDAr7DUzBf"
      },
      "source": [
        "## GCD of 2 numbers"
      ]
    },
    {
      "cell_type": "code",
      "execution_count": null,
      "metadata": {
        "id": "FQkG9RvFhgH2"
      },
      "outputs": [],
      "source": [
        "def gcd(m,n):\n",
        "  common_factors=[]\n",
        "  for i in range(1,min(m,n)+1):\n",
        "    if m%i==0 and n%i==0:\n",
        "      common_factors.append(i)\n",
        "  return common_factors[-1]"
      ]
    },
    {
      "cell_type": "code",
      "execution_count": null,
      "metadata": {
        "id": "l1niCd6qibvW"
      },
      "outputs": [],
      "source": [
        "print(gcd(18,25))\n",
        "print(gcd(12,24))"
      ]
    },
    {
      "cell_type": "markdown",
      "metadata": {
        "id": "U8ix-dMrjsBL"
      },
      "source": [
        "**Eliminating the need of list:**"
      ]
    },
    {
      "cell_type": "code",
      "execution_count": null,
      "metadata": {
        "id": "Sr5eE5uyjvgT"
      },
      "outputs": [],
      "source": [
        "def gcd(m,n):\n",
        "  for i in range(1,min(m,n)+1):\n",
        "    if m%i==0 and n%i==0:\n",
        "      most_recent_common_factor=i\n",
        "  return most_recent_common_factor"
      ]
    },
    {
      "cell_type": "code",
      "execution_count": null,
      "metadata": {
        "id": "6rAb9Sk9jvSG"
      },
      "outputs": [],
      "source": [
        "print(gcd(18,25))\n",
        "print(gcd(12,24))"
      ]
    },
    {
      "cell_type": "markdown",
      "metadata": {
        "id": "fE9cyuBITwh-"
      },
      "source": [
        "#Lecture-4: Python Recap - 2"
      ]
    },
    {
      "cell_type": "markdown",
      "metadata": {
        "id": "hToRHXKBmTj-"
      },
      "source": [
        "Refer lecture-2 codes for prime number"
      ]
    },
    {
      "cell_type": "markdown",
      "metadata": {
        "id": "2dLri0Mfm8ul"
      },
      "source": [
        "## firstprimes:"
      ]
    },
    {
      "cell_type": "code",
      "execution_count": null,
      "metadata": {
        "id": "04ebkFiGT4Sw"
      },
      "outputs": [],
      "source": [
        "def firstprimes(m):\n",
        "  count=0\n",
        "  pl=[]\n",
        "  i=1\n",
        "  while count<m:\n",
        "    if prime(i):\n",
        "      pl.append(i)\n",
        "      count+=1\n",
        "    i+=1\n",
        "  return pl"
      ]
    },
    {
      "cell_type": "code",
      "execution_count": null,
      "metadata": {
        "id": "4aeMONpsfDfQ"
      },
      "outputs": [],
      "source": [
        "firstprimes(10)"
      ]
    },
    {
      "cell_type": "markdown",
      "metadata": {
        "id": "fHO8B8-toeFE"
      },
      "source": [
        "**Note:** In for loop we know advance the number of iterations we are going to run. We use while loop when we do not know the number of iterations."
      ]
    },
    {
      "cell_type": "markdown",
      "metadata": {
        "id": "OgzO-lr7plh0"
      },
      "source": [
        "**Direct check without finding factors:**"
      ]
    },
    {
      "cell_type": "code",
      "execution_count": null,
      "metadata": {
        "id": "mrMLg_FCpvc-"
      },
      "outputs": [],
      "source": [
        "def direct_prime_check(n):\n",
        "  result=True\n",
        "  for i in range(2,n):\n",
        "    if n%i==0:\n",
        "      result=False\n",
        "  return result"
      ]
    },
    {
      "cell_type": "code",
      "execution_count": null,
      "metadata": {
        "colab": {
          "base_uri": "https://localhost:8080/"
        },
        "id": "vbY1mgjopvO0",
        "outputId": "db2a1414-4a69-481f-fc78-0c7f8e445c92"
      },
      "outputs": [
        {
          "name": "stdout",
          "output_type": "stream",
          "text": [
            "True\n",
            "True\n",
            "False\n"
          ]
        }
      ],
      "source": [
        "print(direct_prime_check(2))\n",
        "print(direct_prime_check(23))\n",
        "print(direct_prime_check(60))"
      ]
    },
    {
      "cell_type": "markdown",
      "metadata": {
        "id": "_AzMIsRMqvgU"
      },
      "source": [
        "Unlike the above code the below code terminates immediately after a factor is found."
      ]
    },
    {
      "cell_type": "code",
      "execution_count": null,
      "metadata": {
        "id": "ue4G0kTepvDW"
      },
      "outputs": [],
      "source": [
        "def direct_prime_check_2(n):\n",
        "  for i in range(2,n):\n",
        "    if n%i==0:\n",
        "      return False\n",
        "  return True"
      ]
    },
    {
      "cell_type": "code",
      "execution_count": null,
      "metadata": {
        "colab": {
          "base_uri": "https://localhost:8080/"
        },
        "id": "okCFe5NwrBLf",
        "outputId": "b1bb0884-cbac-4580-bd2b-3831584e3b58"
      },
      "outputs": [
        {
          "name": "stdout",
          "output_type": "stream",
          "text": [
            "True\n",
            "True\n",
            "False\n"
          ]
        }
      ],
      "source": [
        "print(direct_prime_check_2(2))\n",
        "print(direct_prime_check_2(23))\n",
        "print(direct_prime_check_2(60))"
      ]
    },
    {
      "cell_type": "markdown",
      "metadata": {
        "id": "4AIkUHMy0fkB"
      },
      "source": [
        "Breaking in the middle may cause confusion. So we use while loop like below."
      ]
    },
    {
      "cell_type": "code",
      "execution_count": null,
      "metadata": {
        "id": "aESQjtqc0sIZ"
      },
      "outputs": [],
      "source": [
        "def direct_prime_check_3(n):\n",
        "  result = True\n",
        "  i=2\n",
        "  while result and (i<n):\n",
        "    if n%i==0:\n",
        "      result=False\n",
        "    i+=1\n",
        "  return result"
      ]
    },
    {
      "cell_type": "code",
      "execution_count": null,
      "metadata": {
        "colab": {
          "base_uri": "https://localhost:8080/"
        },
        "id": "ISGALQRq1KlK",
        "outputId": "8d38e71f-a68f-4493-9302-7d4b6ee57417"
      },
      "outputs": [
        {
          "name": "stdout",
          "output_type": "stream",
          "text": [
            "True\n",
            "True\n",
            "False\n"
          ]
        }
      ],
      "source": [
        "print(direct_prime_check_3(2))\n",
        "print(direct_prime_check_3(23))\n",
        "print(direct_prime_check_3(60))"
      ]
    },
    {
      "cell_type": "markdown",
      "metadata": {
        "id": "HoHodtgd3LrE"
      },
      "source": [
        "**Checking till only sqrt(n):**"
      ]
    },
    {
      "cell_type": "code",
      "execution_count": null,
      "metadata": {
        "id": "K2clG6fW3Z2S"
      },
      "outputs": [],
      "source": [
        "import math\n",
        "def direct_prime_check_4(n):\n",
        "  result=True\n",
        "  i=2\n",
        "  while (result and (i<math.sqrt(n))):\n",
        "    if n%i==0:\n",
        "      result=False\n",
        "    i+=1\n",
        "  return result"
      ]
    },
    {
      "cell_type": "code",
      "execution_count": null,
      "metadata": {
        "colab": {
          "base_uri": "https://localhost:8080/"
        },
        "id": "5Gumrjog3Zqy",
        "outputId": "3624fca0-1a26-4aec-fdf5-e80f4702b13b"
      },
      "outputs": [
        {
          "name": "stdout",
          "output_type": "stream",
          "text": [
            "True\n",
            "True\n",
            "True\n",
            "True\n",
            "False\n"
          ]
        }
      ],
      "source": [
        "print(direct_prime_check_4(2))\n",
        "print(direct_prime_check_4(3))\n",
        "print(direct_prime_check_4(23))\n",
        "print(direct_prime_check_4(49))\n",
        "print(direct_prime_check_4(60))"
      ]
    },
    {
      "cell_type": "code",
      "execution_count": null,
      "metadata": {
        "colab": {
          "base_uri": "https://localhost:8080/"
        },
        "id": "A2fJS7nc3Zfh",
        "outputId": "2b97fac9-fd6e-4bd6-c6c5-aaafdef6de6f"
      },
      "outputs": [
        {
          "name": "stdout",
          "output_type": "stream",
          "text": [
            "[1, 2, 3, 4, 5, 7, 9, 11, 13, 17, 19, 23, 25, 29, 31, 37, 41, 43, 47, 49, 53, 59, 61, 67, 71, 73, 79, 83, 89, 97]\n"
          ]
        }
      ],
      "source": [
        "prime_list=[]\n",
        "for i in range(1,101):\n",
        "  if direct_prime_check_4(i):\n",
        "    prime_list.append(i)\n",
        "print(prime_list)"
      ]
    },
    {
      "cell_type": "markdown",
      "metadata": {
        "id": "0JWaGFyp6Mb6"
      },
      "source": [
        "[2, 3, 5, 7, 11, 13, 17, 19, 23, 29, 31, 37, 41, 43, 47, 53, 59, 61, 67, 71, 73, 79, 83, 89, 97]"
      ]
    },
    {
      "cell_type": "markdown",
      "metadata": {
        "id": "HXuDQOy9Sizp"
      },
      "source": [
        "## Prime Difference:"
      ]
    },
    {
      "cell_type": "code",
      "execution_count": null,
      "metadata": {
        "id": "kmbYgGJVSoPa"
      },
      "outputs": [],
      "source": [
        "def primediffs(n):\n",
        "  lastprime=2\n",
        "  primediff_dict={}\n",
        "  for i in range(3,n+1):\n",
        "    if prime(i):\n",
        "      diff=i-lastprime\n",
        "      lastprime=i\n",
        "      if diff not in primediff_dict:\n",
        "        primediff_dict[diff]=0\n",
        "      primediff_dict[diff]+=1\n",
        "  return primediff_dict"
      ]
    },
    {
      "cell_type": "code",
      "execution_count": null,
      "metadata": {
        "colab": {
          "base_uri": "https://localhost:8080/"
        },
        "id": "JSRhpIvaUOUT",
        "outputId": "cf78f70f-7c85-41db-cb5a-5f65797a3f8f"
      },
      "outputs": [
        {
          "name": "stdout",
          "output_type": "stream",
          "text": [
            "{1: 1, 2: 8, 4: 7, 6: 7, 8: 1}\n",
            "{1: 1, 2: 24, 4: 25, 6: 24, 8: 7, 14: 3, 10: 7, 12: 3}\n",
            "{1: 1, 2: 35, 4: 40, 6: 44, 8: 15, 14: 7, 10: 16, 12: 7, 18: 1, 20: 1}\n"
          ]
        }
      ],
      "source": [
        "print(primediffs(100))\n",
        "print(primediffs(500))\n",
        "print(primediffs(1000))"
      ]
    },
    {
      "cell_type": "markdown",
      "metadata": {
        "id": "q6Wj_zpZfjVf"
      },
      "source": [
        "# Lecture-5: Python Recap-3"
      ]
    },
    {
      "cell_type": "markdown",
      "metadata": {
        "id": "Yzlc0yU6goe-"
      },
      "source": [
        "## Finding GCD using recursion:"
      ]
    },
    {
      "cell_type": "code",
      "execution_count": null,
      "metadata": {
        "id": "IVTRzCtNfn0v"
      },
      "outputs": [],
      "source": [
        "def rec_gcd(m,n):\n",
        "  a=max(m,n)\n",
        "  b=min(m,n)\n",
        "  if a%b==0:\n",
        "    return b\n",
        "  else:\n",
        "    return gcd(b,a-b)"
      ]
    },
    {
      "cell_type": "code",
      "execution_count": null,
      "metadata": {
        "colab": {
          "base_uri": "https://localhost:8080/"
        },
        "id": "jBgpMQi5fRRI",
        "outputId": "b3669178-212d-4fcb-80c4-eb8ba5509987"
      },
      "outputs": [
        {
          "name": "stdout",
          "output_type": "stream",
          "text": [
            "1\n",
            "1\n",
            "12\n",
            "1\n"
          ]
        }
      ],
      "source": [
        "print(rec_gcd(7,83))\n",
        "print(rec_gcd(18,25))\n",
        "print(rec_gcd(12,24))\n",
        "print(rec_gcd(2,97))"
      ]
    },
    {
      "cell_type": "markdown",
      "metadata": {
        "id": "7XxYpqVTjtsW"
      },
      "source": [
        "**Note:** The above code runs with the complexity of o(max(m,n)) which is worst than the normal approach."
      ]
    },
    {
      "cell_type": "markdown",
      "metadata": {
        "id": "IIM1xC02pHXo"
      },
      "source": [
        "## Euclid's algorithm:"
      ]
    },
    {
      "cell_type": "code",
      "execution_count": null,
      "metadata": {
        "id": "g1wB5oF8fbGH"
      },
      "outputs": [],
      "source": [
        "def euclid_gcd(m,n):\n",
        "  a,b=max(m,n),min(m,n)\n",
        "  if a%b==0:\n",
        "    return b\n",
        "  else:\n",
        "    return euclid_gcd(b,a%b)"
      ]
    },
    {
      "cell_type": "code",
      "execution_count": null,
      "metadata": {
        "colab": {
          "base_uri": "https://localhost:8080/"
        },
        "id": "UmCPViE1pn5m",
        "outputId": "8ba4c171-2701-4ee7-d460-99ec68477e96"
      },
      "outputs": [
        {
          "name": "stdout",
          "output_type": "stream",
          "text": [
            "1\n",
            "1\n",
            "12\n",
            "1\n"
          ]
        }
      ],
      "source": [
        "print(euclid_gcd(7,83))\n",
        "print(euclid_gcd(18,25))\n",
        "print(euclid_gcd(12,24))\n",
        "print(euclid_gcd(2,97))"
      ]
    },
    {
      "cell_type": "markdown",
      "metadata": {
        "id": "PUzfcofGp54Q"
      },
      "source": [
        "Euclid's algorithm runs with the time complexity of o(digits(max(m,n)))."
      ]
    },
    {
      "cell_type": "markdown",
      "metadata": {
        "id": "dlo97CSxrxZb"
      },
      "source": [
        "# Lecture-6: Exception handling\n",
        "\n",
        "Recovering Gracefully..."
      ]
    },
    {
      "cell_type": "markdown",
      "metadata": {
        "id": "8qyuYNSJ1VC5"
      },
      "source": [
        "## Assignment in Dictionary:"
      ]
    },
    {
      "cell_type": "code",
      "execution_count": null,
      "metadata": {
        "id": "No5vfoJPpyRl"
      },
      "outputs": [],
      "source": [
        "random_numbers=[1,2,3,1,5,9,8,4,1,8,8,9,2,4,7,6,0]\n",
        "nums_counts={}\n",
        "for nums in random_numbers:\n",
        "  try:\n",
        "    nums_counts[nums]+=1\n",
        "  except KeyError:\n",
        "    nums_counts[nums]=1"
      ]
    },
    {
      "cell_type": "code",
      "execution_count": null,
      "metadata": {
        "colab": {
          "base_uri": "https://localhost:8080/"
        },
        "id": "3YHwAUFj0h8S",
        "outputId": "20b5db71-cb1e-4982-a1a1-e856d9f85147"
      },
      "outputs": [
        {
          "name": "stdout",
          "output_type": "stream",
          "text": [
            "{1: 3, 2: 2, 3: 1, 5: 1, 9: 2, 8: 3, 4: 2, 7: 1, 6: 1, 0: 1}\n"
          ]
        }
      ],
      "source": [
        "print(nums_counts)"
      ]
    },
    {
      "cell_type": "markdown",
      "metadata": {
        "id": "wcVlF7La28sM"
      },
      "source": [
        "# Lecture-7: Classes and Objects"
      ]
    },
    {
      "cell_type": "markdown",
      "metadata": {
        "id": "LOIyG5hGdBpG"
      },
      "source": [
        "## **Finding distance(d):**"
      ]
    },
    {
      "cell_type": "code",
      "execution_count": null,
      "metadata": {
        "id": "waILHmYS1Idh"
      },
      "outputs": [],
      "source": [
        "class point():\n",
        "  def __init__(self,a=0,b=0):\n",
        "    self.x=a\n",
        "    self.y=b\n",
        "\n",
        "  def translate(self,del_x,del_y):\n",
        "    self.x+=del_x\n",
        "    self.y+=del_y\n",
        "\n",
        "  def distance(self):\n",
        "    d=((self.x)**2+(self.y)**2)**0.5\n",
        "    return d"
      ]
    },
    {
      "cell_type": "code",
      "execution_count": null,
      "metadata": {
        "id": "TbEPW1BWY6Pe"
      },
      "outputs": [],
      "source": [
        "p=point(3,4)\n",
        "q=point(7,10)"
      ]
    },
    {
      "cell_type": "code",
      "execution_count": null,
      "metadata": {
        "colab": {
          "base_uri": "https://localhost:8080/"
        },
        "id": "xRXwQL5qwvkQ",
        "outputId": "0ab7a482-60dd-49fd-c0c4-87c6adc93a7f"
      },
      "outputs": [
        {
          "data": {
            "text/plain": [
              "(5.0, 12.206555615733702)"
            ]
          },
          "execution_count": 48,
          "metadata": {},
          "output_type": "execute_result"
        }
      ],
      "source": [
        "p.distance(),q.distance()"
      ]
    },
    {
      "cell_type": "markdown",
      "metadata": {
        "id": "cJNBesIKdH1F"
      },
      "source": [
        "## **Finding angle(theta):**"
      ]
    },
    {
      "cell_type": "code",
      "execution_count": null,
      "metadata": {
        "id": "eD9Lyt_CZpp9"
      },
      "outputs": [],
      "source": [
        "import math\n",
        "class point:\n",
        "  def __init__(self,a=0,b=0):\n",
        "    self.r=math.sqrt(a*a+b*b)\n",
        "    if a==0:\n",
        "      self.theta=math.pi/2\n",
        "    else:\n",
        "      self.theta=math.atan(b/a)\n",
        "    print(self.theta)\n",
        "\n",
        "  def distance(self):\n",
        "    return self.r\n",
        "\n",
        "  def translate(self,del_x,del_y):\n",
        "    self.x=self.r*math.cos(self.theta)\n",
        "    self.y=self.r*math.sin(self.theta)\n",
        "\n",
        "    self.x+=del_x\n",
        "    self.y+=del_y\n",
        "\n",
        "    #calculating distance\n",
        "    self.r=math.sqrt((self.x)**2+(self.y)**2)\n",
        "\n",
        "    # calculating angle\n",
        "    if self.x==0:\n",
        "      self.theta=math.pi/2\n",
        "    else:\n",
        "      self.theta=math.atan(self.y/self.x)\n",
        "\n",
        "    return (self.x,self.y,self.r,self.theta)\n"
      ]
    },
    {
      "cell_type": "code",
      "execution_count": null,
      "metadata": {
        "colab": {
          "background_save": true,
          "base_uri": "https://localhost:8080/"
        },
        "id": "rfOOSzPkj77-",
        "outputId": "d8f7bc0f-9779-458a-be60-b2d213619a63"
      },
      "outputs": [
        {
          "name": "stdout",
          "output_type": "stream",
          "text": [
            "0.9272952180016122\n",
            "0.960070362405688\n"
          ]
        }
      ],
      "source": [
        "p=point(3,4)\n",
        "q=point(7,10)"
      ]
    },
    {
      "cell_type": "code",
      "execution_count": null,
      "metadata": {
        "id": "xdUUhhFdkV9d",
        "colab": {
          "base_uri": "https://localhost:8080/"
        },
        "outputId": "7362ae46-1932-4203-c0e3-3ff3ab3865a0"
      },
      "outputs": [
        {
          "output_type": "execute_result",
          "data": {
            "text/plain": [
              "((9.0, 10.0, 13.45362404707371, 0.83798122500839),\n",
              " (13.000000000000002, 16.0, 20.615528128088304, 0.8884797719201485))"
            ]
          },
          "metadata": {},
          "execution_count": 55
        }
      ],
      "source": [
        "p.translate(2,2),q.translate(2,2)"
      ]
    },
    {
      "cell_type": "code",
      "source": [
        "print(p.distance(),q.distance())"
      ],
      "metadata": {
        "colab": {
          "base_uri": "https://localhost:8080/"
        },
        "id": "aLTkyoNDzVPW",
        "outputId": "58b8c384-ddd8-4236-df7b-9e6d4bf01bde"
      },
      "execution_count": null,
      "outputs": [
        {
          "output_type": "stream",
          "name": "stdout",
          "text": [
            "13.45362404707371 20.615528128088304\n"
          ]
        }
      ]
    },
    {
      "cell_type": "markdown",
      "metadata": {
        "id": "bVI9fNJfm7Ml"
      },
      "source": [
        "# Lecture-8: Implementation of Python codes -2"
      ]
    },
    {
      "cell_type": "code",
      "execution_count": null,
      "metadata": {
        "id": "hYDdpcmEnCee"
      },
      "outputs": [],
      "source": [
        "class point:\n",
        "  def __init__(self,a=0,b=0):\n",
        "    self.x=a\n",
        "    self.y=b"
      ]
    },
    {
      "cell_type": "code",
      "source": [
        "p=point(3,4)\n",
        "q=point(7,10)"
      ],
      "metadata": {
        "id": "uehpbW820kNw"
      },
      "execution_count": null,
      "outputs": []
    },
    {
      "cell_type": "code",
      "source": [
        "#revisit __str__() and __add__() again"
      ],
      "metadata": {
        "id": "WcnatcBE054-"
      },
      "execution_count": null,
      "outputs": []
    },
    {
      "cell_type": "markdown",
      "source": [
        "# Lecture-9: Timing our code"
      ],
      "metadata": {
        "id": "4E9xbT2d2l1c"
      }
    },
    {
      "cell_type": "markdown",
      "source": [
        "## perf_counter()"
      ],
      "metadata": {
        "id": "E8ixyI6U2rXr"
      }
    },
    {
      "cell_type": "code",
      "source": [
        "import time\n",
        "start=time.perf_counter()\n",
        "L=[]\n",
        "for i in range(5):\n",
        "  L.append(i)\n",
        "end=time.perf_counter()\n",
        "elapsed=end-start\n",
        "print(elapsed)"
      ],
      "metadata": {
        "colab": {
          "base_uri": "https://localhost:8080/"
        },
        "id": "mstLUGO01APv",
        "outputId": "66aba5b8-269e-4301-bfa7-7a858dbafb0a"
      },
      "execution_count": null,
      "outputs": [
        {
          "output_type": "stream",
          "name": "stdout",
          "text": [
            "0.00010190499961026944\n"
          ]
        }
      ]
    },
    {
      "cell_type": "markdown",
      "source": [
        "## Timer class:"
      ],
      "metadata": {
        "id": "7u0tGs9X307n"
      }
    },
    {
      "cell_type": "code",
      "source": [
        "class Timer:\n",
        "  def __init__(self):\n",
        "    self.start_time=0\n",
        "    self.elapsed_time=0\n",
        "\n",
        "  def start(self):\n",
        "    self.start_time=time.perf_counter()\n",
        "\n",
        "  def stop(self):\n",
        "    self.elapsed_time=time.perf_counter()-self.start_time\n",
        "\n",
        "  def elapsed(self):\n",
        "    return self.elapsed_time"
      ],
      "metadata": {
        "id": "uD-N9BGv3Dn_"
      },
      "execution_count": null,
      "outputs": []
    },
    {
      "cell_type": "code",
      "source": [
        "T=Timer()\n",
        "T.start()\n",
        "T.stop()\n",
        "T.elapsed()"
      ],
      "metadata": {
        "colab": {
          "base_uri": "https://localhost:8080/"
        },
        "id": "b3guC9SQ47nv",
        "outputId": "7f84d30b-9563-4a10-b356-d84a361fef7e"
      },
      "execution_count": null,
      "outputs": [
        {
          "output_type": "execute_result",
          "data": {
            "text/plain": [
              "4.399899989948608e-05"
            ]
          },
          "metadata": {},
          "execution_count": 73
        }
      ]
    },
    {
      "cell_type": "markdown",
      "source": [
        "# Lecture-10: Implementation of Python codes -3"
      ],
      "metadata": {
        "id": "gKqXU94Lgxl-"
      }
    },
    {
      "cell_type": "code",
      "source": [
        "def\n"
      ],
      "metadata": {
        "colab": {
          "base_uri": "https://localhost:8080/",
          "height": 106
        },
        "id": "HAqfcvQI5GU_",
        "outputId": "d8863f83-f8a0-4d1d-a8a6-d29da6160dcf"
      },
      "execution_count": null,
      "outputs": [
        {
          "output_type": "error",
          "ename": "SyntaxError",
          "evalue": "incomplete input (<ipython-input-1-ff2a98cb85c6>, line 3)",
          "traceback": [
            "\u001b[0;36m  File \u001b[0;32m\"<ipython-input-1-ff2a98cb85c6>\"\u001b[0;36m, line \u001b[0;32m3\u001b[0m\n\u001b[0;31m    \u001b[0m\n\u001b[0m    ^\u001b[0m\n\u001b[0;31mSyntaxError\u001b[0m\u001b[0;31m:\u001b[0m incomplete input\n"
          ]
        }
      ]
    },
    {
      "cell_type": "markdown",
      "source": [
        "# Lecture-11: Why efficiency matters?"
      ],
      "metadata": {
        "id": "qvGZfkp-vIjv"
      }
    },
    {
      "cell_type": "code",
      "source": [],
      "metadata": {
        "id": "0lop0P_nkPnA"
      },
      "execution_count": null,
      "outputs": []
    },
    {
      "cell_type": "markdown",
      "source": [
        "# GRPA"
      ],
      "metadata": {
        "id": "VpoP4llV6bdd"
      }
    },
    {
      "cell_type": "markdown",
      "source": [
        "## **Q1**\n",
        "\n",
        "Write a function find_Min_Difference(L, P) that accepts a list L of integers and P (positive integer) where the size of L is greater than P. The task is to pick P different elements from the list L, where the difference between the maximum value and the minimum value in selected elements is minimum compared to other differences in possible subset of p elements. The function returns this minimum difference value.\n",
        "Note - The list can contain more than one subset of p elements that have the same minimum difference value.\n",
        "\n",
        "Example\n",
        "\n",
        "Let L = [3, 4, 1, 9, 56, 7, 9, 12, 13] and P = 5\n",
        "\n",
        "If we see the following two subsets of 5 elements from L\n",
        "\n",
        "[3, 4, 7, 9, 9] or [7, 9, 9, 12, 13]\n",
        "\n",
        "Here, the difference between the maximum value and the minimum value in both subset is 9 - 3 = 6 or 13 - 7 = 6 which is minimum. So the output will be 6.\n",
        "\n",
        "Sample Input\n",
        "\n",
        "[3, 4, 1, 9, 56, 7, 9, 12]\n",
        "5\n",
        "Output\n",
        "\n",
        "6"
      ],
      "metadata": {
        "id": "nd2XZxnT6ep-"
      }
    },
    {
      "cell_type": "code",
      "source": [
        "def get_min_difference(L,P):\n",
        "  L=sorted(L)\n",
        "  start=0\n",
        "  end=start+P\n",
        "  difference=100000\n",
        "  while end<=len(L):\n",
        "    subset=L[start:end]\n",
        "    max_min_diff=subset[-1]-subset[0]\n",
        "    if max_min_diff<difference:\n",
        "      difference=max_min_diff\n",
        "    start+=1\n",
        "    end=start+P\n",
        "  return difference"
      ],
      "metadata": {
        "id": "zndBoN1v6dUV"
      },
      "execution_count": null,
      "outputs": []
    },
    {
      "cell_type": "code",
      "source": [
        "L1=[3,4,1,9,56,7,9,12]\n",
        "P1=5\n",
        "#ans:6\n",
        "L2=[3,3,3,3,3,3,3,3,3]\n",
        "P2=4\n",
        "#ans:0\n",
        "L3=[1,2,3,-4,3,2,1,5,-6,7,8,9,10]\n",
        "P3=6\n",
        "#ans:2"
      ],
      "metadata": {
        "id": "EKHGYiPa8SKv"
      },
      "execution_count": null,
      "outputs": []
    },
    {
      "cell_type": "markdown",
      "source": [
        "Public Test cases:"
      ],
      "metadata": {
        "id": "BKc0N3Ss99uR"
      }
    },
    {
      "cell_type": "code",
      "source": [
        "print(get_min_difference(L1,P1))\n",
        "print(get_min_difference(L2,P2))\n",
        "print(get_min_difference(L3,P3))"
      ],
      "metadata": {
        "colab": {
          "base_uri": "https://localhost:8080/"
        },
        "id": "DuOIFjz18kkA",
        "outputId": "21c1366d-080b-4837-a4bd-7d221c81bbbf"
      },
      "execution_count": null,
      "outputs": [
        {
          "output_type": "stream",
          "name": "stdout",
          "text": [
            "6\n",
            "0\n",
            "2\n"
          ]
        }
      ]
    },
    {
      "cell_type": "code",
      "source": [],
      "metadata": {
        "id": "OPwj8GGX9tzx"
      },
      "execution_count": null,
      "outputs": []
    },
    {
      "cell_type": "markdown",
      "source": [
        "# Live coding:"
      ],
      "metadata": {
        "id": "lkknNDqfpTrB"
      }
    },
    {
      "cell_type": "markdown",
      "source": [
        "## Problem-4\n",
        "\n",
        "![image.png](data:image/png;base64,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)"
      ],
      "metadata": {
        "id": "MUmWigd0pZTm"
      }
    },
    {
      "cell_type": "code",
      "source": [
        "def expanding(L):\n",
        "  prev_diff=0\n",
        "  for i in range(1,len(L)):\n",
        "    diff=abs(L[i]-L[i-1])\n",
        "    if diff>prev_diff:\n",
        "      prev_diff=diff\n",
        "    else:\n",
        "      return False\n",
        "  return True"
      ],
      "metadata": {
        "id": "20pTTyiXpWzI"
      },
      "execution_count": 3,
      "outputs": []
    },
    {
      "cell_type": "markdown",
      "source": [
        "Public Test Cases:"
      ],
      "metadata": {
        "id": "xxeSifjTqL1f"
      }
    },
    {
      "cell_type": "code",
      "source": [
        "print(expanding([1,3,7,2,9]))\n",
        "print(expanding([1,3,7,2,-3]))\n",
        "print(expanding([1,3,7,10]))"
      ],
      "metadata": {
        "colab": {
          "base_uri": "https://localhost:8080/"
        },
        "id": "0_lga5SdqBiq",
        "outputId": "eea3a089-c2bf-4886-d9ab-7698ddf1b7da"
      },
      "execution_count": 4,
      "outputs": [
        {
          "output_type": "stream",
          "name": "stdout",
          "text": [
            "True\n",
            "False\n",
            "False\n"
          ]
        }
      ]
    },
    {
      "cell_type": "markdown",
      "source": [
        "## Problem-5\n",
        "![image.png](data:image/png;base64,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)"
      ],
      "metadata": {
        "id": "TJ5Jf2RssFtR"
      }
    },
    {
      "cell_type": "code",
      "source": [
        "def sumsquare(L):\n",
        "  odd=0\n",
        "  even=0\n",
        "  for i in L:\n",
        "    if i%2==0:\n",
        "      even+=i**2\n",
        "    else:\n",
        "      odd+=i**2\n",
        "  return [odd,even]"
      ],
      "metadata": {
        "id": "ptvL6q_3qXxZ"
      },
      "execution_count": 5,
      "outputs": []
    },
    {
      "cell_type": "markdown",
      "source": [
        "Public Test Cases:"
      ],
      "metadata": {
        "id": "PSRvSXPEsik2"
      }
    },
    {
      "cell_type": "code",
      "source": [
        "print(sumsquare([1,3,5]))\n",
        "print(sumsquare([-1,-2,3,7]))\n",
        "print(sumsquare([2,4,6]))"
      ],
      "metadata": {
        "colab": {
          "base_uri": "https://localhost:8080/"
        },
        "id": "KE7uqQDJsgvJ",
        "outputId": "f3d33924-019a-4ce9-c121-25929c417414"
      },
      "execution_count": 6,
      "outputs": [
        {
          "output_type": "stream",
          "name": "stdout",
          "text": [
            "[35, 0]\n",
            "[59, 4]\n",
            "[0, 56]\n"
          ]
        }
      ]
    },
    {
      "cell_type": "code",
      "source": [],
      "metadata": {
        "id": "UgWC0nhiszN6"
      },
      "execution_count": null,
      "outputs": []
    }
  ],
  "metadata": {
    "colab": {
      "collapsed_sections": [
        "dohlEiwBR9lp",
        "xiCFNFKATmIr",
        "fE9cyuBITwh-",
        "q6Wj_zpZfjVf",
        "dlo97CSxrxZb",
        "cJNBesIKdH1F"
      ],
      "toc_visible": true,
      "provenance": [],
      "authorship_tag": "ABX9TyM3iLn32W3CoaGU9b2GabkO",
      "include_colab_link": true
    },
    "kernelspec": {
      "display_name": "Python 3",
      "name": "python3"
    },
    "language_info": {
      "name": "python"
    }
  },
  "nbformat": 4,
  "nbformat_minor": 0
}